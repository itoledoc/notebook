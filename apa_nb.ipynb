{
 "metadata": {
  "signature": "sha256:d6dd57b84f3d4c111a98e58a026434974d922590138e06a58a8b008fbbd7cb45"
 },
 "nbformat": 3,
 "nbformat_minor": 0,
 "worksheets": [
  {
   "cells": [
    {
     "cell_type": "markdown",
     "metadata": {},
     "source": [
      "# Working with APA library"
     ]
    },
    {
     "cell_type": "markdown",
     "metadata": {},
     "source": [
      "# Requirements\n",
      "\n",
      "There is two options to work with the APA library: the good and the ugly.\n",
      "\n",
      "## The good (quick)\n",
      "\n",
      "Log into the *osf-red* machine as `aod` user and load the appropiate environment variables. Then start ipython.\n",
      "\n",
      "```\n",
      "[user@localhost Work] ssh -Y aod@osf-red.aiv.alma.cl\n",
      "    ...\n",
      "[aod@osf-red ~]$ . activateC2Test\n",
      "(anaconda)[aod@osf-red ~]$ ipython\n",
      "\n",
      "```"
     ]
    },
    {
     "cell_type": "code",
     "collapsed": false,
     "input": [
      "import DataBase as db\n",
      "import pandas as pd\n",
      "import seaborn as sns\n",
      "import pylab as py"
     ],
     "language": "python",
     "metadata": {},
     "outputs": [],
     "prompt_number": 1
    },
    {
     "cell_type": "markdown",
     "metadata": {},
     "source": [
      "## Create Database instance.\n",
      "If this is the first time you create this instance in your computer, it will take some time to complete, as it will populate the local \"archive\""
     ]
    },
    {
     "cell_type": "code",
     "collapsed": false,
     "input": [
      "%time datas = db.Database(forcenew=True)"
     ],
     "language": "python",
     "metadata": {},
     "outputs": [
      {
       "output_type": "stream",
       "stream": "stdout",
       "text": [
        "/home/itoledo/.apa/: creating preferences dir\n",
        "1689"
       ]
      },
      {
       "output_type": "stream",
       "stream": "stdout",
       "text": [
        "\n",
        "Downloading Project 2013.1.00834.S obsproject.xml, status Ready. (1/668)\n",
        "Downloading Project 2013.1.00033.S obsproject.xml, status InProgress. (2/668)"
       ]
      },
      {
       "output_type": "stream",
       "stream": "stdout",
       "text": [
        "\n",
        "Downloading Project 2013.1.01268.S obsproject.xml, status Completed. (3/668)"
       ]
      },
      {
       "output_type": "stream",
       "stream": "stdout",
       "text": [
        "\n",
        "Downloading Project 2013.1.01172.S obsproject.xml, status InProgress. (4/668)\n",
        "Downloading Project 2013.1.00195.S obsproject.xml, status InProgress. (5/668)"
       ]
      },
      {
       "output_type": "stream",
       "stream": "stdout",
       "text": [
        "\n",
        "Downloading Project 2013.1.01065.S obsproject.xml, status InProgress. (6/668)"
       ]
      },
      {
       "output_type": "stream",
       "stream": "stdout",
       "text": [
        "\n",
        "Downloading Project 2013.1.00470.S obsproject.xml, status Ready. (7/668)"
       ]
      },
      {
       "output_type": "stream",
       "stream": "stdout",
       "text": [
        "\n",
        "Downloading Project 2013.1.00884.S obsproject.xml, status InProgress. (8/668)"
       ]
      },
      {
       "output_type": "stream",
       "stream": "stdout",
       "text": [
        "\n",
        "Downloading Project 2013.1.01166.S obsproject.xml, status Completed. (9/668)"
       ]
      },
      {
       "output_type": "stream",
       "stream": "stdout",
       "text": [
        "\n",
        "Downloading Project 2013.1.00180.S obsproject.xml, status Ready. (10/668)"
       ]
      },
      {
       "output_type": "stream",
       "stream": "stdout",
       "text": [
        "\n",
        "Downloading Project 2012.1.00474.S obsproject.xml, status InProgress. (11/668)"
       ]
      },
      {
       "output_type": "stream",
       "stream": "stdout",
       "text": [
        "\n",
        "Downloading Project 2012.1.00046.S obsproject.xml, status Completed. (12/668)"
       ]
      },
      {
       "output_type": "stream",
       "stream": "stdout",
       "text": [
        "\n",
        "Copying Project 2013.1.00312.S obsproposal.xml, status Approved. (13/668)\n",
        "Downloading Project 2013.1.00652.S obsproject.xml, status InProgress. (14/668)"
       ]
      },
      {
       "output_type": "stream",
       "stream": "stdout",
       "text": [
        "\n",
        "Downloading Project 2012.1.00602.S obsproject.xml, status Completed. (15/668)"
       ]
      },
      {
       "output_type": "stream",
       "stream": "stdout",
       "text": [
        "\n",
        "Downloading Project 2013.1.00780.S obsproject.xml, status Ready. (16/668)"
       ]
      },
      {
       "output_type": "stream",
       "stream": "stdout",
       "text": [
        "\n",
        "Downloading Project 2013.1.00355.S obsproject.xml, status Ready. (17/668)"
       ]
      },
      {
       "output_type": "stream",
       "stream": "stdout",
       "text": [
        "\n",
        "Downloading Project 2012.1.00320.S obsproject.xml, status InProgress. (18/668)\n",
        "Downloading Project 2012.1.00984.S obsproject.xml, status InProgress. (19/668)"
       ]
      },
      {
       "output_type": "stream",
       "stream": "stdout",
       "text": [
        "\n",
        "Downloading Project 2013.1.00327.S obsproject.xml, status InProgress. (20/668)"
       ]
      },
      {
       "output_type": "stream",
       "stream": "stdout",
       "text": [
        "\n",
        "Downloading Project 2013.1.00287.S obsproject.xml, status InProgress. (21/668)"
       ]
      },
      {
       "output_type": "stream",
       "stream": "stdout",
       "text": [
        "\n",
        "Downloading Project 2013.1.01158.S obsproject.xml, status Ready. (22/668)"
       ]
      },
      {
       "output_type": "stream",
       "stream": "stdout",
       "text": [
        "\n",
        "Downloading Project 2012.1.00185.S obsproject.xml, status Completed. (23/668)\n",
        "Downloading Project 2012.1.00550.S obsproject.xml, status InProgress. (24/668)"
       ]
      },
      {
       "output_type": "stream",
       "stream": "stdout",
       "text": [
        "\n",
        "Downloading Project 2012.1.00435.S obsproject.xml, status Completed. (25/668)"
       ]
      },
      {
       "output_type": "stream",
       "stream": "stdout",
       "text": [
        "\n",
        "Downloading Project 2013.1.00668.S obsproject.xml, status InProgress. (26/668)\n",
        "Downloading Project 2012.1.00377.S obsproject.xml, status InProgress. (27/668)"
       ]
      },
      {
       "output_type": "stream",
       "stream": "stdout",
       "text": [
        "\n",
        "Downloading Project 2012.1.00426.S obsproject.xml, status InProgress. (28/668)"
       ]
      },
      {
       "output_type": "stream",
       "stream": "stdout",
       "text": [
        "\n",
        "Downloading Project 2013.1.00168.S obsproject.xml, status Ready. (29/668)"
       ]
      },
      {
       "output_type": "stream",
       "stream": "stdout",
       "text": [
        "\n",
        "Downloading Project 2013.1.00911.S obsproject.xml, status InProgress. (30/668)\n",
        "Downloading Project 2013.1.00227.S obsproject.xml, status InProgress. (31/668)"
       ]
      },
      {
       "output_type": "stream",
       "stream": "stdout",
       "text": [
        "\n",
        "Downloading Project 2013.1.00659.S obsproject.xml, status Completed. (32/668)"
       ]
      },
      {
       "output_type": "stream",
       "stream": "stdout",
       "text": [
        "\n",
        "Downloading Project 2013.1.00254.S obsproject.xml, status InProgress. (33/668)\n",
        "Downloading Project 2012.1.00973.S obsproject.xml, status InProgress. (34/668)"
       ]
      },
      {
       "output_type": "stream",
       "stream": "stdout",
       "text": [
        "\n",
        "Downloading Project 2012.1.00786.S obsproject.xml, status InProgress. (35/668)"
       ]
      },
      {
       "output_type": "stream",
       "stream": "stdout",
       "text": [
        "\n",
        "Downloading Project 2013.1.00833.S obsproject.xml, status Ready. (36/668)"
       ]
      },
      {
       "output_type": "stream",
       "stream": "stdout",
       "text": [
        "\n",
        "Downloading Project 2013.1.00600.S obsproject.xml, status Phase2Submitted. (37/668)"
       ]
      },
      {
       "output_type": "stream",
       "stream": "stdout",
       "text": [
        "\n",
        "Copying Project 2013.1.00978.S obsproposal.xml, status Approved. (38/668)"
       ]
      },
      {
       "output_type": "stream",
       "stream": "stdout",
       "text": [
        "\n",
        "Downloading Project 2013.1.01258.S obsproject.xml, status InProgress. (39/668)\n",
        "Downloading Project 2013.1.00170.S obsproject.xml, status InProgress. (40/668)"
       ]
      },
      {
       "output_type": "stream",
       "stream": "stdout",
       "text": [
        "\n",
        "Downloading Project 2013.1.01033.S obsproject.xml, status Ready. (41/668)"
       ]
      },
      {
       "output_type": "stream",
       "stream": "stdout",
       "text": [
        "\n",
        "Downloading Project 2013.1.00650.S obsproject.xml, status Ready. (42/668)\n",
        "Downloading Project 2013.1.00902.S obsproject.xml, status InProgress. (43/668)"
       ]
      },
      {
       "output_type": "stream",
       "stream": "stdout",
       "text": [
        "\n",
        "Downloading Project 2013.1.00973.S obsproject.xml, status Ready. (44/668)"
       ]
      },
      {
       "output_type": "stream",
       "stream": "stdout",
       "text": [
        "\n",
        "Downloading Project 2013.1.00988.S obsproject.xml, status Ready. (45/668)"
       ]
      },
      {
       "output_type": "stream",
       "stream": "stdout",
       "text": [
        "\n",
        "Downloading Project 2013.1.00539.S obsproject.xml, status Phase2Submitted. (46/668)"
       ]
      },
      {
       "output_type": "stream",
       "stream": "stdout",
       "text": [
        "\n",
        "Downloading Project 2012.1.00080.S obsproject.xml, status InProgress. (47/668)"
       ]
      },
      {
       "output_type": "stream",
       "stream": "stdout",
       "text": [
        "\n",
        "Downloading Project 2013.1.00058.S obsproject.xml, status InProgress. (48/668)"
       ]
      },
      {
       "output_type": "stream",
       "stream": "stdout",
       "text": [
        "\n",
        "Downloading Project 2013.1.00862.S obsproject.xml, status InProgress. (49/668)"
       ]
      },
      {
       "output_type": "stream",
       "stream": "stdout",
       "text": [
        "\n",
        "Downloading Project 2013.1.00952.S obsproject.xml, status InProgress. (50/668)\n",
        "Downloading Project 2013.1.01139.S obsproject.xml, status Ready. (51/668)"
       ]
      },
      {
       "output_type": "stream",
       "stream": "stdout",
       "text": [
        "\n",
        "Downloading Project 2012.1.00900.S obsproject.xml, status InProgress. (52/668)"
       ]
      },
      {
       "output_type": "stream",
       "stream": "stdout",
       "text": [
        "\n",
        "Downloading Project 2012.1.00173.S obsproject.xml, status InProgress. (53/668)"
       ]
      },
      {
       "output_type": "stream",
       "stream": "stdout",
       "text": [
        "\n",
        "Downloading Project 2013.1.00123.S obsproject.xml, status Ready. (54/668)\n",
        "Downloading Project 2012.1.00437.S obsproject.xml, status InProgress. (55/668)"
       ]
      },
      {
       "output_type": "stream",
       "stream": "stdout",
       "text": [
        "\n",
        "Downloading Project 2012.1.00441.S obsproject.xml, status Completed. (56/668)"
       ]
      },
      {
       "output_type": "stream",
       "stream": "stdout",
       "text": [
        "\n",
        "Downloading Project 2013.1.00157.S obsproject.xml, status Ready. (57/668)\n",
        "Downloading Project 2013.1.00537.S obsproject.xml, status InProgress. (58/668)"
       ]
      },
      {
       "output_type": "stream",
       "stream": "stdout",
       "text": [
        "\n",
        "Downloading Project 2013.1.00034.S obsproject.xml, status InProgress. (59/668)"
       ]
      },
      {
       "output_type": "stream",
       "stream": "stdout",
       "text": [
        "\n",
        "Downloading Project 2013.1.00432.S obsproject.xml, status InProgress. (60/668)"
       ]
      },
      {
       "output_type": "stream",
       "stream": "stdout",
       "text": [
        "\n",
        "Downloading Project 2013.1.00965.S obsproject.xml, status Ready. (61/668)"
       ]
      },
      {
       "output_type": "stream",
       "stream": "stdout",
       "text": [
        "\n",
        "Downloading Project 2013.1.00099.S obsproject.xml, status InProgress. (62/668)"
       ]
      },
      {
       "output_type": "stream",
       "stream": "stdout",
       "text": [
        "\n",
        "Downloading Project 2012.1.00327.S obsproject.xml, status InProgress. (63/668)"
       ]
      },
      {
       "output_type": "stream",
       "stream": "stdout",
       "text": [
        "\n",
        "Downloading Project 2012.1.00647.S obsproject.xml, status Completed. (64/668)\n",
        "Downloading Project 2012.1.00761.S obsproject.xml, status Ready. (65/668)"
       ]
      },
      {
       "output_type": "stream",
       "stream": "stdout",
       "text": [
        "\n",
        "Downloading Project 2012.1.00781.S obsproject.xml, status InProgress. (66/668)\n",
        "Downloading Project 2013.1.00861.S obsproject.xml, status InProgress. (67/668)"
       ]
      },
      {
       "output_type": "stream",
       "stream": "stdout",
       "text": [
        "\n",
        "Downloading Project 2013.1.01075.S obsproject.xml, status Ready. (68/668)\n",
        "Downloading Project 2012.1.00498.S obsproject.xml, status InProgress. (69/668)"
       ]
      },
      {
       "output_type": "stream",
       "stream": "stdout",
       "text": [
        "\n",
        "Downloading Project 2012.1.00139.S obsproject.xml, status InProgress. (70/668)"
       ]
      },
      {
       "output_type": "stream",
       "stream": "stdout",
       "text": [
        "\n",
        "Downloading Project 2013.1.00212.S obsproject.xml, status InProgress. (71/668)"
       ]
      },
      {
       "output_type": "stream",
       "stream": "stdout",
       "text": [
        "\n",
        "Downloading Project 2012.1.00725.S obsproject.xml, status Ready. (72/668)"
       ]
      },
      {
       "output_type": "stream",
       "stream": "stdout",
       "text": [
        "\n",
        "Downloading Project 2013.1.00166.S obsproject.xml, status Ready. (73/668)"
       ]
      },
      {
       "output_type": "stream",
       "stream": "stdout",
       "text": [
        "\n",
        "Downloading Project 2012.1.00539.S obsproject.xml, status Completed. (74/668)"
       ]
      },
      {
       "output_type": "stream",
       "stream": "stdout",
       "text": [
        "\n",
        "Downloading Project 2013.1.01051.S obsproject.xml, status InProgress. (75/668)"
       ]
      },
      {
       "output_type": "stream",
       "stream": "stdout",
       "text": [
        "\n",
        "Downloading Project 2013.1.00760.S obsproject.xml, status InProgress. (76/668)"
       ]
      },
      {
       "output_type": "stream",
       "stream": "stdout",
       "text": [
        "\n",
        "Downloading Project 2013.1.00404.S obsproject.xml, status Ready. (77/668)\n",
        "Downloading Project 2013.1.00601.S obsproject.xml, status Ready. (78/668)"
       ]
      },
      {
       "output_type": "stream",
       "stream": "stdout",
       "text": [
        "\n",
        "Downloading Project 2013.1.00403.S obsproject.xml, status InProgress. (79/668)\n",
        "Downloading Project 2013.1.00446.S obsproject.xml, status Phase2Submitted. (80/668)"
       ]
      },
      {
       "output_type": "stream",
       "stream": "stdout",
       "text": [
        "\n",
        "Downloading Project 2012.1.00075.S obsproject.xml, status InProgress. (81/668)"
       ]
      },
      {
       "output_type": "stream",
       "stream": "stdout",
       "text": [
        "\n",
        "Downloading Project 2012.1.00496.S obsproject.xml, status InProgress. (82/668)"
       ]
      },
      {
       "output_type": "stream",
       "stream": "stdout",
       "text": [
        "\n",
        "Downloading Project 2013.1.00296.S obsproject.xml, status Ready. (83/668)"
       ]
      },
      {
       "output_type": "stream",
       "stream": "stdout",
       "text": [
        "\n",
        "Downloading Project 2013.1.00226.S obsproject.xml, status InProgress. (84/668)"
       ]
      },
      {
       "output_type": "stream",
       "stream": "stdout",
       "text": [
        "\n",
        "Downloading Project 2013.1.00020.S obsproject.xml, status InProgress. (85/668)"
       ]
      },
      {
       "output_type": "stream",
       "stream": "stdout",
       "text": [
        "\n",
        "Downloading Project 2012.1.00641.S obsproject.xml, status InProgress. (86/668)"
       ]
      },
      {
       "output_type": "stream",
       "stream": "stdout",
       "text": [
        "\n",
        "Downloading Project 2013.1.01312.S obsproject.xml, status InProgress. (87/668)"
       ]
      },
      {
       "output_type": "stream",
       "stream": "stdout",
       "text": [
        "\n",
        "Downloading Project 2012.1.00978.S obsproject.xml, status InProgress. (88/668)"
       ]
      },
      {
       "output_type": "stream",
       "stream": "stdout",
       "text": [
        "\n",
        "Downloading Project 2013.1.00582.S obsproject.xml, status Ready. (89/668)"
       ]
      },
      {
       "output_type": "stream",
       "stream": "stdout",
       "text": [
        "\n",
        "Downloading Project 2012.1.00979.S obsproject.xml, status InProgress. (90/668)"
       ]
      },
      {
       "output_type": "stream",
       "stream": "stdout",
       "text": [
        "\n",
        "Downloading Project 2013.1.00437.S obsproject.xml, status InProgress. (91/668)"
       ]
      },
      {
       "output_type": "stream",
       "stream": "stdout",
       "text": [
        "\n",
        "Downloading Project 2012.1.00285.S obsproject.xml, status InProgress. (92/668)"
       ]
      },
      {
       "output_type": "stream",
       "stream": "stdout",
       "text": [
        "\n",
        "Downloading Project 2012.1.00596.S obsproject.xml, status InProgress. (93/668)"
       ]
      },
      {
       "output_type": "stream",
       "stream": "stdout",
       "text": [
        "\n",
        "Downloading Project 2013.1.01225.S obsproject.xml, status Ready. (94/668)"
       ]
      },
      {
       "output_type": "stream",
       "stream": "stdout",
       "text": [
        "\n",
        "Downloading Project 2012.1.00812.S obsproject.xml, status Ready. (95/668)"
       ]
      },
      {
       "output_type": "stream",
       "stream": "stdout",
       "text": [
        "\n",
        "Downloading Project 2013.1.00576.S obsproject.xml, status InProgress. (96/668)"
       ]
      },
      {
       "output_type": "stream",
       "stream": "stdout",
       "text": [
        "\n",
        "Downloading Project 2013.1.01153.S obsproject.xml, status InProgress. (97/668)"
       ]
      },
      {
       "output_type": "stream",
       "stream": "stdout",
       "text": [
        "\n",
        "Downloading Project 2012.1.00945.S obsproject.xml, status InProgress. (98/668)"
       ]
      },
      {
       "output_type": "stream",
       "stream": "stdout",
       "text": [
        "\n",
        "Downloading Project 2013.1.01061.S obsproject.xml, status Completed. (99/668)\n",
        "Downloading Project 2012.1.00657.S obsproject.xml, status InProgress. (100/668)"
       ]
      },
      {
       "output_type": "stream",
       "stream": "stdout",
       "text": [
        "\n",
        "Downloading Project 2012.1.01000.S obsproject.xml, status Completed. (101/668)"
       ]
      },
      {
       "output_type": "stream",
       "stream": "stdout",
       "text": [
        "\n",
        "Downloading Project 2013.1.00349.S obsproject.xml, status Ready. (102/668)"
       ]
      },
      {
       "output_type": "stream",
       "stream": "stdout",
       "text": [
        "\n",
        "Downloading Project 2013.1.00591.S obsproject.xml, status Ready. (103/668)\n",
        "Downloading Project 2012.1.00940.S obsproject.xml, status InProgress. (104/668)"
       ]
      },
      {
       "output_type": "stream",
       "stream": "stdout",
       "text": [
        "\n",
        "Downloading Project 2013.1.01358.S obsproject.xml, status InProgress. (105/668)"
       ]
      },
      {
       "output_type": "stream",
       "stream": "stdout",
       "text": [
        "\n",
        "Downloading Project 2013.1.00498.S obsproject.xml, status Ready. (106/668)"
       ]
      },
      {
       "output_type": "stream",
       "stream": "stdout",
       "text": [
        "\n",
        "Downloading Project 2012.1.00628.T obsproject.xml, status InProgress. (107/668)"
       ]
      },
      {
       "output_type": "stream",
       "stream": "stdout",
       "text": [
        "\n",
        "Downloading Project 2013.1.00639.S obsproject.xml, status InProgress. (108/668)"
       ]
      },
      {
       "output_type": "stream",
       "stream": "stdout",
       "text": [
        "\n",
        "Downloading Project 2012.1.00623.S obsproject.xml, status Ready. (109/668)"
       ]
      },
      {
       "output_type": "stream",
       "stream": "stdout",
       "text": [
        "\n",
        "Downloading Project 2012.1.00034.S obsproject.xml, status InProgress. (110/668)"
       ]
      },
      {
       "output_type": "stream",
       "stream": "stdout",
       "text": [
        "\n",
        "Downloading Project 2012.1.00336.S obsproject.xml, status Completed. (111/668)"
       ]
      },
      {
       "output_type": "stream",
       "stream": "stdout",
       "text": [
        "\n",
        "Downloading Project 2012.1.00870.S obsproject.xml, status InProgress. (112/668)"
       ]
      },
      {
       "output_type": "stream",
       "stream": "stdout",
       "text": [
        "\n",
        "Downloading Project 2013.1.01342.S obsproject.xml, status InProgress. (113/668)"
       ]
      },
      {
       "output_type": "stream",
       "stream": "stdout",
       "text": [
        "\n",
        "Downloading Project 2012.1.00482.S obsproject.xml, status InProgress. (114/668)"
       ]
      },
      {
       "output_type": "stream",
       "stream": "stdout",
       "text": [
        "\n",
        "Downloading Project 2013.1.00276.S obsproject.xml, status InProgress. (115/668)\n",
        "Downloading Project 2012.1.00650.S obsproject.xml, status InProgress. (116/668)"
       ]
      },
      {
       "output_type": "stream",
       "stream": "stdout",
       "text": [
        "\n",
        "Downloading Project 2012.1.00142.S obsproject.xml, status InProgress. (117/668)"
       ]
      },
      {
       "output_type": "stream",
       "stream": "stdout",
       "text": [
        "\n",
        "Downloading Project 2012.1.00225.S obsproject.xml, status Completed. (118/668)"
       ]
      },
      {
       "output_type": "stream",
       "stream": "stdout",
       "text": [
        "\n",
        "Downloading Project 2013.1.00812.S obsproject.xml, status Ready. (119/668)"
       ]
      },
      {
       "output_type": "stream",
       "stream": "stdout",
       "text": [
        "\n",
        "Downloading Project 2013.1.00361.S obsproject.xml, status Ready. (120/668)"
       ]
      },
      {
       "output_type": "stream",
       "stream": "stdout",
       "text": [
        "\n",
        "Downloading Project 2013.1.00328.S obsproject.xml, status InProgress. (121/668)"
       ]
      },
      {
       "output_type": "stream",
       "stream": "stdout",
       "text": [
        "\n",
        "Downloading Project 2013.1.00975.S obsproject.xml, status Ready. (122/668)"
       ]
      },
      {
       "output_type": "stream",
       "stream": "stdout",
       "text": [
        "\n",
        "Downloading Project 2013.1.00269.S obsproject.xml, status InProgress. (123/668)\n",
        "Copying Project 2013.1.01200.S obsproposal.xml, status Approved. (124/668)"
       ]
      },
      {
       "output_type": "stream",
       "stream": "stdout",
       "text": [
        "\n",
        "Downloading Project 2012.1.00501.S obsproject.xml, status InProgress. (125/668)"
       ]
      },
      {
       "output_type": "stream",
       "stream": "stdout",
       "text": [
        "\n",
        "Downloading Project 2013.1.00032.S obsproject.xml, status InProgress. (126/668)"
       ]
      },
      {
       "output_type": "stream",
       "stream": "stdout",
       "text": [
        "\n",
        "Downloading Project 2013.1.00211.S obsproject.xml, status InProgress. (127/668)"
       ]
      },
      {
       "output_type": "stream",
       "stream": "stdout",
       "text": [
        "\n",
        "Downloading Project 2013.1.00502.S obsproject.xml, status InProgress. (128/668)\n",
        "Copying Project 2013.1.00940.S obsproposal.xml, status Approved. (129/668)"
       ]
      },
      {
       "output_type": "stream",
       "stream": "stdout",
       "text": [
        "\n",
        "Downloading Project 2013.1.00885.S obsproject.xml, status InProgress. (130/668)"
       ]
      },
      {
       "output_type": "stream",
       "stream": "stdout",
       "text": [
        "\n",
        "Downloading Project 2013.1.01292.S obsproject.xml, status Completed. (131/668)"
       ]
      },
      {
       "output_type": "stream",
       "stream": "stdout",
       "text": [
        "\n",
        "Downloading Project 2013.1.00994.S obsproject.xml, status Ready. (132/668)"
       ]
      },
      {
       "output_type": "stream",
       "stream": "stdout",
       "text": [
        "\n",
        "Downloading Project 2013.1.00966.S obsproject.xml, status Ready. (133/668)"
       ]
      },
      {
       "output_type": "stream",
       "stream": "stdout",
       "text": [
        "\n",
        "Downloading Project 2012.1.00245.S obsproject.xml, status InProgress. (134/668)"
       ]
      },
      {
       "output_type": "stream",
       "stream": "stdout",
       "text": [
        "\n",
        "Downloading Project 2013.1.00645.S obsproject.xml, status InProgress. (135/668)"
       ]
      },
      {
       "output_type": "stream",
       "stream": "stdout",
       "text": [
        "\n",
        "Downloading Project 2013.1.01037.S obsproject.xml, status Ready. (136/668)\n",
        "Downloading Project 2012.1.00123.S obsproject.xml, status InProgress. (137/668)"
       ]
      },
      {
       "output_type": "stream",
       "stream": "stdout",
       "text": [
        "\n",
        "Copying Project 2013.1.00801.S obsproposal.xml, status Approved. (138/668)"
       ]
      },
      {
       "output_type": "stream",
       "stream": "stdout",
       "text": [
        "\n",
        "Downloading Project 2013.1.01305.S obsproject.xml, status InProgress. (139/668)"
       ]
      },
      {
       "output_type": "stream",
       "stream": "stdout",
       "text": [
        "\n",
        "Downloading Project 2013.1.00474.S obsproject.xml, status Ready. (140/668)"
       ]
      },
      {
       "output_type": "stream",
       "stream": "stdout",
       "text": [
        "\n",
        "Downloading Project 2013.1.00663.S obsproject.xml, status InProgress. (141/668)"
       ]
      },
      {
       "output_type": "stream",
       "stream": "stdout",
       "text": [
        "\n",
        "Downloading Project 2012.1.00077.S obsproject.xml, status Ready. (142/668)"
       ]
      },
      {
       "output_type": "stream",
       "stream": "stdout",
       "text": [
        "\n",
        "Downloading Project 2012.1.00240.S obsproject.xml, status InProgress. (143/668)"
       ]
      },
      {
       "output_type": "stream",
       "stream": "stdout",
       "text": [
        "\n",
        "Downloading Project 2013.1.00096.S obsproject.xml, status InProgress. (144/668)"
       ]
      },
      {
       "output_type": "stream",
       "stream": "stdout",
       "text": [
        "\n",
        "Downloading Project 2012.1.00621.S obsproject.xml, status InProgress. (145/668)"
       ]
      },
      {
       "output_type": "stream",
       "stream": "stdout",
       "text": [
        "\n",
        "Downloading Project 2013.1.00266.S obsproject.xml, status InProgress. (146/668)"
       ]
      },
      {
       "output_type": "stream",
       "stream": "stdout",
       "text": [
        "\n",
        "Copying Project 2013.1.01132.S obsproposal.xml, status Approved. (147/668)"
       ]
      },
      {
       "output_type": "stream",
       "stream": "stdout",
       "text": [
        "\n",
        "Downloading Project 2012.1.00182.S obsproject.xml, status Ready. (148/668)"
       ]
      },
      {
       "output_type": "stream",
       "stream": "stdout",
       "text": [
        "\n",
        "Downloading Project 2013.1.01178.S obsproject.xml, status InProgress. (149/668)\n",
        "Downloading Project 2012.1.00784.S obsproject.xml, status InProgress. (150/668)"
       ]
      },
      {
       "output_type": "stream",
       "stream": "stdout",
       "text": [
        "\n",
        "Copying Project 2013.1.00136.S obsproposal.xml, status Approved. (151/668)"
       ]
      },
      {
       "output_type": "stream",
       "stream": "stdout",
       "text": [
        "\n",
        "Downloading Project 2013.1.00156.S obsproject.xml, status Ready. (152/668)\n",
        "Downloading Project 2013.1.00781.S obsproject.xml, status Ready. (153/668)"
       ]
      },
      {
       "output_type": "stream",
       "stream": "stdout",
       "text": [
        "\n",
        "Downloading Project 2013.1.00199.S obsproject.xml, status Ready. (154/668)"
       ]
      },
      {
       "output_type": "stream",
       "stream": "stdout",
       "text": [
        "\n",
        "Downloading Project 2013.1.00481.S obsproject.xml, status InProgress. (155/668)"
       ]
      },
      {
       "output_type": "stream",
       "stream": "stdout",
       "text": [
        "\n",
        "Downloading Project 2013.1.00937.S obsproject.xml, status Phase2Submitted. (156/668)"
       ]
      },
      {
       "output_type": "stream",
       "stream": "stdout",
       "text": [
        "\n",
        "Downloading Project 2013.1.00350.S obsproject.xml, status Ready. (157/668)"
       ]
      },
      {
       "output_type": "stream",
       "stream": "stdout",
       "text": [
        "\n",
        "Downloading Project 2013.1.00146.S obsproject.xml, status InProgress. (158/668)"
       ]
      },
      {
       "output_type": "stream",
       "stream": "stdout",
       "text": [
        "\n",
        "Downloading Project 2013.1.00338.S obsproject.xml, status Ready. (159/668)"
       ]
      },
      {
       "output_type": "stream",
       "stream": "stdout",
       "text": [
        "\n",
        "Downloading Project 2013.1.00773.S obsproject.xml, status InProgress. (160/668)"
       ]
      },
      {
       "output_type": "stream",
       "stream": "stdout",
       "text": [
        "\n",
        "Downloading Project 2013.1.00578.S obsproject.xml, status Phase2Submitted. (161/668)"
       ]
      },
      {
       "output_type": "stream",
       "stream": "stdout",
       "text": [
        "\n",
        "Downloading Project 2013.1.01368.S obsproject.xml, status Ready. (162/668)"
       ]
      },
      {
       "output_type": "stream",
       "stream": "stdout",
       "text": [
        "\n",
        "Downloading Project 2013.1.00664.S obsproject.xml, status Ready. (163/668)\n",
        "Downloading Project 2012.1.01099.S obsproject.xml, status InProgress. (164/668)"
       ]
      },
      {
       "output_type": "stream",
       "stream": "stdout",
       "text": [
        "\n",
        "Downloading Project 2013.1.00584.S obsproject.xml, status InProgress. (165/668)"
       ]
      },
      {
       "output_type": "stream",
       "stream": "stdout",
       "text": [
        "\n",
        "Downloading Project 2013.1.00385.S obsproject.xml, status InProgress. (166/668)"
       ]
      },
      {
       "output_type": "stream",
       "stream": "stdout",
       "text": [
        "\n",
        "Downloading Project 2013.1.01295.S obsproject.xml, status Ready. (167/668)"
       ]
      },
      {
       "output_type": "stream",
       "stream": "stdout",
       "text": [
        "\n",
        "Downloading Project 2012.1.00175.S obsproject.xml, status InProgress. (168/668)"
       ]
      },
      {
       "output_type": "stream",
       "stream": "stdout",
       "text": [
        "\n",
        "Downloading Project 2013.1.00458.S obsproject.xml, status Ready. (169/668)"
       ]
      },
      {
       "output_type": "stream",
       "stream": "stdout",
       "text": [
        "\n",
        "Downloading Project 2013.1.01383.S obsproject.xml, status InProgress. (170/668)"
       ]
      },
      {
       "output_type": "stream",
       "stream": "stdout",
       "text": [
        "\n",
        "Copying Project 2013.1.00615.S obsproposal.xml, status Approved. (171/668)"
       ]
      },
      {
       "output_type": "stream",
       "stream": "stdout",
       "text": [
        "\n",
        "Downloading Project 2013.1.00356.S obsproject.xml, status InProgress. (172/668)"
       ]
      },
      {
       "output_type": "stream",
       "stream": "stdout",
       "text": [
        "\n",
        "Downloading Project 2013.1.00694.S obsproject.xml, status InProgress. (173/668)"
       ]
      },
      {
       "output_type": "stream",
       "stream": "stdout",
       "text": [
        "\n",
        "Downloading Project 2013.1.00039.S obsproject.xml, status InProgress. (174/668)"
       ]
      },
      {
       "output_type": "stream",
       "stream": "stdout",
       "text": [
        "\n",
        "Downloading Project 2013.1.00527.S obsproject.xml, status Ready. (175/668)"
       ]
      },
      {
       "output_type": "stream",
       "stream": "stdout",
       "text": [
        "\n",
        "Copying Project 2013.1.01039.S obsproposal.xml, status Approved. (176/668)"
       ]
      },
      {
       "output_type": "stream",
       "stream": "stdout",
       "text": [
        "\n",
        "Downloading Project 2013.1.00183.S obsproject.xml, status Ready. (177/668)"
       ]
      },
      {
       "output_type": "stream",
       "stream": "stdout",
       "text": [
        "\n",
        "Downloading Project 2013.1.00332.S obsproject.xml, status InProgress. (178/668)"
       ]
      },
      {
       "output_type": "stream",
       "stream": "stdout",
       "text": [
        "\n",
        "Downloading Project 2013.1.00814.S obsproject.xml, status Ready. (179/668)"
       ]
      },
      {
       "output_type": "stream",
       "stream": "stdout",
       "text": [
        "\n",
        "Downloading Project 2012.1.00769.S obsproject.xml, status InProgress. (180/668)"
       ]
      },
      {
       "output_type": "stream",
       "stream": "stdout",
       "text": [
        "\n",
        "Downloading Project 2013.1.00387.S obsproject.xml, status Ready. (181/668)"
       ]
      },
      {
       "output_type": "stream",
       "stream": "stdout",
       "text": [
        "\n",
        "Downloading Project 2013.1.00216.S obsproject.xml, status Ready. (182/668)"
       ]
      },
      {
       "output_type": "stream",
       "stream": "stdout",
       "text": [
        "\n",
        "Downloading Project 2013.1.00236.S obsproject.xml, status Phase2Submitted. (183/668)"
       ]
      },
      {
       "output_type": "stream",
       "stream": "stdout",
       "text": [
        "\n",
        "Downloading Project 2013.1.00126.S obsproject.xml, status InProgress. (184/668)"
       ]
      },
      {
       "output_type": "stream",
       "stream": "stdout",
       "text": [
        "\n",
        "Downloading Project 2013.1.01195.S obsproject.xml, status InProgress. (185/668)"
       ]
      },
      {
       "output_type": "stream",
       "stream": "stdout",
       "text": [
        "\n",
        "Downloading Project 2012.1.00165.S obsproject.xml, status InProgress. (186/668)"
       ]
      },
      {
       "output_type": "stream",
       "stream": "stdout",
       "text": [
        "\n",
        "Downloading Project 2012.1.00187.S obsproject.xml, status InProgress. (187/668)"
       ]
      },
      {
       "output_type": "stream",
       "stream": "stdout",
       "text": [
        "\n",
        "Downloading Project 2012.1.00729.S obsproject.xml, status Completed. (188/668)"
       ]
      },
      {
       "output_type": "stream",
       "stream": "stdout",
       "text": [
        "\n",
        "Downloading Project 2012.1.00033.S obsproject.xml, status Ready. (189/668)"
       ]
      },
      {
       "output_type": "stream",
       "stream": "stdout",
       "text": [
        "\n",
        "Downloading Project 2012.1.00584.T obsproject.xml, status InProgress. (190/668)"
       ]
      },
      {
       "output_type": "stream",
       "stream": "stdout",
       "text": [
        "\n",
        "Downloading Project 2013.1.00362.S obsproject.xml, status InProgress. (191/668)"
       ]
      },
      {
       "output_type": "stream",
       "stream": "stdout",
       "text": [
        "\n",
        "Downloading Project 2013.1.00279.S obsproject.xml, status InProgress. (192/668)"
       ]
      },
      {
       "output_type": "stream",
       "stream": "stdout",
       "text": [
        "\n",
        "Downloading Project 2013.1.00874.S obsproject.xml, status Phase2Submitted. (193/668)"
       ]
      },
      {
       "output_type": "stream",
       "stream": "stdout",
       "text": [
        "\n",
        "Downloading Project 2013.1.00745.S obsproject.xml, status InProgress. (194/668)"
       ]
      },
      {
       "output_type": "stream",
       "stream": "stdout",
       "text": [
        "\n",
        "Downloading Project 2013.1.00062.S obsproject.xml, status Phase2Submitted. (195/668)"
       ]
      },
      {
       "output_type": "stream",
       "stream": "stdout",
       "text": [
        "\n",
        "Downloading Project 2012.1.01011.S obsproject.xml, status InProgress. (196/668)"
       ]
      },
      {
       "output_type": "stream",
       "stream": "stdout",
       "text": [
        "\n",
        "Downloading Project 2012.1.00882.S obsproject.xml, status InProgress. (197/668)"
       ]
      },
      {
       "output_type": "stream",
       "stream": "stdout",
       "text": [
        "\n",
        "Downloading Project 2013.1.00858.S obsproject.xml, status Ready. (198/668)"
       ]
      },
      {
       "output_type": "stream",
       "stream": "stdout",
       "text": [
        "\n",
        "Downloading Project 2013.1.01142.S obsproject.xml, status InProgress. (199/668)"
       ]
      },
      {
       "output_type": "stream",
       "stream": "stdout",
       "text": [
        "\n",
        "Downloading Project 2012.1.00133.S obsproject.xml, status InProgress. (200/668)"
       ]
      },
      {
       "output_type": "stream",
       "stream": "stdout",
       "text": [
        "\n",
        "Downloading Project 2013.1.00162.S obsproject.xml, status Completed. (201/668)"
       ]
      },
      {
       "output_type": "stream",
       "stream": "stdout",
       "text": [
        "\n",
        "Downloading Project 2012.1.01029.S obsproject.xml, status InProgress. (202/668)"
       ]
      },
      {
       "output_type": "stream",
       "stream": "stdout",
       "text": [
        "\n",
        "Downloading Project 2012.1.00321.S obsproject.xml, status Ready. (203/668)"
       ]
      },
      {
       "output_type": "stream",
       "stream": "stdout",
       "text": [
        "\n",
        "Downloading Project 2012.1.01057.S obsproject.xml, status Ready. (204/668)"
       ]
      },
      {
       "output_type": "stream",
       "stream": "stdout",
       "text": [
        "\n",
        "Downloading Project 2012.1.00037.S obsproject.xml, status Completed. (205/668)"
       ]
      },
      {
       "output_type": "stream",
       "stream": "stdout",
       "text": [
        "\n",
        "Downloading Project 2013.1.00602.S obsproject.xml, status Phase2Submitted. (206/668)"
       ]
      },
      {
       "output_type": "stream",
       "stream": "stdout",
       "text": [
        "\n",
        "Downloading Project 2013.1.01070.S obsproject.xml, status Ready. (207/668)"
       ]
      },
      {
       "output_type": "stream",
       "stream": "stdout",
       "text": [
        "\n",
        "Downloading Project 2013.1.00735.S obsproject.xml, status Ready. (208/668)"
       ]
      },
      {
       "output_type": "stream",
       "stream": "stdout",
       "text": [
        "\n",
        "Downloading Project 2013.1.00100.S obsproject.xml, status InProgress. (209/668)"
       ]
      },
      {
       "output_type": "stream",
       "stream": "stdout",
       "text": [
        "\n",
        "Downloading Project 2013.1.00634.S obsproject.xml, status InProgress. (210/668)"
       ]
      },
      {
       "output_type": "stream",
       "stream": "stdout",
       "text": [
        "\n",
        "Downloading Project 2013.1.00752.S obsproject.xml, status Ready. (211/668)"
       ]
      },
      {
       "output_type": "stream",
       "stream": "stdout",
       "text": [
        "\n",
        "Downloading Project 2013.1.00286.S obsproject.xml, status Ready. (212/668)"
       ]
      },
      {
       "output_type": "stream",
       "stream": "stdout",
       "text": [
        "\n",
        "Downloading Project 2013.1.00519.S obsproject.xml, status Ready. (213/668)"
       ]
      },
      {
       "output_type": "stream",
       "stream": "stdout",
       "text": [
        "\n",
        "Downloading Project 2013.1.00159.S obsproject.xml, status InProgress. (214/668)"
       ]
      },
      {
       "output_type": "stream",
       "stream": "stdout",
       "text": [
        "\n",
        "Downloading Project 2013.1.00890.S obsproject.xml, status Ready. (215/668)"
       ]
      },
      {
       "output_type": "stream",
       "stream": "stdout",
       "text": [
        "\n",
        "Downloading Project 2013.1.00889.S obsproject.xml, status Ready. (216/668)"
       ]
      },
      {
       "output_type": "stream",
       "stream": "stdout",
       "text": [
        "\n",
        "Copying Project 2013.1.00015.S obsproposal.xml, status Approved. (217/668)"
       ]
      },
      {
       "output_type": "stream",
       "stream": "stdout",
       "text": [
        "\n",
        "Downloading Project 2013.1.00783.S obsproject.xml, status InProgress. (218/668)\n",
        "Copying Project 2013.1.01187.S obsproposal.xml, status Approved. (219/668)"
       ]
      },
      {
       "output_type": "stream",
       "stream": "stdout",
       "text": [
        "\n",
        "Downloading Project 2012.1.00635.S obsproject.xml, status Completed. (220/668)"
       ]
      },
      {
       "output_type": "stream",
       "stream": "stdout",
       "text": [
        "\n",
        "Downloading Project 2013.1.00248.S obsproject.xml, status Ready. (221/668)"
       ]
      },
      {
       "output_type": "stream",
       "stream": "stdout",
       "text": [
        "\n",
        "Copying Project 2013.1.00684.S obsproposal.xml, status Approved. (222/668)\n",
        "Downloading Project 2013.1.01058.S obsproject.xml, status InProgress. (223/668)"
       ]
      },
      {
       "output_type": "stream",
       "stream": "stdout",
       "text": [
        "\n",
        "Downloading Project 2013.1.00967.S obsproject.xml, status InProgress. (224/668)"
       ]
      },
      {
       "output_type": "stream",
       "stream": "stdout",
       "text": [
        "\n",
        "Downloading Project 2013.1.01274.S obsproject.xml, status Ready. (225/668)"
       ]
      },
      {
       "output_type": "stream",
       "stream": "stdout",
       "text": [
        "\n",
        "Downloading Project 2013.1.00806.S obsproject.xml, status InProgress. (226/668)"
       ]
      },
      {
       "output_type": "stream",
       "stream": "stdout",
       "text": [
        "\n",
        "Copying Project 2013.1.00556.S obsproposal.xml, status Approved. (227/668)"
       ]
      },
      {
       "output_type": "stream",
       "stream": "stdout",
       "text": [
        "\n",
        "Downloading Project 2013.1.01397.S obsproject.xml, status Ready. (228/668)\n",
        "Copying Project 2013.1.00597.S obsproposal.xml, status Approved. (229/668)"
       ]
      },
      {
       "output_type": "stream",
       "stream": "stdout",
       "text": [
        "\n",
        "Downloading Project 2013.1.00817.S obsproject.xml, status Phase2Submitted. (230/668)"
       ]
      },
      {
       "output_type": "stream",
       "stream": "stdout",
       "text": [
        "\n",
        "Downloading Project 2013.1.00450.S obsproject.xml, status InProgress. (231/668)"
       ]
      },
      {
       "output_type": "stream",
       "stream": "stdout",
       "text": [
        "\n",
        "Downloading Project 2013.1.00824.S obsproject.xml, status InProgress. (232/668)"
       ]
      },
      {
       "output_type": "stream",
       "stream": "stdout",
       "text": [
        "\n",
        "Downloading Project 2013.1.01119.S obsproject.xml, status InProgress. (233/668)"
       ]
      },
      {
       "output_type": "stream",
       "stream": "stdout",
       "text": [
        "\n",
        "Downloading Project 2012.1.00304.S obsproject.xml, status InProgress. (234/668)"
       ]
      },
      {
       "output_type": "stream",
       "stream": "stdout",
       "text": [
        "\n",
        "Downloading Project 2012.1.00303.S obsproject.xml, status InProgress. (235/668)"
       ]
      },
      {
       "output_type": "stream",
       "stream": "stdout",
       "text": [
        "\n",
        "Downloading Project 2013.1.00221.S obsproject.xml, status InProgress. (236/668)"
       ]
      },
      {
       "output_type": "stream",
       "stream": "stdout",
       "text": [
        "\n",
        "Downloading Project 2012.1.00374.S obsproject.xml, status InProgress. (237/668)"
       ]
      },
      {
       "output_type": "stream",
       "stream": "stdout",
       "text": [
        "\n",
        "Downloading Project 2012.1.00756.S obsproject.xml, status Completed. (238/668)"
       ]
      },
      {
       "output_type": "stream",
       "stream": "stdout",
       "text": [
        "\n",
        "Copying Project 2013.1.00448.S obsproposal.xml, status Approved. (239/668)"
       ]
      },
      {
       "output_type": "stream",
       "stream": "stdout",
       "text": [
        "\n",
        "Downloading Project 2013.1.00352.S obsproject.xml, status InProgress. (240/668)"
       ]
      },
      {
       "output_type": "stream",
       "stream": "stdout",
       "text": [
        "\n",
        "Downloading Project 2013.1.01014.S obsproject.xml, status InProgress. (241/668)"
       ]
      },
      {
       "output_type": "stream",
       "stream": "stdout",
       "text": [
        "\n",
        "Downloading Project 2013.1.00393.S obsproject.xml, status Ready. (242/668)"
       ]
      },
      {
       "output_type": "stream",
       "stream": "stdout",
       "text": [
        "\n",
        "Downloading Project 2013.1.01102.S obsproject.xml, status InProgress. (243/668)"
       ]
      },
      {
       "output_type": "stream",
       "stream": "stdout",
       "text": [
        "\n",
        "Downloading Project 2013.1.00351.S obsproject.xml, status InProgress. (244/668)"
       ]
      },
      {
       "output_type": "stream",
       "stream": "stdout",
       "text": [
        "\n",
        "Copying Project 2013.1.00070.S obsproposal.xml, status Approved. (245/668)"
       ]
      },
      {
       "output_type": "stream",
       "stream": "stdout",
       "text": [
        "\n",
        "Downloading Project 2013.1.00462.S obsproject.xml, status InProgress. (246/668)"
       ]
      },
      {
       "output_type": "stream",
       "stream": "stdout",
       "text": [
        "\n",
        "Downloading Project 2013.1.00366.S obsproject.xml, status Completed. (247/668)"
       ]
      },
      {
       "output_type": "stream",
       "stream": "stdout",
       "text": [
        "\n",
        "Downloading Project 2013.1.00513.S obsproject.xml, status Ready. (248/668)"
       ]
      },
      {
       "output_type": "stream",
       "stream": "stdout",
       "text": [
        "\n",
        "Downloading Project 2013.1.00505.S obsproject.xml, status Phase2Submitted. (249/668)"
       ]
      },
      {
       "output_type": "stream",
       "stream": "stdout",
       "text": [
        "\n",
        "Downloading Project 2012.1.00108.S obsproject.xml, status InProgress. (250/668)"
       ]
      },
      {
       "output_type": "stream",
       "stream": "stdout",
       "text": [
        "\n",
        "Downloading Project 2013.1.00487.S obsproject.xml, status Completed. (251/668)"
       ]
      },
      {
       "output_type": "stream",
       "stream": "stdout",
       "text": [
        "\n",
        "Downloading Project 2012.1.00463.S obsproject.xml, status InProgress. (252/668)"
       ]
      },
      {
       "output_type": "stream",
       "stream": "stdout",
       "text": [
        "\n",
        "Downloading Project 2013.1.00708.S obsproject.xml, status Ready. (253/668)"
       ]
      },
      {
       "output_type": "stream",
       "stream": "stdout",
       "text": [
        "\n",
        "Downloading Project 2013.1.01330.S obsproject.xml, status Ready. (254/668)"
       ]
      },
      {
       "output_type": "stream",
       "stream": "stdout",
       "text": [
        "\n",
        "Downloading Project 2012.1.00001.S obsproject.xml, status InProgress. (255/668)"
       ]
      },
      {
       "output_type": "stream",
       "stream": "stdout",
       "text": [
        "\n",
        "Copying Project 2013.1.01314.S obsproposal.xml, status Approved. (256/668)"
       ]
      },
      {
       "output_type": "stream",
       "stream": "stdout",
       "text": [
        "\n",
        "Downloading Project 2013.1.00149.S obsproject.xml, status Ready. (257/668)"
       ]
      },
      {
       "output_type": "stream",
       "stream": "stdout",
       "text": [
        "\n",
        "Downloading Project 2013.1.00247.S obsproject.xml, status InProgress. (258/668)"
       ]
      },
      {
       "output_type": "stream",
       "stream": "stdout",
       "text": [
        "\n",
        "Downloading Project 2013.1.00960.S obsproject.xml, status InProgress. (259/668)"
       ]
      },
      {
       "output_type": "stream",
       "stream": "stdout",
       "text": [
        "\n",
        "Downloading Project 2012.1.00799.S obsproject.xml, status Ready. (260/668)"
       ]
      },
      {
       "output_type": "stream",
       "stream": "stdout",
       "text": [
        "\n",
        "Copying Project 2013.1.00461.S obsproposal.xml, status Approved. (261/668)"
       ]
      },
      {
       "output_type": "stream",
       "stream": "stdout",
       "text": [
        "\n",
        "Downloading Project 2013.1.01016.S obsproject.xml, status Completed. (262/668)\n",
        "Downloading Project 2013.1.00397.S obsproject.xml, status InProgress. (263/668)"
       ]
      },
      {
       "output_type": "stream",
       "stream": "stdout",
       "text": [
        "\n",
        "Downloading Project 2013.1.00476.S obsproject.xml, status Ready. (264/668)"
       ]
      },
      {
       "output_type": "stream",
       "stream": "stdout",
       "text": [
        "\n",
        "Downloading Project 2013.1.00624.S obsproject.xml, status Ready. (265/668)"
       ]
      },
      {
       "output_type": "stream",
       "stream": "stdout",
       "text": [
        "\n",
        "Downloading Project 2013.1.01188.S obsproject.xml, status Ready. (266/668)"
       ]
      },
      {
       "output_type": "stream",
       "stream": "stdout",
       "text": [
        "\n",
        "Downloading Project 2013.1.00428.S obsproject.xml, status Ready. (267/668)"
       ]
      },
      {
       "output_type": "stream",
       "stream": "stdout",
       "text": [
        "\n",
        "Downloading Project 2013.1.00661.S obsproject.xml, status InProgress. (268/668)"
       ]
      },
      {
       "output_type": "stream",
       "stream": "stdout",
       "text": [
        "\n",
        "Downloading Project 2013.1.00088.S obsproject.xml, status InProgress. (269/668)"
       ]
      },
      {
       "output_type": "stream",
       "stream": "stdout",
       "text": [
        "\n",
        "Downloading Project 2013.1.00061.S obsproject.xml, status InProgress. (270/668)"
       ]
      },
      {
       "output_type": "stream",
       "stream": "stdout",
       "text": [
        "\n",
        "Copying Project 2013.1.00594.S obsproposal.xml, status Approved. (271/668)"
       ]
      },
      {
       "output_type": "stream",
       "stream": "stdout",
       "text": [
        "\n",
        "Downloading Project 2013.1.01215.S obsproject.xml, status InProgress. (272/668)"
       ]
      },
      {
       "output_type": "stream",
       "stream": "stdout",
       "text": [
        "\n",
        "Downloading Project 2013.1.00080.S obsproject.xml, status Ready. (273/668)"
       ]
      },
      {
       "output_type": "stream",
       "stream": "stdout",
       "text": [
        "\n",
        "Downloading Project 2012.1.00307.S obsproject.xml, status Ready. (274/668)"
       ]
      },
      {
       "output_type": "stream",
       "stream": "stdout",
       "text": [
        "\n",
        "Downloading Project 2012.1.00346.S obsproject.xml, status Completed. (275/668)"
       ]
      },
      {
       "output_type": "stream",
       "stream": "stdout",
       "text": [
        "\n",
        "Downloading Project 2013.1.00359.S obsproject.xml, status Ready. (276/668)"
       ]
      },
      {
       "output_type": "stream",
       "stream": "stdout",
       "text": [
        "\n",
        "Downloading Project 2013.1.01110.S obsproject.xml, status Ready. (277/668)"
       ]
      },
      {
       "output_type": "stream",
       "stream": "stdout",
       "text": [
        "\n",
        "Downloading Project 2013.1.01114.S obsproject.xml, status InProgress. (278/668)"
       ]
      },
      {
       "output_type": "stream",
       "stream": "stdout",
       "text": [
        "\n",
        "Copying Project 2013.1.01135.S obsproposal.xml, status Approved. (279/668)"
       ]
      },
      {
       "output_type": "stream",
       "stream": "stdout",
       "text": [
        "\n",
        "Downloading Project 2012.1.00775.S obsproject.xml, status InProgress. (280/668)"
       ]
      },
      {
       "output_type": "stream",
       "stream": "stdout",
       "text": [
        "\n",
        "Downloading Project 2013.1.01231.S obsproject.xml, status InProgress. (281/668)"
       ]
      },
      {
       "output_type": "stream",
       "stream": "stdout",
       "text": [
        "\n",
        "Downloading Project 2013.1.00293.S obsproject.xml, status InProgress. (282/668)"
       ]
      },
      {
       "output_type": "stream",
       "stream": "stdout",
       "text": [
        "\n",
        "Downloading Project 2012.1.00603.S obsproject.xml, status InProgress. (283/668)"
       ]
      },
      {
       "output_type": "stream",
       "stream": "stdout",
       "text": [
        "\n",
        "Downloading Project 2013.1.00535.S obsproject.xml, status InProgress. (284/668)"
       ]
      },
      {
       "output_type": "stream",
       "stream": "stdout",
       "text": [
        "\n",
        "Copying Project 2013.1.01359.S obsproposal.xml, status Approved. (285/668)"
       ]
      },
      {
       "output_type": "stream",
       "stream": "stdout",
       "text": [
        "\n",
        "Downloading Project 2013.1.00447.S obsproject.xml, status Phase2Submitted. (286/668)"
       ]
      },
      {
       "output_type": "stream",
       "stream": "stdout",
       "text": [
        "\n",
        "Downloading Project 2013.1.00504.S obsproject.xml, status Phase2Submitted. (287/668)"
       ]
      },
      {
       "output_type": "stream",
       "stream": "stdout",
       "text": [
        "\n",
        "Downloading Project 2013.1.01046.S obsproject.xml, status Ready. (288/668)"
       ]
      },
      {
       "output_type": "stream",
       "stream": "stdout",
       "text": [
        "\n",
        "Downloading Project 2013.1.01161.S obsproject.xml, status InProgress. (289/668)"
       ]
      },
      {
       "output_type": "stream",
       "stream": "stdout",
       "text": [
        "\n",
        "Downloading Project 2013.1.00870.S obsproject.xml, status InProgress. (290/668)"
       ]
      },
      {
       "output_type": "stream",
       "stream": "stdout",
       "text": [
        "\n",
        "Downloading Project 2013.1.00250.S obsproject.xml, status Ready. (291/668)"
       ]
      },
      {
       "output_type": "stream",
       "stream": "stdout",
       "text": [
        "\n",
        "Downloading Project 2013.1.00991.S obsproject.xml, status InProgress. (292/668)"
       ]
      },
      {
       "output_type": "stream",
       "stream": "stdout",
       "text": [
        "\n",
        "Downloading Project 2013.1.00721.S obsproject.xml, status Phase2Submitted. (293/668)"
       ]
      },
      {
       "output_type": "stream",
       "stream": "stdout",
       "text": [
        "\n",
        "Downloading Project 2012.1.00208.S obsproject.xml, status Completed. (294/668)"
       ]
      },
      {
       "output_type": "stream",
       "stream": "stdout",
       "text": [
        "\n",
        "Downloading Project 2012.1.00453.S obsproject.xml, status InProgress. (295/668)"
       ]
      },
      {
       "output_type": "stream",
       "stream": "stdout",
       "text": [
        "\n",
        "Downloading Project 2013.1.00186.S obsproject.xml, status Ready. (296/668)"
       ]
      },
      {
       "output_type": "stream",
       "stream": "stdout",
       "text": [
        "\n",
        "Downloading Project 2013.1.00118.S obsproject.xml, status InProgress. (297/668)"
       ]
      },
      {
       "output_type": "stream",
       "stream": "stdout",
       "text": [
        "\n",
        "Downloading Project 2013.1.00786.S obsproject.xml, status Ready. (298/668)"
       ]
      },
      {
       "output_type": "stream",
       "stream": "stdout",
       "text": [
        "\n",
        "Downloading Project 2013.1.00725.S obsproject.xml, status Ready. (299/668)"
       ]
      },
      {
       "output_type": "stream",
       "stream": "stdout",
       "text": [
        "\n",
        "Downloading Project 2013.1.01091.S obsproject.xml, status InProgress. (300/668)"
       ]
      },
      {
       "output_type": "stream",
       "stream": "stdout",
       "text": [
        "\n",
        "Downloading Project 2012.1.00198.S obsproject.xml, status InProgress. (301/668)"
       ]
      },
      {
       "output_type": "stream",
       "stream": "stdout",
       "text": [
        "\n",
        "Downloading Project 2013.1.00243.S obsproject.xml, status InProgress. (302/668)"
       ]
      },
      {
       "output_type": "stream",
       "stream": "stdout",
       "text": [
        "\n",
        "Copying Project 2013.1.00826.S obsproposal.xml, status Approved. (303/668)"
       ]
      },
      {
       "output_type": "stream",
       "stream": "stdout",
       "text": [
        "\n",
        "Copying Project 2013.1.01369.S obsproposal.xml, status Approved. (304/668)"
       ]
      },
      {
       "output_type": "stream",
       "stream": "stdout",
       "text": [
        "\n",
        "Downloading Project 2013.1.01329.S obsproject.xml, status InProgress. (305/668)"
       ]
      },
      {
       "output_type": "stream",
       "stream": "stdout",
       "text": [
        "\n",
        "Downloading Project 2013.1.01331.S obsproject.xml, status InProgress. (306/668)"
       ]
      },
      {
       "output_type": "stream",
       "stream": "stdout",
       "text": [
        "\n",
        "Downloading Project 2012.1.00611.S obsproject.xml, status Ready. (307/668)"
       ]
      },
      {
       "output_type": "stream",
       "stream": "stdout",
       "text": [
        "\n",
        "Downloading Project 2013.1.00018.S obsproject.xml, status InProgress. (308/668)"
       ]
      },
      {
       "output_type": "stream",
       "stream": "stdout",
       "text": [
        "\n",
        "Copying Project 2013.1.00945.S obsproposal.xml, status Approved. (309/668)"
       ]
      },
      {
       "output_type": "stream",
       "stream": "stdout",
       "text": [
        "\n",
        "Copying Project 2013.1.00914.S obsproposal.xml, status Approved. (310/668)"
       ]
      },
      {
       "output_type": "stream",
       "stream": "stdout",
       "text": [
        "\n",
        "Downloading Project 2013.1.01147.S obsproject.xml, status Ready. (311/668)"
       ]
      },
      {
       "output_type": "stream",
       "stream": "stdout",
       "text": [
        "\n",
        "Downloading Project 2013.1.01031.S obsproject.xml, status Phase2Submitted. (312/668)"
       ]
      },
      {
       "output_type": "stream",
       "stream": "stdout",
       "text": [
        "\n",
        "Downloading Project 2013.1.01307.S obsproject.xml, status Ready. (313/668)"
       ]
      },
      {
       "output_type": "stream",
       "stream": "stdout",
       "text": [
        "\n",
        "Downloading Project 2013.1.00647.S obsproject.xml, status InProgress. (314/668)"
       ]
      },
      {
       "output_type": "stream",
       "stream": "stdout",
       "text": [
        "\n",
        "Downloading Project 2012.1.00671.S obsproject.xml, status Ready. (315/668)"
       ]
      },
      {
       "output_type": "stream",
       "stream": "stdout",
       "text": [
        "\n",
        "Downloading Project 2013.1.00051.S obsproject.xml, status Ready. (316/668)"
       ]
      },
      {
       "output_type": "stream",
       "stream": "stdout",
       "text": [
        "\n",
        "Downloading Project 2012.1.01004.S obsproject.xml, status InProgress. (317/668)"
       ]
      },
      {
       "output_type": "stream",
       "stream": "stdout",
       "text": [
        "\n",
        "Downloading Project 2013.1.00612.S obsproject.xml, status Ready. (318/668)"
       ]
      },
      {
       "output_type": "stream",
       "stream": "stdout",
       "text": [
        "\n",
        "Downloading Project 2012.1.00837.S obsproject.xml, status InProgress. (319/668)"
       ]
      },
      {
       "output_type": "stream",
       "stream": "stdout",
       "text": [
        "\n",
        "Downloading Project 2012.1.00610.S obsproject.xml, status Completed. (320/668)"
       ]
      },
      {
       "output_type": "stream",
       "stream": "stdout",
       "text": [
        "\n",
        "Copying Project 2013.1.00261.S obsproposal.xml, status Approved. (321/668)"
       ]
      },
      {
       "output_type": "stream",
       "stream": "stdout",
       "text": [
        "\n",
        "Copying Project 2013.1.01117.S obsproposal.xml, status Approved. (322/668)\n",
        "Downloading Project 2013.1.01007.S obsproject.xml, status Ready. (323/668)"
       ]
      },
      {
       "output_type": "stream",
       "stream": "stdout",
       "text": [
        "\n",
        "Downloading Project 2013.1.00208.S obsproject.xml, status InProgress. (324/668)"
       ]
      },
      {
       "output_type": "stream",
       "stream": "stdout",
       "text": [
        "\n",
        "Downloading Project 2013.1.00313.S obsproject.xml, status Ready. (325/668)"
       ]
      },
      {
       "output_type": "stream",
       "stream": "stdout",
       "text": [
        "\n",
        "Downloading Project 2013.1.00836.S obsproject.xml, status Phase2Submitted. (326/668)"
       ]
      },
      {
       "output_type": "stream",
       "stream": "stdout",
       "text": [
        "\n",
        "Copying Project 2013.1.00953.T obsproposal.xml, status Approved. (327/668)"
       ]
      },
      {
       "output_type": "stream",
       "stream": "stdout",
       "text": [
        "\n",
        "Copying Project 2013.1.01005.S obsproposal.xml, status Approved. (328/668)"
       ]
      },
      {
       "output_type": "stream",
       "stream": "stdout",
       "text": [
        "\n",
        "Downloading Project 2013.1.01022.S obsproject.xml, status Ready. (329/668)"
       ]
      },
      {
       "output_type": "stream",
       "stream": "stdout",
       "text": [
        "\n",
        "Downloading Project 2012.1.00064.S obsproject.xml, status InProgress. (330/668)"
       ]
      },
      {
       "output_type": "stream",
       "stream": "stdout",
       "text": [
        "\n",
        "Copying Project 2013.1.00995.S obsproposal.xml, status Approved. (331/668)\n",
        "Downloading Project 2013.1.00955.S obsproject.xml, status Ready. (332/668)"
       ]
      },
      {
       "output_type": "stream",
       "stream": "stdout",
       "text": [
        "\n",
        "Downloading Project 2013.1.00828.S obsproject.xml, status Ready. (333/668)"
       ]
      },
      {
       "output_type": "stream",
       "stream": "stdout",
       "text": [
        "\n",
        "Downloading Project 2013.1.00053.S obsproject.xml, status Ready. (334/668)"
       ]
      },
      {
       "output_type": "stream",
       "stream": "stdout",
       "text": [
        "\n",
        "Downloading Project 2013.1.00521.S obsproject.xml, status InProgress. (335/668)"
       ]
      },
      {
       "output_type": "stream",
       "stream": "stdout",
       "text": [
        "\n",
        "Copying Project 2013.1.00838.S obsproposal.xml, status Approved. (336/668)"
       ]
      },
      {
       "output_type": "stream",
       "stream": "stdout",
       "text": [
        "\n",
        "Downloading Project 2013.1.00916.S obsproject.xml, status Ready. (337/668)"
       ]
      },
      {
       "output_type": "stream",
       "stream": "stdout",
       "text": [
        "\n",
        "Downloading Project 2013.1.01267.S obsproject.xml, status InProgress. (338/668)"
       ]
      },
      {
       "output_type": "stream",
       "stream": "stdout",
       "text": [
        "\n",
        "Copying Project 2013.1.00417.S obsproposal.xml, status Approved. (339/668)"
       ]
      },
      {
       "output_type": "stream",
       "stream": "stdout",
       "text": [
        "\n",
        "Downloading Project 2013.1.00857.S obsproject.xml, status InProgress. (340/668)"
       ]
      },
      {
       "output_type": "stream",
       "stream": "stdout",
       "text": [
        "\n",
        "Downloading Project 2013.1.00459.S obsproject.xml, status Ready. (341/668)"
       ]
      },
      {
       "output_type": "stream",
       "stream": "stdout",
       "text": [
        "\n",
        "Copying Project 2013.1.00129.S obsproposal.xml, status Approved. (342/668)"
       ]
      },
      {
       "output_type": "stream",
       "stream": "stdout",
       "text": [
        "\n",
        "Downloading Project 2013.1.00623.S obsproject.xml, status Ready. (343/668)"
       ]
      },
      {
       "output_type": "stream",
       "stream": "stdout",
       "text": [
        "\n",
        "Downloading Project 2013.1.01262.S obsproject.xml, status Ready. (344/668)"
       ]
      },
      {
       "output_type": "stream",
       "stream": "stdout",
       "text": [
        "\n",
        "Copying Project 2013.1.00189.S obsproposal.xml, status Approved. (345/668)"
       ]
      },
      {
       "output_type": "stream",
       "stream": "stdout",
       "text": [
        "\n",
        "Downloading Project 2013.1.00710.S obsproject.xml, status InProgress. (346/668)\n",
        "Downloading Project 2013.1.00073.S obsproject.xml, status Ready. (347/668)"
       ]
      },
      {
       "output_type": "stream",
       "stream": "stdout",
       "text": [
        "\n",
        "Downloading Project 2013.1.01213.S obsproject.xml, status Phase2Submitted. (348/668)\n",
        "Downloading Project 2013.1.00880.S obsproject.xml, status Ready. (349/668)"
       ]
      },
      {
       "output_type": "stream",
       "stream": "stdout",
       "text": [
        "\n",
        "Downloading Project 2013.1.00374.S obsproject.xml, status Ready. (350/668)"
       ]
      },
      {
       "output_type": "stream",
       "stream": "stdout",
       "text": [
        "\n",
        "Downloading Project 2013.1.01202.S obsproject.xml, status InProgress. (351/668)\n",
        "Downloading Project 2013.1.00726.S obsproject.xml, status InProgress. (352/668)"
       ]
      },
      {
       "output_type": "stream",
       "stream": "stdout",
       "text": [
        "\n",
        "Downloading Project 2013.1.01052.S obsproject.xml, status InProgress. (353/668)"
       ]
      },
      {
       "output_type": "stream",
       "stream": "stdout",
       "text": [
        "\n",
        "Downloading Project 2013.1.00112.S obsproject.xml, status Ready. (354/668)"
       ]
      },
      {
       "output_type": "stream",
       "stream": "stdout",
       "text": [
        "\n",
        "Downloading Project 2013.1.00251.S obsproject.xml, status InProgress. (355/668)"
       ]
      },
      {
       "output_type": "stream",
       "stream": "stdout",
       "text": [
        "\n",
        "Downloading Project 2013.1.00255.S obsproject.xml, status Ready. (356/668)"
       ]
      },
      {
       "output_type": "stream",
       "stream": "stdout",
       "text": [
        "\n",
        "Downloading Project 2013.1.00047.S obsproject.xml, status Completed. (357/668)\n",
        "Downloading Project 2013.1.00658.S obsproject.xml, status InProgress. (358/668)"
       ]
      },
      {
       "output_type": "stream",
       "stream": "stdout",
       "text": [
        "\n",
        "Downloading Project 2013.1.00426.S obsproject.xml, status Ready. (359/668)"
       ]
      },
      {
       "output_type": "stream",
       "stream": "stdout",
       "text": [
        "\n",
        "Downloading Project 2013.1.01380.S obsproject.xml, status Ready. (360/668)"
       ]
      },
      {
       "output_type": "stream",
       "stream": "stdout",
       "text": [
        "\n",
        "Copying Project 2013.1.01043.S obsproposal.xml, status Approved. (361/668)"
       ]
      },
      {
       "output_type": "stream",
       "stream": "stdout",
       "text": [
        "\n",
        "Downloading Project 2013.1.00957.S obsproject.xml, status Ready. (362/668)"
       ]
      },
      {
       "output_type": "stream",
       "stream": "stdout",
       "text": [
        "\n",
        "Downloading Project 2012.1.00105.S obsproject.xml, status InProgress. (363/668)"
       ]
      },
      {
       "output_type": "stream",
       "stream": "stdout",
       "text": [
        "\n",
        "Downloading Project 2013.1.00839.S obsproject.xml, status InProgress. (364/668)"
       ]
      },
      {
       "output_type": "stream",
       "stream": "stdout",
       "text": [
        "\n",
        "Downloading Project 2012.A.00041.S obsproject.xml, status Completed. (365/668)"
       ]
      },
      {
       "output_type": "stream",
       "stream": "stdout",
       "text": [
        "\n",
        "Copying Project 2013.1.00743.S obsproposal.xml, status Approved. (366/668)"
       ]
      },
      {
       "output_type": "stream",
       "stream": "stdout",
       "text": [
        "\n",
        "Downloading Project 2013.1.00116.S obsproject.xml, status InProgress. (367/668)"
       ]
      },
      {
       "output_type": "stream",
       "stream": "stdout",
       "text": [
        "\n",
        "Downloading Project 2013.1.00493.S obsproject.xml, status Ready. (368/668)"
       ]
      },
      {
       "output_type": "stream",
       "stream": "stdout",
       "text": [
        "\n",
        "Downloading Project 2013.1.00008.S obsproject.xml, status Ready. (369/668)"
       ]
      },
      {
       "output_type": "stream",
       "stream": "stdout",
       "text": [
        "\n",
        "Copying Project 2013.1.00282.S obsproposal.xml, status Approved. (370/668)"
       ]
      },
      {
       "output_type": "stream",
       "stream": "stdout",
       "text": [
        "\n",
        "Downloading Project 2013.1.00468.S obsproject.xml, status InProgress. (371/668)"
       ]
      },
      {
       "output_type": "stream",
       "stream": "stdout",
       "text": [
        "\n",
        "Downloading Project 2013.1.01207.S obsproject.xml, status Ready. (372/668)"
       ]
      },
      {
       "output_type": "stream",
       "stream": "stdout",
       "text": [
        "\n",
        "Copying Project 2013.1.01082.S obsproposal.xml, status Approved. (373/668)"
       ]
      },
      {
       "output_type": "stream",
       "stream": "stdout",
       "text": [
        "\n",
        "Downloading Project 2013.1.00525.S obsproject.xml, status Ready. (374/668)\n",
        "Downloading Project 2012.1.00146.S obsproject.xml, status Ready. (375/668)"
       ]
      },
      {
       "output_type": "stream",
       "stream": "stdout",
       "text": [
        "\n",
        "Downloading Project 2013.1.00077.S obsproject.xml, status Phase2Submitted. (376/668)\n",
        "Downloading Project 2013.1.00060.S obsproject.xml, status InProgress. (377/668)"
       ]
      },
      {
       "output_type": "stream",
       "stream": "stdout",
       "text": [
        "\n",
        "Downloading Project 2013.1.01301.S obsproject.xml, status Ready. (378/668)"
       ]
      },
      {
       "output_type": "stream",
       "stream": "stdout",
       "text": [
        "\n",
        "Downloading Project 2013.1.00234.S obsproject.xml, status InProgress. (379/668)"
       ]
      },
      {
       "output_type": "stream",
       "stream": "stdout",
       "text": [
        "\n",
        "Downloading Project 2013.1.00139.S obsproject.xml, status InProgress. (380/668)"
       ]
      },
      {
       "output_type": "stream",
       "stream": "stdout",
       "text": [
        "\n",
        "Copying Project 2013.1.00901.S obsproposal.xml, status Approved. (381/668)"
       ]
      },
      {
       "output_type": "stream",
       "stream": "stdout",
       "text": [
        "\n",
        "Downloading Project 2013.1.00151.S obsproject.xml, status InProgress. (382/668)"
       ]
      },
      {
       "output_type": "stream",
       "stream": "stdout",
       "text": [
        "\n",
        "Downloading Project 2013.1.00220.S obsproject.xml, status Ready. (383/668)"
       ]
      },
      {
       "output_type": "stream",
       "stream": "stdout",
       "text": [
        "\n",
        "Downloading Project 2012.1.00097.S obsproject.xml, status InProgress. (384/668)"
       ]
      },
      {
       "output_type": "stream",
       "stream": "stdout",
       "text": [
        "\n",
        "Downloading Project 2013.1.00897.S obsproject.xml, status Ready. (385/668)"
       ]
      },
      {
       "output_type": "stream",
       "stream": "stdout",
       "text": [
        "\n",
        "Downloading Project 2013.1.01255.S obsproject.xml, status Ready. (386/668)"
       ]
      },
      {
       "output_type": "stream",
       "stream": "stdout",
       "text": [
        "\n",
        "Downloading Project 2013.1.01017.S obsproject.xml, status Phase2Submitted. (387/668)"
       ]
      },
      {
       "output_type": "stream",
       "stream": "stdout",
       "text": [
        "\n",
        "Downloading Project 2013.1.00379.S obsproject.xml, status Phase2Submitted. (388/668)"
       ]
      },
      {
       "output_type": "stream",
       "stream": "stdout",
       "text": [
        "\n",
        "Downloading Project 2013.1.00490.S obsproject.xml, status Ready. (389/668)"
       ]
      },
      {
       "output_type": "stream",
       "stream": "stdout",
       "text": [
        "\n",
        "Downloading Project 2012.1.00122.S obsproject.xml, status Ready. (390/668)"
       ]
      },
      {
       "output_type": "stream",
       "stream": "stdout",
       "text": [
        "\n",
        "Downloading Project 2013.1.01057.S obsproject.xml, status InProgress. (391/668)"
       ]
      },
      {
       "output_type": "stream",
       "stream": "stdout",
       "text": [
        "\n",
        "Downloading Project 2013.1.01165.S obsproject.xml, status Ready. (392/668)"
       ]
      },
      {
       "output_type": "stream",
       "stream": "stdout",
       "text": [
        "\n",
        "Downloading Project 2012.1.00382.S obsproject.xml, status InProgress. (393/668)"
       ]
      },
      {
       "output_type": "stream",
       "stream": "stdout",
       "text": [
        "\n",
        "Copying Project 2013.1.00606.S obsproposal.xml, status Approved. (394/668)"
       ]
      },
      {
       "output_type": "stream",
       "stream": "stdout",
       "text": [
        "\n",
        "Downloading Project 2013.1.00451.S obsproject.xml, status InProgress. (395/668)"
       ]
      },
      {
       "output_type": "stream",
       "stream": "stdout",
       "text": [
        "\n",
        "Downloading Project 2013.1.01042.S obsproject.xml, status InProgress. (396/668)"
       ]
      },
      {
       "output_type": "stream",
       "stream": "stdout",
       "text": [
        "\n",
        "Downloading Project 2013.1.00724.S obsproject.xml, status Ready. (397/668)"
       ]
      },
      {
       "output_type": "stream",
       "stream": "stdout",
       "text": [
        "\n",
        "Downloading Project 2013.1.01271.S obsproject.xml, status InProgress. (398/668)"
       ]
      },
      {
       "output_type": "stream",
       "stream": "stdout",
       "text": [
        "\n",
        "Downloading Project 2013.1.00586.S obsproject.xml, status InProgress. (399/668)"
       ]
      },
      {
       "output_type": "stream",
       "stream": "stdout",
       "text": [
        "\n",
        "Downloading Project 2013.1.00457.S obsproject.xml, status InProgress. (400/668)"
       ]
      },
      {
       "output_type": "stream",
       "stream": "stdout",
       "text": [
        "\n",
        "Downloading Project 2013.1.00041.S obsproject.xml, status InProgress. (401/668)"
       ]
      },
      {
       "output_type": "stream",
       "stream": "stdout",
       "text": [
        "\n",
        "Downloading Project 2013.1.00736.S obsproject.xml, status Ready. (402/668)"
       ]
      },
      {
       "output_type": "stream",
       "stream": "stdout",
       "text": [
        "\n",
        "Downloading Project 2013.1.01302.S obsproject.xml, status Completed. (403/668)"
       ]
      },
      {
       "output_type": "stream",
       "stream": "stdout",
       "text": [
        "\n",
        "Downloading Project 2012.1.00021.S obsproject.xml, status Ready. (404/668)\n",
        "Downloading Project 2013.1.00516.S obsproject.xml, status Ready. (405/668)"
       ]
      },
      {
       "output_type": "stream",
       "stream": "stdout",
       "text": [
        "\n",
        "Downloading Project 2013.1.00021.S obsproject.xml, status Ready. (406/668)"
       ]
      },
      {
       "output_type": "stream",
       "stream": "stdout",
       "text": [
        "\n",
        "Downloading Project 2013.1.00358.S obsproject.xml, status Ready. (407/668)"
       ]
      },
      {
       "output_type": "stream",
       "stream": "stdout",
       "text": [
        "\n",
        "Downloading Project 2012.1.00119.S obsproject.xml, status Completed. (408/668)"
       ]
      },
      {
       "output_type": "stream",
       "stream": "stdout",
       "text": [
        "\n",
        "Downloading Project 2012.1.00196.S obsproject.xml, status InProgress. (409/668)"
       ]
      },
      {
       "output_type": "stream",
       "stream": "stdout",
       "text": [
        "\n",
        "Downloading Project 2013.1.00105.S obsproject.xml, status Ready. (410/668)"
       ]
      },
      {
       "output_type": "stream",
       "stream": "stdout",
       "text": [
        "\n",
        "Downloading Project 2013.1.00532.S obsproject.xml, status InProgress. (411/668)"
       ]
      },
      {
       "output_type": "stream",
       "stream": "stdout",
       "text": [
        "\n",
        "Copying Project 2013.1.01145.S obsproposal.xml, status Approved. (412/668)"
       ]
      },
      {
       "output_type": "stream",
       "stream": "stdout",
       "text": [
        "\n",
        "Downloading Project 2013.1.00163.S obsproject.xml, status Ready. (413/668)\n",
        "Downloading Project 2012.1.00193.S obsproject.xml, status Ready. (414/668)"
       ]
      },
      {
       "output_type": "stream",
       "stream": "stdout",
       "text": [
        "\n",
        "Downloading Project 2013.1.00055.S obsproject.xml, status Ready. (415/668)\n",
        "Downloading Project 2013.1.01036.S obsproject.xml, status Ready. (416/668)"
       ]
      },
      {
       "output_type": "stream",
       "stream": "stdout",
       "text": [
        "\n",
        "Downloading Project 2013.1.01192.S obsproject.xml, status InProgress. (417/668)"
       ]
      },
      {
       "output_type": "stream",
       "stream": "stdout",
       "text": [
        "\n",
        "Downloading Project 2013.1.01029.S obsproject.xml, status InProgress. (418/668)"
       ]
      },
      {
       "output_type": "stream",
       "stream": "stdout",
       "text": [
        "\n",
        "Downloading Project 2013.1.00700.S obsproject.xml, status Ready. (419/668)"
       ]
      },
      {
       "output_type": "stream",
       "stream": "stdout",
       "text": [
        "\n",
        "Downloading Project 2013.1.01167.S obsproject.xml, status Ready. (420/668)"
       ]
      },
      {
       "output_type": "stream",
       "stream": "stdout",
       "text": [
        "\n",
        "Downloading Project 2013.1.00907.S obsproject.xml, status Ready. (421/668)"
       ]
      },
      {
       "output_type": "stream",
       "stream": "stdout",
       "text": [
        "\n",
        "Downloading Project 2013.1.01099.S obsproject.xml, status InProgress. (422/668)"
       ]
      },
      {
       "output_type": "stream",
       "stream": "stdout",
       "text": [
        "\n",
        "Downloading Project 2012.1.00762.S obsproject.xml, status InProgress. (423/668)"
       ]
      },
      {
       "output_type": "stream",
       "stream": "stdout",
       "text": [
        "\n",
        "Downloading Project 2012.1.00368.S obsproject.xml, status InProgress. (424/668)"
       ]
      },
      {
       "output_type": "stream",
       "stream": "stdout",
       "text": [
        "\n",
        "Downloading Project 2013.1.00843.S obsproject.xml, status InProgress. (425/668)"
       ]
      },
      {
       "output_type": "stream",
       "stream": "stdout",
       "text": [
        "\n",
        "Downloading Project 2013.1.01041.S obsproject.xml, status Completed. (426/668)"
       ]
      },
      {
       "output_type": "stream",
       "stream": "stdout",
       "text": [
        "\n",
        "Downloading Project 2013.1.00059.S obsproject.xml, status Ready. (427/668)"
       ]
      },
      {
       "output_type": "stream",
       "stream": "stdout",
       "text": [
        "\n",
        "Downloading Project 2013.1.00056.S obsproject.xml, status Ready. (428/668)\n",
        "Downloading Project 2012.1.00395.S obsproject.xml, status InProgress. (429/668)"
       ]
      },
      {
       "output_type": "stream",
       "stream": "stdout",
       "text": [
        "\n",
        "Downloading Project 2012.1.00422.S obsproject.xml, status InProgress. (430/668)"
       ]
      },
      {
       "output_type": "stream",
       "stream": "stdout",
       "text": [
        "\n",
        "Downloading Project 2012.1.00219.S obsproject.xml, status InProgress. (431/668)"
       ]
      },
      {
       "output_type": "stream",
       "stream": "stdout",
       "text": [
        "\n",
        "Downloading Project 2013.1.00530.S obsproject.xml, status InProgress. (432/668)"
       ]
      },
      {
       "output_type": "stream",
       "stream": "stdout",
       "text": [
        "\n",
        "Copying Project 2013.1.00091.S obsproposal.xml, status Approved. (433/668)"
       ]
      },
      {
       "output_type": "stream",
       "stream": "stdout",
       "text": [
        "\n",
        "Downloading Project 2013.1.01066.S obsproject.xml, status Ready. (434/668)"
       ]
      },
      {
       "output_type": "stream",
       "stream": "stdout",
       "text": [
        "\n",
        "Downloading Project 2013.1.00144.S obsproject.xml, status Ready. (435/668)"
       ]
      },
      {
       "output_type": "stream",
       "stream": "stdout",
       "text": [
        "\n",
        "Downloading Project 2013.1.00764.S obsproject.xml, status Ready. (436/668)"
       ]
      },
      {
       "output_type": "stream",
       "stream": "stdout",
       "text": [
        "\n",
        "Downloading Project 2013.1.00526.S obsproject.xml, status InProgress. (437/668)"
       ]
      },
      {
       "output_type": "stream",
       "stream": "stdout",
       "text": [
        "\n",
        "Downloading Project 2012.1.00008.S obsproject.xml, status Ready. (438/668)"
       ]
      },
      {
       "output_type": "stream",
       "stream": "stdout",
       "text": [
        "\n",
        "Downloading Project 2013.1.00788.S obsproject.xml, status Ready. (439/668)"
       ]
      },
      {
       "output_type": "stream",
       "stream": "stdout",
       "text": [
        "\n",
        "Downloading Project 2013.1.00999.S obsproject.xml, status InProgress. (440/668)"
       ]
      },
      {
       "output_type": "stream",
       "stream": "stdout",
       "text": [
        "\n",
        "Downloading Project 2013.1.01113.S obsproject.xml, status InProgress. (441/668)"
       ]
      },
      {
       "output_type": "stream",
       "stream": "stdout",
       "text": [
        "\n",
        "Copying Project 2013.1.00938.S obsproposal.xml, status Approved. (442/668)"
       ]
      },
      {
       "output_type": "stream",
       "stream": "stdout",
       "text": [
        "\n",
        "Downloading Project 2012.1.00994.S obsproject.xml, status Completed. (443/668)"
       ]
      },
      {
       "output_type": "stream",
       "stream": "stdout",
       "text": [
        "\n",
        "Copying Project 2013.1.00969.S obsproposal.xml, status Approved. (444/668)"
       ]
      },
      {
       "output_type": "stream",
       "stream": "stdout",
       "text": [
        "\n",
        "Downloading Project 2012.1.00604.S obsproject.xml, status InProgress. (445/668)"
       ]
      },
      {
       "output_type": "stream",
       "stream": "stdout",
       "text": [
        "\n",
        "Downloading Project 2013.1.00618.S obsproject.xml, status InProgress. (446/668)"
       ]
      },
      {
       "output_type": "stream",
       "stream": "stdout",
       "text": [
        "\n",
        "Downloading Project 2013.1.00188.S obsproject.xml, status Ready. (447/668)"
       ]
      },
      {
       "output_type": "stream",
       "stream": "stdout",
       "text": [
        "\n",
        "Downloading Project 2013.1.00265.S obsproject.xml, status Phase2Submitted. (448/668)"
       ]
      },
      {
       "output_type": "stream",
       "stream": "stdout",
       "text": [
        "\n",
        "Downloading Project 2013.1.01366.T obsproject.xml, status InProgress. (449/668)\n",
        "Downloading Project 2013.1.00050.S obsproject.xml, status Ready. (450/668)"
       ]
      },
      {
       "output_type": "stream",
       "stream": "stdout",
       "text": [
        "\n",
        "Downloading Project 2012.1.00707.S obsproject.xml, status InProgress. (451/668)"
       ]
      },
      {
       "output_type": "stream",
       "stream": "stdout",
       "text": [
        "\n",
        "Downloading Project 2013.1.00346.S obsproject.xml, status Ready. (452/668)"
       ]
      },
      {
       "output_type": "stream",
       "stream": "stdout",
       "text": [
        "\n",
        "Downloading Project 2013.1.01010.S obsproject.xml, status InProgress. (453/668)\n",
        "Downloading Project 2013.1.00489.S obsproject.xml, status Ready. (454/668)"
       ]
      },
      {
       "output_type": "stream",
       "stream": "stdout",
       "text": [
        "\n",
        "Downloading Project 2013.1.00380.S obsproject.xml, status Ready. (455/668)"
       ]
      },
      {
       "output_type": "stream",
       "stream": "stdout",
       "text": [
        "\n",
        "Copying Project 2013.1.00996.S obsproposal.xml, status Approved. (456/668)\n",
        "Copying Project 2013.1.00720.S obsproposal.xml, status Approved. (457/668)"
       ]
      },
      {
       "output_type": "stream",
       "stream": "stdout",
       "text": [
        "\n",
        "Copying Project 2013.1.00233.S obsproposal.xml, status Approved. (458/668)"
       ]
      },
      {
       "output_type": "stream",
       "stream": "stdout",
       "text": [
        "\n",
        "Copying Project 2013.1.01242.S obsproposal.xml, status Approved. (459/668)"
       ]
      },
      {
       "output_type": "stream",
       "stream": "stdout",
       "text": [
        "\n",
        "Downloading Project 2013.1.00376.S obsproject.xml, status InProgress. (460/668)"
       ]
      },
      {
       "output_type": "stream",
       "stream": "stdout",
       "text": [
        "\n",
        "Downloading Project 2013.1.00463.S obsproject.xml, status Ready. (461/668)"
       ]
      },
      {
       "output_type": "stream",
       "stream": "stdout",
       "text": [
        "\n",
        "Downloading Project 2013.1.00449.S obsproject.xml, status InProgress. (462/668)"
       ]
      },
      {
       "output_type": "stream",
       "stream": "stdout",
       "text": [
        "\n",
        "Downloading Project 2013.1.00813.S obsproject.xml, status Ready. (463/668)"
       ]
      },
      {
       "output_type": "stream",
       "stream": "stdout",
       "text": [
        "\n",
        "Downloading Project 2013.1.00001.S obsproject.xml, status Ready. (464/668)"
       ]
      },
      {
       "output_type": "stream",
       "stream": "stdout",
       "text": [
        "\n",
        "Copying Project 2013.1.01175.S obsproposal.xml, status Approved. (465/668)"
       ]
      },
      {
       "output_type": "stream",
       "stream": "stdout",
       "text": [
        "\n",
        "Copying Project 2013.1.00423.S obsproposal.xml, status Approved. (466/668)"
       ]
      },
      {
       "output_type": "stream",
       "stream": "stdout",
       "text": [
        "\n",
        "Downloading Project 2013.1.00395.S obsproject.xml, status Completed. (467/668)"
       ]
      },
      {
       "output_type": "stream",
       "stream": "stdout",
       "text": [
        "\n",
        "Downloading Project 2013.1.00430.S obsproject.xml, status InProgress. (468/668)"
       ]
      },
      {
       "output_type": "stream",
       "stream": "stdout",
       "text": [
        "\n",
        "Downloading Project 2013.1.01223.S obsproject.xml, status InProgress. (469/668)\n",
        "Downloading Project 2013.1.00343.S obsproject.xml, status Ready. (470/668)"
       ]
      },
      {
       "output_type": "stream",
       "stream": "stdout",
       "text": [
        "\n",
        "Copying Project 2013.1.01076.S obsproposal.xml, status Approved. (471/668)"
       ]
      },
      {
       "output_type": "stream",
       "stream": "stdout",
       "text": [
        "\n",
        "Copying Project 2013.1.00308.S obsproposal.xml, status Approved. (472/668)"
       ]
      },
      {
       "output_type": "stream",
       "stream": "stdout",
       "text": [
        "\n",
        "Downloading Project 2013.1.01035.S obsproject.xml, status InProgress. (473/668)\n",
        "Downloading Project 2013.1.00989.S obsproject.xml, status InProgress. (474/668)"
       ]
      },
      {
       "output_type": "stream",
       "stream": "stdout",
       "text": [
        "\n",
        "Downloading Project 2013.1.01239.S obsproject.xml, status Ready. (475/668)"
       ]
      },
      {
       "output_type": "stream",
       "stream": "stdout",
       "text": [
        "\n",
        "Downloading Project 2012.1.00352.S obsproject.xml, status InProgress. (476/668)"
       ]
      },
      {
       "output_type": "stream",
       "stream": "stdout",
       "text": [
        "\n",
        "Downloading Project 2013.1.00815.S obsproject.xml, status InProgress. (477/668)"
       ]
      },
      {
       "output_type": "stream",
       "stream": "stdout",
       "text": [
        "\n",
        "Copying Project 2013.1.01177.S obsproposal.xml, status Approved. (478/668)"
       ]
      },
      {
       "output_type": "stream",
       "stream": "stdout",
       "text": [
        "\n",
        "Copying Project 2013.1.00049.S obsproposal.xml, status Approved. (479/668)"
       ]
      },
      {
       "output_type": "stream",
       "stream": "stdout",
       "text": [
        "\n",
        "Downloading Project 2013.1.00152.S obsproject.xml, status Ready. (480/668)"
       ]
      },
      {
       "output_type": "stream",
       "stream": "stdout",
       "text": [
        "\n",
        "Copying Project 2013.1.00323.S obsproposal.xml, status Approved. (481/668)"
       ]
      },
      {
       "output_type": "stream",
       "stream": "stdout",
       "text": [
        "\n",
        "Downloading Project 2012.1.00683.S obsproject.xml, status InProgress. (482/668)"
       ]
      },
      {
       "output_type": "stream",
       "stream": "stdout",
       "text": [
        "\n",
        "Downloading Project 2013.1.00727.S obsproject.xml, status Ready. (483/668)"
       ]
      },
      {
       "output_type": "stream",
       "stream": "stdout",
       "text": [
        "\n",
        "Copying Project 2013.1.00617.S obsproposal.xml, status Approved. (484/668)"
       ]
      },
      {
       "output_type": "stream",
       "stream": "stdout",
       "text": [
        "\n",
        "Downloading Project 2013.1.00206.S obsproject.xml, status Ready. (485/668)"
       ]
      },
      {
       "output_type": "stream",
       "stream": "stdout",
       "text": [
        "\n",
        "Downloading Project 2013.1.00831.S obsproject.xml, status Ready. (486/668)"
       ]
      },
      {
       "output_type": "stream",
       "stream": "stdout",
       "text": [
        "\n",
        "Downloading Project 2013.1.00771.S obsproject.xml, status Phase2Submitted. (487/668)"
       ]
      },
      {
       "output_type": "stream",
       "stream": "stdout",
       "text": [
        "\n",
        "Copying Project 2013.1.01173.S obsproposal.xml, status Approved. (488/668)"
       ]
      },
      {
       "output_type": "stream",
       "stream": "stdout",
       "text": [
        "\n",
        "Copying Project 2013.1.00932.S obsproposal.xml, status Approved. (489/668)"
       ]
      },
      {
       "output_type": "stream",
       "stream": "stdout",
       "text": [
        "\n",
        "Downloading Project 2013.1.00087.S obsproject.xml, status InProgress. (490/668)"
       ]
      },
      {
       "output_type": "stream",
       "stream": "stdout",
       "text": [
        "\n",
        "Downloading Project 2013.1.00214.S obsproject.xml, status InProgress. (491/668)"
       ]
      },
      {
       "output_type": "stream",
       "stream": "stdout",
       "text": [
        "\n",
        "Downloading Project 2012.1.00242.S obsproject.xml, status InProgress. (492/668)"
       ]
      },
      {
       "output_type": "stream",
       "stream": "stdout",
       "text": [
        "\n",
        "Downloading Project 2013.1.00670.S obsproject.xml, status Ready. (493/668)"
       ]
      },
      {
       "output_type": "stream",
       "stream": "stdout",
       "text": [
        "\n",
        "Downloading Project 2013.1.00553.S obsproject.xml, status InProgress. (494/668)"
       ]
      },
      {
       "output_type": "stream",
       "stream": "stdout",
       "text": [
        "\n",
        "Copying Project 2013.1.00927.S obsproposal.xml, status Approved. (495/668)"
       ]
      },
      {
       "output_type": "stream",
       "stream": "stdout",
       "text": [
        "\n",
        "Downloading Project 2013.1.00922.S obsproject.xml, status InProgress. (496/668)\n",
        "Downloading Project 2013.1.01332.S obsproject.xml, status Ready. (497/668)"
       ]
      },
      {
       "output_type": "stream",
       "stream": "stdout",
       "text": [
        "\n",
        "Downloading Project 2012.1.00624.S obsproject.xml, status Ready. (498/668)"
       ]
      },
      {
       "output_type": "stream",
       "stream": "stdout",
       "text": [
        "\n",
        "Downloading Project 2013.1.00196.S obsproject.xml, status InProgress. (499/668)"
       ]
      },
      {
       "output_type": "stream",
       "stream": "stdout",
       "text": [
        "\n",
        "Downloading Project 2013.1.00798.S obsproject.xml, status Ready. (500/668)"
       ]
      },
      {
       "output_type": "stream",
       "stream": "stdout",
       "text": [
        "\n",
        "Downloading Project 2013.1.00465.S obsproject.xml, status InProgress. (501/668)"
       ]
      },
      {
       "output_type": "stream",
       "stream": "stdout",
       "text": [
        "\n",
        "Copying Project 2013.1.00222.T obsproposal.xml, status Approved. (502/668)"
       ]
      },
      {
       "output_type": "stream",
       "stream": "stdout",
       "text": [
        "\n",
        "Downloading Project 2013.1.01155.S obsproject.xml, status InProgress. (503/668)"
       ]
      },
      {
       "output_type": "stream",
       "stream": "stdout",
       "text": [
        "\n",
        "Downloading Project 2013.1.00569.S obsproject.xml, status Ready. (504/668)"
       ]
      },
      {
       "output_type": "stream",
       "stream": "stdout",
       "text": [
        "\n",
        "Downloading Project 2013.1.00114.S obsproject.xml, status Completed. (505/668)"
       ]
      },
      {
       "output_type": "stream",
       "stream": "stdout",
       "text": [
        "\n",
        "Copying Project 2013.1.01204.S obsproposal.xml, status Approved. (506/668)"
       ]
      },
      {
       "output_type": "stream",
       "stream": "stdout",
       "text": [
        "\n",
        "Copying Project 2013.1.01090.S obsproposal.xml, status Approved. (507/668)\n",
        "Downloading Project 2013.1.01389.S obsproject.xml, status Phase2Submitted. (508/668)"
       ]
      },
      {
       "output_type": "stream",
       "stream": "stdout",
       "text": [
        "\n",
        "Downloading Project 2013.1.00877.S obsproject.xml, status Ready. (509/668)"
       ]
      },
      {
       "output_type": "stream",
       "stream": "stdout",
       "text": [
        "\n",
        "Downloading Project 2013.1.00518.S obsproject.xml, status InProgress. (510/668)"
       ]
      },
      {
       "output_type": "stream",
       "stream": "stdout",
       "text": [
        "\n",
        "Downloading Project 2012.1.01123.S obsproject.xml, status Ready. (511/668)"
       ]
      },
      {
       "output_type": "stream",
       "stream": "stdout",
       "text": [
        "\n",
        "Downloading Project 2012.1.00088.S obsproject.xml, status InProgress. (512/668)"
       ]
      },
      {
       "output_type": "stream",
       "stream": "stdout",
       "text": [
        "\n",
        "Downloading Project 2013.1.01286.S obsproject.xml, status Ready. (513/668)"
       ]
      },
      {
       "output_type": "stream",
       "stream": "stdout",
       "text": [
        "\n",
        "Downloading Project 2013.1.00524.S obsproject.xml, status InProgress. (514/668)"
       ]
      },
      {
       "output_type": "stream",
       "stream": "stdout",
       "text": [
        "\n",
        "Downloading Project 2013.1.00192.S obsproject.xml, status Phase2Submitted. (515/668)"
       ]
      },
      {
       "output_type": "stream",
       "stream": "stdout",
       "text": [
        "\n",
        "Downloading Project 2013.1.00095.S obsproject.xml, status Ready. (516/668)"
       ]
      },
      {
       "output_type": "stream",
       "stream": "stdout",
       "text": [
        "\n",
        "Copying Project 2013.1.01296.S obsproposal.xml, status Approved. (517/668)"
       ]
      },
      {
       "output_type": "stream",
       "stream": "stdout",
       "text": [
        "\n",
        "Copying Project 2013.1.01193.S obsproposal.xml, status Approved. (518/668)\n",
        "Downloading Project 2012.1.00857.S obsproject.xml, status Completed. (519/668)"
       ]
      },
      {
       "output_type": "stream",
       "stream": "stdout",
       "text": [
        "\n",
        "Downloading Project 2012.1.00997.S obsproject.xml, status InProgress. (520/668)"
       ]
      },
      {
       "output_type": "stream",
       "stream": "stdout",
       "text": [
        "\n",
        "Downloading Project 2013.1.01151.S obsproject.xml, status InProgress. (521/668)"
       ]
      },
      {
       "output_type": "stream",
       "stream": "stdout",
       "text": [
        "\n",
        "Downloading Project 2013.1.00122.S obsproject.xml, status InProgress. (522/668)"
       ]
      },
      {
       "output_type": "stream",
       "stream": "stdout",
       "text": [
        "\n",
        "Downloading Project 2013.1.00205.S obsproject.xml, status Ready. (523/668)"
       ]
      },
      {
       "output_type": "stream",
       "stream": "stdout",
       "text": [
        "\n",
        "Downloading Project 2013.1.00120.S obsproject.xml, status InProgress. (524/668)"
       ]
      },
      {
       "output_type": "stream",
       "stream": "stdout",
       "text": [
        "\n",
        "Downloading Project 2013.1.00704.S obsproject.xml, status Ready. (525/668)"
       ]
      },
      {
       "output_type": "stream",
       "stream": "stdout",
       "text": [
        "\n",
        "Downloading Project 2013.1.00103.S obsproject.xml, status InProgress. (526/668)"
       ]
      },
      {
       "output_type": "stream",
       "stream": "stdout",
       "text": [
        "\n",
        "Downloading Project 2013.1.00224.S obsproject.xml, status Ready. (527/668)"
       ]
      },
      {
       "output_type": "stream",
       "stream": "stdout",
       "text": [
        "\n",
        "Copying Project 2013.1.00698.S obsproposal.xml, status Approved. (528/668)"
       ]
      },
      {
       "output_type": "stream",
       "stream": "stdout",
       "text": [
        "\n",
        "Downloading Project 2012.1.00678.S obsproject.xml, status Ready. (529/668)"
       ]
      },
      {
       "output_type": "stream",
       "stream": "stdout",
       "text": [
        "\n",
        "Downloading Project 2012.1.00013.S obsproject.xml, status InProgress. (530/668)"
       ]
      },
      {
       "output_type": "stream",
       "stream": "stdout",
       "text": [
        "\n",
        "Downloading Project 2013.1.00740.S obsproject.xml, status Ready. (531/668)"
       ]
      },
      {
       "output_type": "stream",
       "stream": "stdout",
       "text": [
        "\n",
        "Downloading Project 2012.1.00712.S obsproject.xml, status Completed. (532/668)"
       ]
      },
      {
       "output_type": "stream",
       "stream": "stdout",
       "text": [
        "\n",
        "Downloading Project 2012.1.00844.S obsproject.xml, status Completed. (533/668)"
       ]
      },
      {
       "output_type": "stream",
       "stream": "stdout",
       "text": [
        "\n",
        "Downloading Project 2012.1.00543.S obsproject.xml, status InProgress. (534/668)"
       ]
      },
      {
       "output_type": "stream",
       "stream": "stdout",
       "text": [
        "\n",
        "Downloading Project 2013.1.01013.S obsproject.xml, status Completed. (535/668)"
       ]
      },
      {
       "output_type": "stream",
       "stream": "stdout",
       "text": [
        "\n",
        "Downloading Project 2013.1.01157.S obsproject.xml, status Ready. (536/668)"
       ]
      },
      {
       "output_type": "stream",
       "stream": "stdout",
       "text": [
        "\n",
        "Downloading Project 2012.1.00789.S obsproject.xml, status InProgress. (537/668)"
       ]
      },
      {
       "output_type": "stream",
       "stream": "stdout",
       "text": [
        "\n",
        "Downloading Project 2013.1.01180.S obsproject.xml, status InProgress. (538/668)"
       ]
      },
      {
       "output_type": "stream",
       "stream": "stdout",
       "text": [
        "\n",
        "Downloading Project 2013.1.01230.S obsproject.xml, status Ready. (539/668)"
       ]
      },
      {
       "output_type": "stream",
       "stream": "stdout",
       "text": [
        "\n",
        "Downloading Project 2012.1.00324.S obsproject.xml, status Ready. (540/668)"
       ]
      },
      {
       "output_type": "stream",
       "stream": "stdout",
       "text": [
        "\n",
        "Downloading Project 2013.1.00566.S obsproject.xml, status Ready. (541/668)"
       ]
      },
      {
       "output_type": "stream",
       "stream": "stdout",
       "text": [
        "\n",
        "Downloading Project 2012.1.00962.S obsproject.xml, status InProgress. (542/668)"
       ]
      },
      {
       "output_type": "stream",
       "stream": "stdout",
       "text": [
        "\n",
        "Downloading Project 2013.1.01282.S obsproject.xml, status Ready. (543/668)"
       ]
      },
      {
       "output_type": "stream",
       "stream": "stdout",
       "text": [
        "\n",
        "Downloading Project 2012.1.00413.S obsproject.xml, status Ready. (544/668)"
       ]
      },
      {
       "output_type": "stream",
       "stream": "stdout",
       "text": [
        "\n",
        "Downloading Project 2012.1.00853.S obsproject.xml, status InProgress. (545/668)"
       ]
      },
      {
       "output_type": "stream",
       "stream": "stdout",
       "text": [
        "\n",
        "Downloading Project 2012.1.00479.S obsproject.xml, status Ready. (546/668)"
       ]
      },
      {
       "output_type": "stream",
       "stream": "stdout",
       "text": [
        "\n",
        "Downloading Project 2012.1.00983.S obsproject.xml, status Completed. (547/668)"
       ]
      },
      {
       "output_type": "stream",
       "stream": "stdout",
       "text": [
        "\n",
        "Downloading Project 2012.1.00306.S obsproject.xml, status InProgress. (548/668)"
       ]
      },
      {
       "output_type": "stream",
       "stream": "stdout",
       "text": [
        "\n",
        "Downloading Project 2012.1.00178.S obsproject.xml, status InProgress. (549/668)"
       ]
      },
      {
       "output_type": "stream",
       "stream": "stdout",
       "text": [
        "\n",
        "Downloading Project 2013.1.00672.S obsproject.xml, status Phase2Submitted. (550/668)"
       ]
      },
      {
       "output_type": "stream",
       "stream": "stdout",
       "text": [
        "\n",
        "Downloading Project 2013.1.00063.S obsproject.xml, status Ready. (551/668)"
       ]
      },
      {
       "output_type": "stream",
       "stream": "stdout",
       "text": [
        "\n",
        "Downloading Project 2012.1.00237.S obsproject.xml, status Ready. (552/668)"
       ]
      },
      {
       "output_type": "stream",
       "stream": "stdout",
       "text": [
        "\n",
        "Downloading Project 2013.1.00092.S obsproject.xml, status Completed. (553/668)"
       ]
      },
      {
       "output_type": "stream",
       "stream": "stdout",
       "text": [
        "\n",
        "Downloading Project 2012.1.00522.S obsproject.xml, status Ready. (554/668)"
       ]
      },
      {
       "output_type": "stream",
       "stream": "stdout",
       "text": [
        "\n",
        "Downloading Project 2012.1.00631.S obsproject.xml, status Ready. (555/668)\n",
        "Downloading Project 2013.1.00111.S obsproject.xml, status InProgress. (556/668)"
       ]
      },
      {
       "output_type": "stream",
       "stream": "stdout",
       "text": [
        "\n",
        "Downloading Project 2012.1.00385.S obsproject.xml, status InProgress. (557/668)"
       ]
      },
      {
       "output_type": "stream",
       "stream": "stdout",
       "text": [
        "\n",
        "Downloading Project 2013.1.00337.S obsproject.xml, status Phase2Submitted. (558/668)\n",
        "Copying Project 2013.1.00013.S obsproposal.xml, status Approved. (559/668)"
       ]
      },
      {
       "output_type": "stream",
       "stream": "stdout",
       "text": [
        "\n",
        "Downloading Project 2013.1.00014.S obsproject.xml, status Ready. (560/668)"
       ]
      },
      {
       "output_type": "stream",
       "stream": "stdout",
       "text": [
        "\n",
        "Downloading Project 2013.1.01020.S obsproject.xml, status Ready. (561/668)"
       ]
      },
      {
       "output_type": "stream",
       "stream": "stdout",
       "text": [
        "\n",
        "Downloading Project 2012.1.00116.S obsproject.xml, status Completed. (562/668)"
       ]
      },
      {
       "output_type": "stream",
       "stream": "stdout",
       "text": [
        "\n",
        "Copying Project 2013.1.01233.S obsproposal.xml, status Approved. (563/668)"
       ]
      },
      {
       "output_type": "stream",
       "stream": "stdout",
       "text": [
        "\n",
        "Downloading Project 2013.1.00260.S obsproject.xml, status Ready. (564/668)"
       ]
      },
      {
       "output_type": "stream",
       "stream": "stdout",
       "text": [
        "\n",
        "Downloading Project 2013.1.00718.S obsproject.xml, status InProgress. (565/668)"
       ]
      },
      {
       "output_type": "stream",
       "stream": "stdout",
       "text": [
        "\n",
        "Copying Project 2013.1.00342.S obsproposal.xml, status Approved. (566/668)"
       ]
      },
      {
       "output_type": "stream",
       "stream": "stdout",
       "text": [
        "\n",
        "Copying Project 2013.1.00064.S obsproposal.xml, status Approved. (567/668)"
       ]
      },
      {
       "output_type": "stream",
       "stream": "stdout",
       "text": [
        "\n",
        "Copying Project 2013.1.00078.S obsproposal.xml, status Approved. (568/668)"
       ]
      },
      {
       "output_type": "stream",
       "stream": "stdout",
       "text": [
        "\n",
        "Downloading Project 2012.1.00400.S obsproject.xml, status InProgress. (569/668)\n",
        "Downloading Project 2012.1.00469.S obsproject.xml, status Completed. (570/668)"
       ]
      },
      {
       "output_type": "stream",
       "stream": "stdout",
       "text": [
        "\n",
        "Downloading Project 2012.1.00317.S obsproject.xml, status InProgress. (571/668)"
       ]
      },
      {
       "output_type": "stream",
       "stream": "stdout",
       "text": [
        "\n",
        "Downloading Project 2013.1.00273.S obsproject.xml, status InProgress. (572/668)"
       ]
      },
      {
       "output_type": "stream",
       "stream": "stdout",
       "text": [
        "\n",
        "Downloading Project 2013.1.00486.S obsproject.xml, status Phase2Submitted. (573/668)"
       ]
      },
      {
       "output_type": "stream",
       "stream": "stdout",
       "text": [
        "\n",
        "Downloading Project 2013.1.00171.S obsproject.xml, status InProgress. (574/668)\n",
        "Downloading Project 2013.1.00164.S obsproject.xml, status InProgress. (575/668)"
       ]
      },
      {
       "output_type": "stream",
       "stream": "stdout",
       "text": [
        "\n",
        "Copying Project 2013.1.00141.S obsproposal.xml, status Approved. (576/668)"
       ]
      },
      {
       "output_type": "stream",
       "stream": "stdout",
       "text": [
        "\n",
        "Copying Project 2013.1.00121.S obsproposal.xml, status Approved. (577/668)\n",
        "Downloading Project 2012.1.00402.S obsproject.xml, status Completed. (578/668)"
       ]
      },
      {
       "output_type": "stream",
       "stream": "stdout",
       "text": [
        "\n",
        "Downloading Project 2013.1.00305.S obsproject.xml, status Ready. (579/668)"
       ]
      },
      {
       "output_type": "stream",
       "stream": "stdout",
       "text": [
        "\n",
        "Downloading Project 2013.1.00941.S obsproject.xml, status Ready. (580/668)"
       ]
      },
      {
       "output_type": "stream",
       "stream": "stdout",
       "text": [
        "\n",
        "Downloading Project 2013.1.01194.S obsproject.xml, status InProgress. (581/668)"
       ]
      },
      {
       "output_type": "stream",
       "stream": "stdout",
       "text": [
        "\n",
        "Downloading Project 2012.1.00366.S obsproject.xml, status InProgress. (582/668)"
       ]
      },
      {
       "output_type": "stream",
       "stream": "stdout",
       "text": [
        "\n",
        "Downloading Project 2012.1.00993.S obsproject.xml, status Completed. (583/668)"
       ]
      },
      {
       "output_type": "stream",
       "stream": "stdout",
       "text": [
        "\n",
        "Downloading Project 2013.1.01241.S obsproject.xml, status InProgress. (584/668)"
       ]
      },
      {
       "output_type": "stream",
       "stream": "stdout",
       "text": [
        "\n",
        "Downloading Project 2013.1.00244.S obsproject.xml, status Ready. (585/668)"
       ]
      },
      {
       "output_type": "stream",
       "stream": "stdout",
       "text": [
        "\n",
        "Downloading Project 2013.1.01064.S obsproject.xml, status InProgress. (586/668)"
       ]
      },
      {
       "output_type": "stream",
       "stream": "stdout",
       "text": [
        "\n",
        "Downloading Project 2013.1.00662.S obsproject.xml, status InProgress. (587/668)"
       ]
      },
      {
       "output_type": "stream",
       "stream": "stdout",
       "text": [
        "\n",
        "Downloading Project 2013.1.00031.S obsproject.xml, status Ready. (588/668)"
       ]
      },
      {
       "output_type": "stream",
       "stream": "stdout",
       "text": [
        "\n",
        "Downloading Project 2013.1.00832.S obsproject.xml, status InProgress. (589/668)"
       ]
      },
      {
       "output_type": "stream",
       "stream": "stdout",
       "text": [
        "\n",
        "Downloading Project 2012.1.00158.S obsproject.xml, status Completed. (590/668)"
       ]
      },
      {
       "output_type": "stream",
       "stream": "stdout",
       "text": [
        "\n",
        "Downloading Project 2012.1.01022.S obsproject.xml, status Ready. (591/668)"
       ]
      },
      {
       "output_type": "stream",
       "stream": "stdout",
       "text": [
        "\n",
        "Downloading Project 2013.1.00291.S obsproject.xml, status Ready. (592/668)"
       ]
      },
      {
       "output_type": "stream",
       "stream": "stdout",
       "text": [
        "\n",
        "Downloading Project 2012.1.00743.S obsproject.xml, status InProgress. (593/668)"
       ]
      },
      {
       "output_type": "stream",
       "stream": "stdout",
       "text": [
        "\n",
        "Downloading Project 2012.1.00542.S obsproject.xml, status InProgress. (594/668)"
       ]
      },
      {
       "output_type": "stream",
       "stream": "stdout",
       "text": [
        "\n",
        "Downloading Project 2012.1.00334.S obsproject.xml, status Ready. (595/668)"
       ]
      },
      {
       "output_type": "stream",
       "stream": "stdout",
       "text": [
        "\n",
        "Copying Project 2013.1.00145.S obsproposal.xml, status Approved. (596/668)"
       ]
      },
      {
       "output_type": "stream",
       "stream": "stdout",
       "text": [
        "\n",
        "Downloading Project 2013.1.00246.S obsproject.xml, status InProgress. (597/668)\n",
        "Downloading Project 2013.1.00691.S obsproject.xml, status Ready. (598/668)"
       ]
      },
      {
       "output_type": "stream",
       "stream": "stdout",
       "text": [
        "\n",
        "Downloading Project 2013.1.00280.S obsproject.xml, status InProgress. (599/668)"
       ]
      },
      {
       "output_type": "stream",
       "stream": "stdout",
       "text": [
        "\n",
        "Copying Project 2013.1.00259.S obsproposal.xml, status Approved. (600/668)"
       ]
      },
      {
       "output_type": "stream",
       "stream": "stdout",
       "text": [
        "\n",
        "Downloading Project 2013.1.01365.S obsproject.xml, status InProgress. (601/668)\n",
        "Downloading Project 2013.1.00793.S obsproject.xml, status Ready. (602/668)"
       ]
      },
      {
       "output_type": "stream",
       "stream": "stdout",
       "text": [
        "\n",
        "Downloading Project 2013.1.00367.S obsproject.xml, status InProgress. (603/668)"
       ]
      },
      {
       "output_type": "stream",
       "stream": "stdout",
       "text": [
        "\n",
        "Copying Project 2013.1.00134.S obsproposal.xml, status Approved. (604/668)"
       ]
      },
      {
       "output_type": "stream",
       "stream": "stdout",
       "text": [
        "\n",
        "Downloading Project 2013.1.00025.S obsproject.xml, status Ready. (605/668)"
       ]
      }
     ]
    },
    {
     "cell_type": "code",
     "collapsed": false,
     "input": [
      "%time datas.process_sbs(forcenew=True)"
     ],
     "language": "python",
     "metadata": {},
     "outputs": [
      {
       "output_type": "stream",
       "stream": "stdout",
       "text": [
        "Processing Phase II SBs "
       ]
      },
      {
       "output_type": "stream",
       "stream": "stdout",
       "text": [
        "."
       ]
      },
      {
       "output_type": "stream",
       "stream": "stdout",
       "text": [
        "."
       ]
      },
      {
       "output_type": "stream",
       "stream": "stdout",
       "text": [
        "."
       ]
      },
      {
       "output_type": "stream",
       "stream": "stdout",
       "text": [
        "."
       ]
      },
      {
       "output_type": "stream",
       "stream": "stdout",
       "text": [
        "."
       ]
      },
      {
       "output_type": "stream",
       "stream": "stdout",
       "text": [
        "."
       ]
      },
      {
       "output_type": "stream",
       "stream": "stdout",
       "text": [
        "."
       ]
      },
      {
       "output_type": "stream",
       "stream": "stdout",
       "text": [
        "."
       ]
      },
      {
       "output_type": "stream",
       "stream": "stdout",
       "text": [
        "."
       ]
      },
      {
       "output_type": "stream",
       "stream": "stdout",
       "text": [
        " Done!\n",
        "Processing Phase I SBs "
       ]
      },
      {
       "output_type": "stream",
       "stream": "stdout",
       "text": [
        "."
       ]
      },
      {
       "output_type": "stream",
       "stream": "stdout",
       "text": [
        "."
       ]
      },
      {
       "output_type": "stream",
       "stream": "stdout",
       "text": [
        "."
       ]
      },
      {
       "output_type": "stream",
       "stream": "stdout",
       "text": [
        "."
       ]
      },
      {
       "output_type": "stream",
       "stream": "stdout",
       "text": [
        "."
       ]
      },
      {
       "output_type": "stream",
       "stream": "stdout",
       "text": [
        "."
       ]
      },
      {
       "output_type": "stream",
       "stream": "stdout",
       "text": [
        "."
       ]
      },
      {
       "output_type": "stream",
       "stream": "stdout",
       "text": [
        "."
       ]
      },
      {
       "output_type": "stream",
       "stream": "stdout",
       "text": [
        "."
       ]
      },
      {
       "output_type": "stream",
       "stream": "stdout",
       "text": [
        "  Done!\n",
        "CPU times: user 23.7 s, sys: 856 ms, total: 24.6 s"
       ]
      },
      {
       "output_type": "stream",
       "stream": "stdout",
       "text": [
        "\n",
        "Wall time: 24.9 s\n"
       ]
      }
     ],
     "prompt_number": 3
    },
    {
     "cell_type": "code",
     "collapsed": false,
     "input": [
      "datas.do_summarize_sb()"
     ],
     "language": "python",
     "metadata": {},
     "outputs": [
      {
       "output_type": "stream",
       "stream": "stdout",
       "text": [
        "42\n"
       ]
      }
     ],
     "prompt_number": 4
    },
    {
     "cell_type": "code",
     "collapsed": false,
     "input": [
      "df.head()"
     ],
     "language": "python",
     "metadata": {},
     "outputs": [
      {
       "ename": "NameError",
       "evalue": "name 'df' is not defined",
       "output_type": "pyerr",
       "traceback": [
        "\u001b[1;31m---------------------------------------------------------------------------\u001b[0m\n\u001b[1;31mNameError\u001b[0m                                 Traceback (most recent call last)",
        "\u001b[1;32m<ipython-input-5-2569c44faf66>\u001b[0m in \u001b[0;36m<module>\u001b[1;34m()\u001b[0m\n\u001b[1;32m----> 1\u001b[1;33m \u001b[0mdf\u001b[0m\u001b[1;33m.\u001b[0m\u001b[0mhead\u001b[0m\u001b[1;33m(\u001b[0m\u001b[1;33m)\u001b[0m\u001b[1;33m\u001b[0m\u001b[0m\n\u001b[0m",
        "\u001b[1;31mNameError\u001b[0m: name 'df' is not defined"
       ]
      }
     ],
     "prompt_number": 5
    },
    {
     "cell_type": "code",
     "collapsed": false,
     "input": [
      "# Just for plotting...\n",
      "import pylab as py"
     ],
     "language": "python",
     "metadata": {},
     "outputs": []
    },
    {
     "cell_type": "code",
     "collapsed": false,
     "input": [
      "df.query(\"CODE == '2013.1.00033.S'\")"
     ],
     "language": "python",
     "metadata": {},
     "outputs": [
      {
       "html": [
        "<div style=\"max-height:1000px;max-width:1500px;overflow:auto;\">\n",
        "<table border=\"1\" class=\"dataframe\">\n",
        "  <thead>\n",
        "    <tr style=\"text-align: right;\">\n",
        "      <th></th>\n",
        "      <th>OBSPROJECT_UID</th>\n",
        "      <th>CODE</th>\n",
        "      <th>PRJ_LETTER_GRADE</th>\n",
        "      <th>PRJ_STATUS</th>\n",
        "      <th>isCycle2</th>\n",
        "      <th>SB_UID</th>\n",
        "      <th>SG_ID</th>\n",
        "      <th>OUS_ID</th>\n",
        "      <th>sbName</th>\n",
        "      <th>sbStatusXml</th>\n",
        "      <th>repfreq</th>\n",
        "      <th>band</th>\n",
        "      <th>array</th>\n",
        "      <th>RA</th>\n",
        "      <th>DEC</th>\n",
        "      <th>minAR_ot</th>\n",
        "      <th>maxAR_ot</th>\n",
        "      <th>execount</th>\n",
        "      <th>isPolarization</th>\n",
        "      <th>maxPWVC</th>\n",
        "      <th>array12mType</th>\n",
        "      <th>AR</th>\n",
        "      <th>LAS</th>\n",
        "      <th>minArrayAR</th>\n",
        "      <th>maxArrayAR</th>\n",
        "      <th>AR100GHz</th>\n",
        "      <th>LAS100GHz</th>\n",
        "      <th>minArrayAR100GHz</th>\n",
        "      <th>maxArrayAR100GHz</th>\n",
        "      <th>C34_1</th>\n",
        "      <th>C34_2</th>\n",
        "      <th>C34_3</th>\n",
        "      <th>C34_4</th>\n",
        "      <th>C34_5</th>\n",
        "      <th>C34_6</th>\n",
        "      <th>C34_7</th>\n",
        "      <th>allowed12m</th>\n",
        "      <th>corr_allowed12m</th>\n",
        "      <th>phase</th>\n",
        "      <th>SB_ETC_exec</th>\n",
        "      <th>observed</th>\n",
        "      <th>SB_ETC_total</th>\n",
        "      <th>SB_ETC_remain</th>\n",
        "      <th>LST</th>\n",
        "      <th>bestconf</th>\n",
        "      <th>SB_STATE_x</th>\n",
        "      <th>SB_STATE_y</th>\n",
        "    </tr>\n",
        "  </thead>\n",
        "  <tbody>\n",
        "    <tr>\n",
        "      <th>1</th>\n",
        "      <td> uid://A001/X10b/Xe</td>\n",
        "      <td> 2013.1.00033.S</td>\n",
        "      <td> A</td>\n",
        "      <td> InProgress</td>\n",
        "      <td> True</td>\n",
        "      <td>  uid://A001/X11f/Xc</td>\n",
        "      <td> uid://A001/X10b/Xe_1</td>\n",
        "      <td>  X366724612</td>\n",
        "      <td> IRAS_205_a_07_TE</td>\n",
        "      <td> Ready</td>\n",
        "      <td> 343.4729</td>\n",
        "      <td> ALMA_RB_07</td>\n",
        "      <td> TWELVE-M</td>\n",
        "      <td> 314.6117</td>\n",
        "      <td>-42.65009</td>\n",
        "      <td>  0.533698</td>\n",
        "      <td> 0.6522976</td>\n",
        "      <td> 1</td>\n",
        "      <td> True</td>\n",
        "      <td> 0.9</td>\n",
        "      <td> Ext</td>\n",
        "      <td> 0.6</td>\n",
        "      <td> 1</td>\n",
        "      <td> 0.148570</td>\n",
        "      <td> 0.66</td>\n",
        "      <td> 1.991009</td>\n",
        "      <td> 3.318348</td>\n",
        "      <td> 0.493007</td>\n",
        "      <td> 2.190110</td>\n",
        "      <td> 0</td>\n",
        "      <td> 1</td>\n",
        "      <td> 1</td>\n",
        "      <td> 1</td>\n",
        "      <td> 1</td>\n",
        "      <td> 1</td>\n",
        "      <td> 0</td>\n",
        "      <td> 5</td>\n",
        "      <td> 5</td>\n",
        "      <td> II</td>\n",
        "      <td> 0.805074</td>\n",
        "      <td> 1</td>\n",
        "      <td> 0.8050744</td>\n",
        "      <td> 0</td>\n",
        "      <td> 20</td>\n",
        "      <td> C34-2</td>\n",
        "      <td> FullyObserved</td>\n",
        "      <td> FullyObserved</td>\n",
        "    </tr>\n",
        "    <tr>\n",
        "      <th>2</th>\n",
        "      <td> uid://A001/X10b/Xe</td>\n",
        "      <td> 2013.1.00033.S</td>\n",
        "      <td> A</td>\n",
        "      <td> InProgress</td>\n",
        "      <td> True</td>\n",
        "      <td>  uid://A001/X11f/Xd</td>\n",
        "      <td> uid://A001/X10b/Xe_2</td>\n",
        "      <td> X1152712293</td>\n",
        "      <td> IRAS_205_b_07_TE</td>\n",
        "      <td> Ready</td>\n",
        "      <td> 350.0932</td>\n",
        "      <td> ALMA_RB_07</td>\n",
        "      <td> TWELVE-M</td>\n",
        "      <td> 314.6117</td>\n",
        "      <td>-42.65009</td>\n",
        "      <td> 0.5236057</td>\n",
        "      <td> 0.6399625</td>\n",
        "      <td> 1</td>\n",
        "      <td> True</td>\n",
        "      <td> 0.6</td>\n",
        "      <td> Ext</td>\n",
        "      <td> 0.6</td>\n",
        "      <td> 1</td>\n",
        "      <td> 0.145761</td>\n",
        "      <td> 0.66</td>\n",
        "      <td> 2.029385</td>\n",
        "      <td> 3.382308</td>\n",
        "      <td> 0.493007</td>\n",
        "      <td> 2.232323</td>\n",
        "      <td> 0</td>\n",
        "      <td> 1</td>\n",
        "      <td> 1</td>\n",
        "      <td> 1</td>\n",
        "      <td> 1</td>\n",
        "      <td> 1</td>\n",
        "      <td> 0</td>\n",
        "      <td> 5</td>\n",
        "      <td> 5</td>\n",
        "      <td> II</td>\n",
        "      <td> 1.400602</td>\n",
        "      <td> 1</td>\n",
        "      <td>  1.400602</td>\n",
        "      <td> 0</td>\n",
        "      <td> 20</td>\n",
        "      <td> C34-2</td>\n",
        "      <td> FullyObserved</td>\n",
        "      <td> FullyObserved</td>\n",
        "    </tr>\n",
        "    <tr>\n",
        "      <th>3</th>\n",
        "      <td> uid://A001/X10b/Xe</td>\n",
        "      <td> 2013.1.00033.S</td>\n",
        "      <td> A</td>\n",
        "      <td> InProgress</td>\n",
        "      <td> True</td>\n",
        "      <td>  uid://A001/X11f/Xe</td>\n",
        "      <td> uid://A001/X10b/Xe_3</td>\n",
        "      <td>  X912323919</td>\n",
        "      <td> IRAS_205_a_06_TE</td>\n",
        "      <td> Ready</td>\n",
        "      <td> 257.6109</td>\n",
        "      <td> ALMA_RB_06</td>\n",
        "      <td> TWELVE-M</td>\n",
        "      <td> 314.6117</td>\n",
        "      <td>-42.65009</td>\n",
        "      <td>  0.488025</td>\n",
        "      <td>  0.596475</td>\n",
        "      <td> 1</td>\n",
        "      <td> True</td>\n",
        "      <td> 1.2</td>\n",
        "      <td> Ext</td>\n",
        "      <td> 0.6</td>\n",
        "      <td> 1</td>\n",
        "      <td> 0.198089</td>\n",
        "      <td> 0.66</td>\n",
        "      <td> 1.493293</td>\n",
        "      <td> 2.488821</td>\n",
        "      <td> 0.493007</td>\n",
        "      <td> 1.642622</td>\n",
        "      <td> 0</td>\n",
        "      <td> 0</td>\n",
        "      <td> 1</td>\n",
        "      <td> 1</td>\n",
        "      <td> 1</td>\n",
        "      <td> 1</td>\n",
        "      <td> 0</td>\n",
        "      <td> 4</td>\n",
        "      <td> 4</td>\n",
        "      <td> II</td>\n",
        "      <td> 0.951916</td>\n",
        "      <td> 1</td>\n",
        "      <td> 0.9519162</td>\n",
        "      <td> 0</td>\n",
        "      <td> 20</td>\n",
        "      <td> C34-3</td>\n",
        "      <td> FullyObserved</td>\n",
        "      <td> FullyObserved</td>\n",
        "    </tr>\n",
        "    <tr>\n",
        "      <th>4</th>\n",
        "      <td> uid://A001/X10b/Xe</td>\n",
        "      <td> 2013.1.00033.S</td>\n",
        "      <td> A</td>\n",
        "      <td> InProgress</td>\n",
        "      <td> True</td>\n",
        "      <td>  uid://A001/X11f/Xf</td>\n",
        "      <td> uid://A001/X10b/Xe_4</td>\n",
        "      <td>  X345948497</td>\n",
        "      <td> IRAS_205_b_06_TE</td>\n",
        "      <td> Ready</td>\n",
        "      <td> 262.5783</td>\n",
        "      <td> ALMA_RB_06</td>\n",
        "      <td> TWELVE-M</td>\n",
        "      <td> 314.6117</td>\n",
        "      <td>-42.65009</td>\n",
        "      <td> 0.4787927</td>\n",
        "      <td>  0.585191</td>\n",
        "      <td> 1</td>\n",
        "      <td> True</td>\n",
        "      <td> 1.2</td>\n",
        "      <td> Ext</td>\n",
        "      <td> 0.6</td>\n",
        "      <td> 1</td>\n",
        "      <td> 0.194341</td>\n",
        "      <td> 0.66</td>\n",
        "      <td> 1.522087</td>\n",
        "      <td> 2.536812</td>\n",
        "      <td> 0.493007</td>\n",
        "      <td> 1.674296</td>\n",
        "      <td> 0</td>\n",
        "      <td> 0</td>\n",
        "      <td> 1</td>\n",
        "      <td> 1</td>\n",
        "      <td> 1</td>\n",
        "      <td> 1</td>\n",
        "      <td> 0</td>\n",
        "      <td> 4</td>\n",
        "      <td> 4</td>\n",
        "      <td> II</td>\n",
        "      <td> 1.185237</td>\n",
        "      <td> 1</td>\n",
        "      <td>  1.185237</td>\n",
        "      <td> 0</td>\n",
        "      <td> 20</td>\n",
        "      <td> C34-3</td>\n",
        "      <td> FullyObserved</td>\n",
        "      <td> FullyObserved</td>\n",
        "    </tr>\n",
        "    <tr>\n",
        "      <th>5</th>\n",
        "      <td> uid://A001/X10b/Xe</td>\n",
        "      <td> 2013.1.00033.S</td>\n",
        "      <td> A</td>\n",
        "      <td> InProgress</td>\n",
        "      <td> True</td>\n",
        "      <td> uid://A001/X11f/X10</td>\n",
        "      <td> uid://A001/X10b/Xe_5</td>\n",
        "      <td> X1251598566</td>\n",
        "      <td> NGC_4418_a_06_TE</td>\n",
        "      <td> Ready</td>\n",
        "      <td> 271.9527</td>\n",
        "      <td> ALMA_RB_06</td>\n",
        "      <td> TWELVE-M</td>\n",
        "      <td> 186.7276</td>\n",
        "      <td>-0.877642</td>\n",
        "      <td> 0.4622883</td>\n",
        "      <td>  0.565019</td>\n",
        "      <td> 1</td>\n",
        "      <td> True</td>\n",
        "      <td> 1.2</td>\n",
        "      <td> Ext</td>\n",
        "      <td> 0.6</td>\n",
        "      <td> 1</td>\n",
        "      <td> 0.187642</td>\n",
        "      <td> 0.66</td>\n",
        "      <td> 1.565532</td>\n",
        "      <td> 2.609221</td>\n",
        "      <td> 0.489600</td>\n",
        "      <td> 1.722086</td>\n",
        "      <td> 0</td>\n",
        "      <td> 0</td>\n",
        "      <td> 1</td>\n",
        "      <td> 1</td>\n",
        "      <td> 1</td>\n",
        "      <td> 1</td>\n",
        "      <td> 0</td>\n",
        "      <td> 4</td>\n",
        "      <td> 4</td>\n",
        "      <td> II</td>\n",
        "      <td> 0.469090</td>\n",
        "      <td> 1</td>\n",
        "      <td> 0.4690902</td>\n",
        "      <td> 0</td>\n",
        "      <td> 12</td>\n",
        "      <td> C34-3</td>\n",
        "      <td> FullyObserved</td>\n",
        "      <td> FullyObserved</td>\n",
        "    </tr>\n",
        "  </tbody>\n",
        "</table>\n",
        "</div>"
       ],
       "metadata": {},
       "output_type": "pyout",
       "prompt_number": 10,
       "text": [
        "       OBSPROJECT_UID            CODE PRJ_LETTER_GRADE  PRJ_STATUS isCycle2               SB_UID                 SG_ID       OUS_ID            sbName sbStatusXml   repfreq        band     array  \\\n",
        "1  uid://A001/X10b/Xe  2013.1.00033.S                A  InProgress     True   uid://A001/X11f/Xc  uid://A001/X10b/Xe_1   X366724612  IRAS_205_a_07_TE       Ready  343.4729  ALMA_RB_07  TWELVE-M   \n",
        "2  uid://A001/X10b/Xe  2013.1.00033.S                A  InProgress     True   uid://A001/X11f/Xd  uid://A001/X10b/Xe_2  X1152712293  IRAS_205_b_07_TE       Ready  350.0932  ALMA_RB_07  TWELVE-M   \n",
        "3  uid://A001/X10b/Xe  2013.1.00033.S                A  InProgress     True   uid://A001/X11f/Xe  uid://A001/X10b/Xe_3   X912323919  IRAS_205_a_06_TE       Ready  257.6109  ALMA_RB_06  TWELVE-M   \n",
        "4  uid://A001/X10b/Xe  2013.1.00033.S                A  InProgress     True   uid://A001/X11f/Xf  uid://A001/X10b/Xe_4   X345948497  IRAS_205_b_06_TE       Ready  262.5783  ALMA_RB_06  TWELVE-M   \n",
        "5  uid://A001/X10b/Xe  2013.1.00033.S                A  InProgress     True  uid://A001/X11f/X10  uid://A001/X10b/Xe_5  X1251598566  NGC_4418_a_06_TE       Ready  271.9527  ALMA_RB_06  TWELVE-M   \n",
        "\n",
        "         RA       DEC   minAR_ot   maxAR_ot execount isPolarization maxPWVC array12mType   AR  LAS  minArrayAR  maxArrayAR  AR100GHz  LAS100GHz  minArrayAR100GHz  maxArrayAR100GHz  C34_1  C34_2  \\\n",
        "1  314.6117 -42.65009   0.533698  0.6522976        1           True     0.9          Ext  0.6    1    0.148570        0.66  1.991009   3.318348          0.493007          2.190110      0      1   \n",
        "2  314.6117 -42.65009  0.5236057  0.6399625        1           True     0.6          Ext  0.6    1    0.145761        0.66  2.029385   3.382308          0.493007          2.232323      0      1   \n",
        "3  314.6117 -42.65009   0.488025   0.596475        1           True     1.2          Ext  0.6    1    0.198089        0.66  1.493293   2.488821          0.493007          1.642622      0      0   \n",
        "4  314.6117 -42.65009  0.4787927   0.585191        1           True     1.2          Ext  0.6    1    0.194341        0.66  1.522087   2.536812          0.493007          1.674296      0      0   \n",
        "5  186.7276 -0.877642  0.4622883   0.565019        1           True     1.2          Ext  0.6    1    0.187642        0.66  1.565532   2.609221          0.489600          1.722086      0      0   \n",
        "\n",
        "   C34_3  C34_4  C34_5  C34_6  C34_7  allowed12m  corr_allowed12m phase  SB_ETC_exec  observed SB_ETC_total SB_ETC_remain  LST bestconf     SB_STATE_x     SB_STATE_y  \n",
        "1      1      1      1      1      0           5                5    II     0.805074         1    0.8050744             0   20    C34-2  FullyObserved  FullyObserved  \n",
        "2      1      1      1      1      0           5                5    II     1.400602         1     1.400602             0   20    C34-2  FullyObserved  FullyObserved  \n",
        "3      1      1      1      1      0           4                4    II     0.951916         1    0.9519162             0   20    C34-3  FullyObserved  FullyObserved  \n",
        "4      1      1      1      1      0           4                4    II     1.185237         1     1.185237             0   20    C34-3  FullyObserved  FullyObserved  \n",
        "5      1      1      1      1      0           4                4    II     0.469090         1    0.4690902             0   12    C34-3  FullyObserved  FullyObserved  "
       ]
      }
     ],
     "prompt_number": 10
    },
    {
     "cell_type": "code",
     "collapsed": false,
     "input": [
      "pd.pivot_table(df.query('phase == \"II\" and (C34_1 == 1 or C34_2 == 1) and band == \"ALMA_RB_03\"'), index=['array','isCycle2', 'PRJ_LETTER_GRADE'], values=['SB_ETC_total', 'SB_ETC_remain'], aggfunc=pd.np.sum).fillna(0)"
     ],
     "language": "python",
     "metadata": {},
     "outputs": [
      {
       "html": [
        "<div style=\"max-height:1000px;max-width:1500px;overflow:auto;\">\n",
        "<table border=\"1\" class=\"dataframe\">\n",
        "  <thead>\n",
        "    <tr style=\"text-align: right;\">\n",
        "      <th></th>\n",
        "      <th></th>\n",
        "      <th></th>\n",
        "      <th>SB_ETC_remain</th>\n",
        "      <th>SB_ETC_total</th>\n",
        "    </tr>\n",
        "    <tr>\n",
        "      <th>array</th>\n",
        "      <th>isCycle2</th>\n",
        "      <th>PRJ_LETTER_GRADE</th>\n",
        "      <th></th>\n",
        "      <th></th>\n",
        "    </tr>\n",
        "  </thead>\n",
        "  <tbody>\n",
        "    <tr>\n",
        "      <th rowspan=\"4\" valign=\"top\">TWELVE-M</th>\n",
        "      <th>False</th>\n",
        "      <th>B</th>\n",
        "      <td> 1.318061</td>\n",
        "      <td>  27.610069</td>\n",
        "    </tr>\n",
        "    <tr>\n",
        "      <th rowspan=\"3\" valign=\"top\">True </th>\n",
        "      <th>A</th>\n",
        "      <td>-1.167332</td>\n",
        "      <td>  43.330069</td>\n",
        "    </tr>\n",
        "    <tr>\n",
        "      <th>B</th>\n",
        "      <td>-1.590502</td>\n",
        "      <td> 106.027800</td>\n",
        "    </tr>\n",
        "    <tr>\n",
        "      <th>C</th>\n",
        "      <td> 5.943148</td>\n",
        "      <td>  68.846110</td>\n",
        "    </tr>\n",
        "  </tbody>\n",
        "</table>\n",
        "</div>"
       ],
       "metadata": {},
       "output_type": "pyout",
       "prompt_number": 11,
       "text": [
        "                                    SB_ETC_remain  SB_ETC_total\n",
        "array    isCycle2 PRJ_LETTER_GRADE                             \n",
        "TWELVE-M False    B                      1.318061     27.610069\n",
        "         True     A                     -1.167332     43.330069\n",
        "                  B                     -1.590502    106.027800\n",
        "                  C                      5.943148     68.846110"
       ]
      }
     ],
     "prompt_number": 11
    },
    {
     "cell_type": "code",
     "collapsed": false,
     "input": [
      "df.query('phase == \"II\" and observed < execount and observed > 0 and array == \"TWELVE-M\"')[['CODE','SB_UID', 'SB_STATE', 'sbName', 'PRJ_LETTER_GRADE','execount','observed','C34_1','C34_2','C34_3','C34_4','C34_5','C34_6','C34_7','bestconf', 'OBSPROJECT_UID']].sort('CODE')"
     ],
     "language": "python",
     "metadata": {},
     "outputs": [
      {
       "html": [
        "<div style=\"max-height:1000px;max-width:1500px;overflow:auto;\">\n",
        "<table border=\"1\" class=\"dataframe\">\n",
        "  <thead>\n",
        "    <tr style=\"text-align: right;\">\n",
        "      <th></th>\n",
        "      <th>CODE</th>\n",
        "      <th>SB_UID</th>\n",
        "      <th>SB_STATE</th>\n",
        "      <th>sbName</th>\n",
        "      <th>PRJ_LETTER_GRADE</th>\n",
        "      <th>execount</th>\n",
        "      <th>observed</th>\n",
        "      <th>C34_1</th>\n",
        "      <th>C34_2</th>\n",
        "      <th>C34_3</th>\n",
        "      <th>C34_4</th>\n",
        "      <th>C34_5</th>\n",
        "      <th>C34_6</th>\n",
        "      <th>C34_7</th>\n",
        "      <th>bestconf</th>\n",
        "      <th>OBSPROJECT_UID</th>\n",
        "    </tr>\n",
        "  </thead>\n",
        "  <tbody>\n",
        "    <tr>\n",
        "      <th>217 </th>\n",
        "      <td> 2012.1.00173.S</td>\n",
        "      <td> uid://A002/X5a9a13/X7dc</td>\n",
        "      <td>         Ready</td>\n",
        "      <td>                                 HUDF</td>\n",
        "      <td> B</td>\n",
        "      <td> 13</td>\n",
        "      <td> 9</td>\n",
        "      <td> 0</td>\n",
        "      <td> 0</td>\n",
        "      <td> 1</td>\n",
        "      <td> 1</td>\n",
        "      <td> 1</td>\n",
        "      <td> 1</td>\n",
        "      <td> 0</td>\n",
        "      <td> C34-3</td>\n",
        "      <td>  uid://A001/Xa0/X2b5</td>\n",
        "    </tr>\n",
        "    <tr>\n",
        "      <th>710 </th>\n",
        "      <td> 2012.1.00187.S</td>\n",
        "      <td>   uid://A002/X7fb989/X3</td>\n",
        "      <td>         Ready</td>\n",
        "      <td>                       NGC_1097_Band7</td>\n",
        "      <td> B</td>\n",
        "      <td>  3</td>\n",
        "      <td> 1</td>\n",
        "      <td> 0</td>\n",
        "      <td> 0</td>\n",
        "      <td> 0</td>\n",
        "      <td> 0</td>\n",
        "      <td> 0</td>\n",
        "      <td> 1</td>\n",
        "      <td> 1</td>\n",
        "      <td> C34-6</td>\n",
        "      <td>  uid://A001/Xa0/X310</td>\n",
        "    </tr>\n",
        "    <tr>\n",
        "      <th>1088</th>\n",
        "      <td> 2012.1.00198.S</td>\n",
        "      <td> uid://A002/X609170/X166</td>\n",
        "      <td>         Ready</td>\n",
        "      <td>                 AU_Mic_230_12m_C32-6</td>\n",
        "      <td> B</td>\n",
        "      <td>  2</td>\n",
        "      <td> 1</td>\n",
        "      <td> 0</td>\n",
        "      <td> 0</td>\n",
        "      <td> 0</td>\n",
        "      <td> 0</td>\n",
        "      <td> 0</td>\n",
        "      <td> 1</td>\n",
        "      <td> 1</td>\n",
        "      <td> C34-6</td>\n",
        "      <td>  uid://A001/Xa0/X357</td>\n",
        "    </tr>\n",
        "    <tr>\n",
        "      <th>565 </th>\n",
        "      <td> 2012.1.00245.S</td>\n",
        "      <td>  uid://A002/X7fb989/X43</td>\n",
        "      <td>         Ready</td>\n",
        "      <td>          SXDF_MultiSource_Band7_Cont</td>\n",
        "      <td> B</td>\n",
        "      <td>  2</td>\n",
        "      <td> 1</td>\n",
        "      <td> 0</td>\n",
        "      <td> 0</td>\n",
        "      <td> 0</td>\n",
        "      <td> 0</td>\n",
        "      <td> 0</td>\n",
        "      <td> 1</td>\n",
        "      <td> 1</td>\n",
        "      <td> C34-6</td>\n",
        "      <td>  uid://A001/Xa0/X494</td>\n",
        "    </tr>\n",
        "    <tr>\n",
        "      <th>828 </th>\n",
        "      <td> 2012.1.00303.S</td>\n",
        "      <td> uid://A002/X7d1738/X15f</td>\n",
        "      <td>         Ready</td>\n",
        "      <td>          ab_aurigae_12m_B7_repeat_x2</td>\n",
        "      <td> B</td>\n",
        "      <td>  2</td>\n",
        "      <td> 1</td>\n",
        "      <td> 0</td>\n",
        "      <td> 0</td>\n",
        "      <td> 0</td>\n",
        "      <td> 0</td>\n",
        "      <td> 0</td>\n",
        "      <td> 1</td>\n",
        "      <td> 0</td>\n",
        "      <td> C34-6</td>\n",
        "      <td>  uid://A001/Xa0/X612</td>\n",
        "    </tr>\n",
        "    <tr>\n",
        "      <th>1753</th>\n",
        "      <td> 2012.1.00306.S</td>\n",
        "      <td> uid://A002/X7d1738/X144</td>\n",
        "      <td>         Ready</td>\n",
        "      <td>                    IRASF20551_B3_12m</td>\n",
        "      <td> B</td>\n",
        "      <td>  2</td>\n",
        "      <td> 1</td>\n",
        "      <td> 0</td>\n",
        "      <td> 0</td>\n",
        "      <td> 0</td>\n",
        "      <td> 0</td>\n",
        "      <td> 0</td>\n",
        "      <td> 1</td>\n",
        "      <td> 1</td>\n",
        "      <td> C34-6</td>\n",
        "      <td>  uid://A001/Xa0/X62f</td>\n",
        "    </tr>\n",
        "    <tr>\n",
        "      <th>1821</th>\n",
        "      <td> 2012.1.00317.S</td>\n",
        "      <td> uid://A002/X609170/X110</td>\n",
        "      <td>         Ready</td>\n",
        "      <td>                      Arp220_B9_1__C4</td>\n",
        "      <td> B</td>\n",
        "      <td>  2</td>\n",
        "      <td> 1</td>\n",
        "      <td> 0</td>\n",
        "      <td> 0</td>\n",
        "      <td> 0</td>\n",
        "      <td> 0</td>\n",
        "      <td> 1</td>\n",
        "      <td> 0</td>\n",
        "      <td> 0</td>\n",
        "      <td> C34-5</td>\n",
        "      <td>  uid://A001/Xa0/X673</td>\n",
        "    </tr>\n",
        "    <tr>\n",
        "      <th>130 </th>\n",
        "      <td> 2012.1.00377.S</td>\n",
        "      <td> uid://A002/X5d7935/X12b</td>\n",
        "      <td>         Ready</td>\n",
        "      <td>                     NGC4418__c_07_12</td>\n",
        "      <td> B</td>\n",
        "      <td>  3</td>\n",
        "      <td> 1</td>\n",
        "      <td> 0</td>\n",
        "      <td> 0</td>\n",
        "      <td> 0</td>\n",
        "      <td> 0</td>\n",
        "      <td> 0</td>\n",
        "      <td> 1</td>\n",
        "      <td> 1</td>\n",
        "      <td> C34-6</td>\n",
        "      <td>  uid://A001/Xa0/X805</td>\n",
        "    </tr>\n",
        "    <tr>\n",
        "      <th>135 </th>\n",
        "      <td> 2012.1.00377.S</td>\n",
        "      <td> uid://A002/X5d7935/X130</td>\n",
        "      <td>         Ready</td>\n",
        "      <td>                     NGC4418__d_06_12</td>\n",
        "      <td> B</td>\n",
        "      <td>  2</td>\n",
        "      <td> 1</td>\n",
        "      <td> 0</td>\n",
        "      <td> 0</td>\n",
        "      <td> 0</td>\n",
        "      <td> 0</td>\n",
        "      <td> 0</td>\n",
        "      <td> 1</td>\n",
        "      <td> 1</td>\n",
        "      <td> C34-6</td>\n",
        "      <td>  uid://A001/Xa0/X805</td>\n",
        "    </tr>\n",
        "    <tr>\n",
        "      <th>136 </th>\n",
        "      <td> 2012.1.00377.S</td>\n",
        "      <td> uid://A002/X5d7935/X131</td>\n",
        "      <td>         Ready</td>\n",
        "      <td>                     NGC4418__a_09_12</td>\n",
        "      <td> B</td>\n",
        "      <td>  2</td>\n",
        "      <td> 1</td>\n",
        "      <td> 0</td>\n",
        "      <td> 0</td>\n",
        "      <td> 0</td>\n",
        "      <td> 0</td>\n",
        "      <td> 0</td>\n",
        "      <td> 1</td>\n",
        "      <td> 1</td>\n",
        "      <td> C34-6</td>\n",
        "      <td>  uid://A001/Xa0/X805</td>\n",
        "    </tr>\n",
        "    <tr>\n",
        "      <th>1816</th>\n",
        "      <td> 2012.1.00400.S</td>\n",
        "      <td>  uid://A002/X684eb5/X4e</td>\n",
        "      <td>         Ready</td>\n",
        "      <td>                       TW_Hya_372_12m</td>\n",
        "      <td> B</td>\n",
        "      <td>  3</td>\n",
        "      <td> 2</td>\n",
        "      <td> 1</td>\n",
        "      <td> 1</td>\n",
        "      <td> 1</td>\n",
        "      <td> 1</td>\n",
        "      <td> 0</td>\n",
        "      <td> 0</td>\n",
        "      <td> 0</td>\n",
        "      <td> C34-1</td>\n",
        "      <td>  uid://A001/Xa0/X89d</td>\n",
        "    </tr>\n",
        "    <tr>\n",
        "      <th>2247</th>\n",
        "      <td> 2012.1.00524.S</td>\n",
        "      <td> uid://A002/X684eb5/X292</td>\n",
        "      <td>         Ready</td>\n",
        "      <td>                       pi_Gru_a_07_12</td>\n",
        "      <td> B</td>\n",
        "      <td>  2</td>\n",
        "      <td> 1</td>\n",
        "      <td> 1</td>\n",
        "      <td> 0</td>\n",
        "      <td> 0</td>\n",
        "      <td> 0</td>\n",
        "      <td> 0</td>\n",
        "      <td> 0</td>\n",
        "      <td> 0</td>\n",
        "      <td> C34-1</td>\n",
        "      <td>  uid://A001/Xa0/Xbd0</td>\n",
        "    </tr>\n",
        "    <tr>\n",
        "      <th>1715</th>\n",
        "      <td> 2012.1.00543.S</td>\n",
        "      <td> uid://A002/X684eb5/X207</td>\n",
        "      <td>         Ready</td>\n",
        "      <td>                         SgrAstar_12m</td>\n",
        "      <td> B</td>\n",
        "      <td>  2</td>\n",
        "      <td> 1</td>\n",
        "      <td> 1</td>\n",
        "      <td> 0</td>\n",
        "      <td> 0</td>\n",
        "      <td> 0</td>\n",
        "      <td> 0</td>\n",
        "      <td> 0</td>\n",
        "      <td> 0</td>\n",
        "      <td> C34-1</td>\n",
        "      <td>  uid://A001/Xa0/Xc5b</td>\n",
        "    </tr>\n",
        "    <tr>\n",
        "      <th>1489</th>\n",
        "      <td> 2012.1.00604.S</td>\n",
        "      <td> uid://A002/X5ce05d/X106</td>\n",
        "      <td>         Ready</td>\n",
        "      <td> Multi-sourceJ1007+0532_613_12m_C32-1</td>\n",
        "      <td> B</td>\n",
        "      <td>  2</td>\n",
        "      <td> 1</td>\n",
        "      <td> 1</td>\n",
        "      <td> 1</td>\n",
        "      <td> 1</td>\n",
        "      <td> 1</td>\n",
        "      <td> 1</td>\n",
        "      <td> 1</td>\n",
        "      <td> 0</td>\n",
        "      <td> C34-1</td>\n",
        "      <td>  uid://A001/Xa0/Xdf8</td>\n",
        "    </tr>\n",
        "    <tr>\n",
        "      <th>1491</th>\n",
        "      <td> 2012.1.00604.S</td>\n",
        "      <td> uid://A002/X5ce05d/X109</td>\n",
        "      <td> FullyObserved</td>\n",
        "      <td> Multi-sourceJ1604+1645_339_12m_C32-1</td>\n",
        "      <td> B</td>\n",
        "      <td>  2</td>\n",
        "      <td> 1</td>\n",
        "      <td> 1</td>\n",
        "      <td> 1</td>\n",
        "      <td> 1</td>\n",
        "      <td> 1</td>\n",
        "      <td> 1</td>\n",
        "      <td> 1</td>\n",
        "      <td> 0</td>\n",
        "      <td> C34-1</td>\n",
        "      <td>  uid://A001/Xa0/Xdf8</td>\n",
        "    </tr>\n",
        "    <tr>\n",
        "      <th>954 </th>\n",
        "      <td> 2012.1.00775.S</td>\n",
        "      <td> uid://A002/X5d7935/X191</td>\n",
        "      <td>         Ready</td>\n",
        "      <td>             CII-9347+6515+8490+10049</td>\n",
        "      <td> B</td>\n",
        "      <td>  3</td>\n",
        "      <td> 2</td>\n",
        "      <td> 1</td>\n",
        "      <td> 0</td>\n",
        "      <td> 0</td>\n",
        "      <td> 0</td>\n",
        "      <td> 0</td>\n",
        "      <td> 0</td>\n",
        "      <td> 0</td>\n",
        "      <td> C34-1</td>\n",
        "      <td> uid://A001/Xa0/X12ed</td>\n",
        "    </tr>\n",
        "    <tr>\n",
        "      <th>955 </th>\n",
        "      <td> 2012.1.00775.S</td>\n",
        "      <td> uid://A002/X5d7935/X192</td>\n",
        "      <td>         Ready</td>\n",
        "      <td>                        CII-9834+2910</td>\n",
        "      <td> B</td>\n",
        "      <td>  2</td>\n",
        "      <td> 1</td>\n",
        "      <td> 1</td>\n",
        "      <td> 0</td>\n",
        "      <td> 0</td>\n",
        "      <td> 0</td>\n",
        "      <td> 0</td>\n",
        "      <td> 0</td>\n",
        "      <td> 0</td>\n",
        "      <td> C34-1</td>\n",
        "      <td> uid://A001/Xa0/X12ed</td>\n",
        "    </tr>\n",
        "    <tr>\n",
        "      <th>956 </th>\n",
        "      <td> 2012.1.00775.S</td>\n",
        "      <td> uid://A002/X5d7935/X193</td>\n",
        "      <td>         Ready</td>\n",
        "      <td>                        CII-2861+7118</td>\n",
        "      <td> B</td>\n",
        "      <td>  2</td>\n",
        "      <td> 1</td>\n",
        "      <td> 1</td>\n",
        "      <td> 0</td>\n",
        "      <td> 0</td>\n",
        "      <td> 0</td>\n",
        "      <td> 0</td>\n",
        "      <td> 0</td>\n",
        "      <td> 0</td>\n",
        "      <td> C34-1</td>\n",
        "      <td> uid://A001/Xa0/X12ed</td>\n",
        "    </tr>\n",
        "    <tr>\n",
        "      <th>957 </th>\n",
        "      <td> 2012.1.00775.S</td>\n",
        "      <td> uid://A002/X5d7935/X194</td>\n",
        "      <td>         Ready</td>\n",
        "      <td>                       CII-10076+9681</td>\n",
        "      <td> B</td>\n",
        "      <td>  2</td>\n",
        "      <td> 1</td>\n",
        "      <td> 1</td>\n",
        "      <td> 0</td>\n",
        "      <td> 0</td>\n",
        "      <td> 0</td>\n",
        "      <td> 0</td>\n",
        "      <td> 0</td>\n",
        "      <td> 0</td>\n",
        "      <td> C34-1</td>\n",
        "      <td> uid://A001/Xa0/X12ed</td>\n",
        "    </tr>\n",
        "    <tr>\n",
        "      <th>277 </th>\n",
        "      <td> 2012.1.00781.S</td>\n",
        "      <td>   uid://A002/X628157/X9</td>\n",
        "      <td>         Ready</td>\n",
        "      <td>     iras16272-HCOp_345_12m_CS32-1234</td>\n",
        "      <td> B</td>\n",
        "      <td>  2</td>\n",
        "      <td> 1</td>\n",
        "      <td> 1</td>\n",
        "      <td> 0</td>\n",
        "      <td> 0</td>\n",
        "      <td> 0</td>\n",
        "      <td> 0</td>\n",
        "      <td> 0</td>\n",
        "      <td> 0</td>\n",
        "      <td> C34-1</td>\n",
        "      <td> uid://A001/Xa0/X1316</td>\n",
        "    </tr>\n",
        "    <tr>\n",
        "      <th>168 </th>\n",
        "      <td> 2012.1.00786.S</td>\n",
        "      <td>   uid://A002/X83535e/X7</td>\n",
        "      <td>         Ready</td>\n",
        "      <td>                     WISE_J18_b_07_TE</td>\n",
        "      <td> B</td>\n",
        "      <td>  2</td>\n",
        "      <td> 1</td>\n",
        "      <td> 0</td>\n",
        "      <td> 0</td>\n",
        "      <td> 0</td>\n",
        "      <td> 0</td>\n",
        "      <td> 1</td>\n",
        "      <td> 1</td>\n",
        "      <td> 0</td>\n",
        "      <td> C34-5</td>\n",
        "      <td> uid://A001/Xa0/X1337</td>\n",
        "    </tr>\n",
        "    <tr>\n",
        "      <th>1132</th>\n",
        "      <td> 2012.1.00837.S</td>\n",
        "      <td>  uid://A002/X5d50dc/X16</td>\n",
        "      <td>         Ready</td>\n",
        "      <td>                 2A0335_111_12m_C32-5</td>\n",
        "      <td> B</td>\n",
        "      <td>  2</td>\n",
        "      <td> 1</td>\n",
        "      <td> 0</td>\n",
        "      <td> 0</td>\n",
        "      <td> 0</td>\n",
        "      <td> 1</td>\n",
        "      <td> 1</td>\n",
        "      <td> 0</td>\n",
        "      <td> 0</td>\n",
        "      <td> C34-4</td>\n",
        "      <td> uid://A001/Xa0/X14be</td>\n",
        "    </tr>\n",
        "    <tr>\n",
        "      <th>738 </th>\n",
        "      <td> 2012.1.00882.S</td>\n",
        "      <td> uid://A002/X5a9a13/X530</td>\n",
        "      <td>         Ready</td>\n",
        "      <td>                      ULAS_J1120+0641</td>\n",
        "      <td> B</td>\n",
        "      <td>  5</td>\n",
        "      <td> 3</td>\n",
        "      <td> 0</td>\n",
        "      <td> 0</td>\n",
        "      <td> 0</td>\n",
        "      <td> 0</td>\n",
        "      <td> 0</td>\n",
        "      <td> 1</td>\n",
        "      <td> 1</td>\n",
        "      <td> C34-6</td>\n",
        "      <td> uid://A001/Xa0/X1619</td>\n",
        "    </tr>\n",
        "    <tr>\n",
        "      <th>434 </th>\n",
        "      <td> 2012.1.00945.S</td>\n",
        "      <td>  uid://A002/X7d1738/X8c</td>\n",
        "      <td>         Ready</td>\n",
        "      <td>                 L1551_IRS5_12m_C32-4</td>\n",
        "      <td> B</td>\n",
        "      <td>  4</td>\n",
        "      <td> 3</td>\n",
        "      <td> 0</td>\n",
        "      <td> 0</td>\n",
        "      <td> 0</td>\n",
        "      <td> 0</td>\n",
        "      <td> 1</td>\n",
        "      <td> 0</td>\n",
        "      <td> 0</td>\n",
        "      <td> C34-5</td>\n",
        "      <td> uid://A001/Xa0/X1808</td>\n",
        "    </tr>\n",
        "    <tr>\n",
        "      <th>403 </th>\n",
        "      <td> 2012.1.00978.S</td>\n",
        "      <td>  uid://A002/X7fb989/X83</td>\n",
        "      <td>         Ready</td>\n",
        "      <td>                           J1000+0234</td>\n",
        "      <td> B</td>\n",
        "      <td>  2</td>\n",
        "      <td> 1</td>\n",
        "      <td> 0</td>\n",
        "      <td> 0</td>\n",
        "      <td> 0</td>\n",
        "      <td> 0</td>\n",
        "      <td> 1</td>\n",
        "      <td> 0</td>\n",
        "      <td> 0</td>\n",
        "      <td> C34-5</td>\n",
        "      <td> uid://A001/Xa0/X192b</td>\n",
        "    </tr>\n",
        "    <tr>\n",
        "      <th>404 </th>\n",
        "      <td> 2012.1.00978.S</td>\n",
        "      <td>  uid://A002/X7fb989/X84</td>\n",
        "      <td>         Ready</td>\n",
        "      <td>                    GISMO-AK03-B7-12m</td>\n",
        "      <td> B</td>\n",
        "      <td>  2</td>\n",
        "      <td> 1</td>\n",
        "      <td> 0</td>\n",
        "      <td> 0</td>\n",
        "      <td> 0</td>\n",
        "      <td> 1</td>\n",
        "      <td> 1</td>\n",
        "      <td> 1</td>\n",
        "      <td> 0</td>\n",
        "      <td> C34-4</td>\n",
        "      <td> uid://A001/Xa0/X192b</td>\n",
        "    </tr>\n",
        "    <tr>\n",
        "      <th>406 </th>\n",
        "      <td> 2012.1.00979.S</td>\n",
        "      <td> uid://A002/X5d7935/X3c4</td>\n",
        "      <td>         Ready</td>\n",
        "      <td>                    Multi-source_cont</td>\n",
        "      <td> B</td>\n",
        "      <td>  2</td>\n",
        "      <td> 1</td>\n",
        "      <td> 0</td>\n",
        "      <td> 1</td>\n",
        "      <td> 1</td>\n",
        "      <td> 1</td>\n",
        "      <td> 1</td>\n",
        "      <td> 1</td>\n",
        "      <td> 0</td>\n",
        "      <td> C34-2</td>\n",
        "      <td> uid://A001/Xa0/X193d</td>\n",
        "    </tr>\n",
        "    <tr>\n",
        "      <th>729 </th>\n",
        "      <td> 2012.1.01011.S</td>\n",
        "      <td>  uid://A002/X6444ba/Xb1</td>\n",
        "      <td>         Ready</td>\n",
        "      <td>                     Oph_B-11_a_07_12</td>\n",
        "      <td> B</td>\n",
        "      <td>  2</td>\n",
        "      <td> 1</td>\n",
        "      <td> 0</td>\n",
        "      <td> 1</td>\n",
        "      <td> 0</td>\n",
        "      <td> 0</td>\n",
        "      <td> 0</td>\n",
        "      <td> 0</td>\n",
        "      <td> 0</td>\n",
        "      <td> C34-2</td>\n",
        "      <td> uid://A001/Xa0/X1a77</td>\n",
        "    </tr>\n",
        "    <tr>\n",
        "      <th>734 </th>\n",
        "      <td> 2012.1.01011.S</td>\n",
        "      <td>  uid://A002/X6444ba/Xb6</td>\n",
        "      <td>         Ready</td>\n",
        "      <td>                     Oph_B-11_a_03_12</td>\n",
        "      <td> B</td>\n",
        "      <td>  3</td>\n",
        "      <td> 2</td>\n",
        "      <td> 0</td>\n",
        "      <td> 0</td>\n",
        "      <td> 1</td>\n",
        "      <td> 1</td>\n",
        "      <td> 1</td>\n",
        "      <td> 1</td>\n",
        "      <td> 0</td>\n",
        "      <td> C34-3</td>\n",
        "      <td> uid://A001/Xa0/X1a77</td>\n",
        "    </tr>\n",
        "    <tr>\n",
        "      <th>360 </th>\n",
        "      <td> 2013.1.00020.S</td>\n",
        "      <td>    uid://A001/X122/X514</td>\n",
        "      <td> FullyObserved</td>\n",
        "      <td>                  PKS1830-211_c_07_TE</td>\n",
        "      <td> B</td>\n",
        "      <td>  2</td>\n",
        "      <td> 1</td>\n",
        "      <td> 0</td>\n",
        "      <td> 1</td>\n",
        "      <td> 1</td>\n",
        "      <td> 1</td>\n",
        "      <td> 1</td>\n",
        "      <td> 1</td>\n",
        "      <td> 0</td>\n",
        "      <td> C34-2</td>\n",
        "      <td>  uid://A001/X106/X2f</td>\n",
        "    </tr>\n",
        "    <tr>\n",
        "      <th>...</th>\n",
        "      <td>...</td>\n",
        "      <td>...</td>\n",
        "      <td>...</td>\n",
        "      <td>...</td>\n",
        "      <td>...</td>\n",
        "      <td>...</td>\n",
        "      <td>...</td>\n",
        "      <td>...</td>\n",
        "      <td>...</td>\n",
        "      <td>...</td>\n",
        "      <td>...</td>\n",
        "      <td>...</td>\n",
        "      <td>...</td>\n",
        "      <td>...</td>\n",
        "      <td>...</td>\n",
        "      <td>...</td>\n",
        "    </tr>\n",
        "    <tr>\n",
        "      <th>1260</th>\n",
        "      <td> 2013.1.00060.S</td>\n",
        "      <td>     uid://A001/X132/X1f</td>\n",
        "      <td>         Ready</td>\n",
        "      <td>                      NGC1068_a_03_TE</td>\n",
        "      <td> B</td>\n",
        "      <td>  4</td>\n",
        "      <td> 3</td>\n",
        "      <td> 0</td>\n",
        "      <td> 0</td>\n",
        "      <td> 0</td>\n",
        "      <td> 1</td>\n",
        "      <td> 0</td>\n",
        "      <td> 0</td>\n",
        "      <td> 0</td>\n",
        "      <td> C34-4</td>\n",
        "      <td>  uid://A001/X10b/X7f</td>\n",
        "    </tr>\n",
        "    <tr>\n",
        "      <th>1635</th>\n",
        "      <td> 2013.1.00196.S</td>\n",
        "      <td>     uid://A001/X144/X26</td>\n",
        "      <td>         Ready</td>\n",
        "      <td>                       TW_Hya_a_07_TE</td>\n",
        "      <td> B</td>\n",
        "      <td>  3</td>\n",
        "      <td> 1</td>\n",
        "      <td> 0</td>\n",
        "      <td> 1</td>\n",
        "      <td> 1</td>\n",
        "      <td> 1</td>\n",
        "      <td> 0</td>\n",
        "      <td> 0</td>\n",
        "      <td> 0</td>\n",
        "      <td> C34-2</td>\n",
        "      <td>  uid://A001/X10f/X41</td>\n",
        "    </tr>\n",
        "    <tr>\n",
        "      <th>348 </th>\n",
        "      <td> 2013.1.00226.S</td>\n",
        "      <td>    uid://A001/X122/X1de</td>\n",
        "      <td>         Ready</td>\n",
        "      <td>                      lkca_15_a_06_TE</td>\n",
        "      <td> A</td>\n",
        "      <td>  3</td>\n",
        "      <td> 2</td>\n",
        "      <td> 0</td>\n",
        "      <td> 0</td>\n",
        "      <td> 0</td>\n",
        "      <td> 0</td>\n",
        "      <td> 1</td>\n",
        "      <td> 0</td>\n",
        "      <td> 0</td>\n",
        "      <td> C34-5</td>\n",
        "      <td>  uid://A001/X10f/Xb7</td>\n",
        "    </tr>\n",
        "    <tr>\n",
        "      <th>350 </th>\n",
        "      <td> 2013.1.00226.S</td>\n",
        "      <td>    uid://A001/X122/X1e0</td>\n",
        "      <td>         Ready</td>\n",
        "      <td>                     hd_16329_a_06_TE</td>\n",
        "      <td> A</td>\n",
        "      <td>  3</td>\n",
        "      <td> 1</td>\n",
        "      <td> 0</td>\n",
        "      <td> 0</td>\n",
        "      <td> 0</td>\n",
        "      <td> 1</td>\n",
        "      <td> 1</td>\n",
        "      <td> 0</td>\n",
        "      <td> 0</td>\n",
        "      <td> C34-4</td>\n",
        "      <td>  uid://A001/X10f/Xb7</td>\n",
        "    </tr>\n",
        "    <tr>\n",
        "      <th>2011</th>\n",
        "      <td> 2013.1.00229.S</td>\n",
        "      <td>    uid://A001/X121/X1a2</td>\n",
        "      <td>         Ready</td>\n",
        "      <td>                     NGC_3258_a_06_TE</td>\n",
        "      <td> B</td>\n",
        "      <td>  2</td>\n",
        "      <td> 1</td>\n",
        "      <td> 0</td>\n",
        "      <td> 0</td>\n",
        "      <td> 0</td>\n",
        "      <td> 0</td>\n",
        "      <td> 1</td>\n",
        "      <td> 1</td>\n",
        "      <td> 0</td>\n",
        "      <td> C34-5</td>\n",
        "      <td>  uid://A001/X10f/Xc4</td>\n",
        "    </tr>\n",
        "    <tr>\n",
        "      <th>2062</th>\n",
        "      <td> 2013.1.00252.S</td>\n",
        "      <td>    uid://A001/X122/X5bd</td>\n",
        "      <td>         Ready</td>\n",
        "      <td>                     OH_231.8_a_07_TE</td>\n",
        "      <td> B</td>\n",
        "      <td>  3</td>\n",
        "      <td> 1</td>\n",
        "      <td> 0</td>\n",
        "      <td> 0</td>\n",
        "      <td> 0</td>\n",
        "      <td> 0</td>\n",
        "      <td> 1</td>\n",
        "      <td> 1</td>\n",
        "      <td> 0</td>\n",
        "      <td> C34-5</td>\n",
        "      <td>  uid://A001/X10e/Xe2</td>\n",
        "    </tr>\n",
        "    <tr>\n",
        "      <th>161 </th>\n",
        "      <td> 2013.1.00254.S</td>\n",
        "      <td>     uid://A001/X13a/X9d</td>\n",
        "      <td>     Suspended</td>\n",
        "      <td>                       iras4a_a_07_TC</td>\n",
        "      <td> B</td>\n",
        "      <td>  3</td>\n",
        "      <td> 1</td>\n",
        "      <td> 0</td>\n",
        "      <td> 1</td>\n",
        "      <td> 1</td>\n",
        "      <td> 0</td>\n",
        "      <td> 0</td>\n",
        "      <td> 0</td>\n",
        "      <td> 0</td>\n",
        "      <td> C34-2</td>\n",
        "      <td>  uid://A001/X10e/Xe9</td>\n",
        "    </tr>\n",
        "    <tr>\n",
        "      <th>673 </th>\n",
        "      <td> 2013.1.00332.S</td>\n",
        "      <td>      uid://A001/X12b/Xc</td>\n",
        "      <td>         Ready</td>\n",
        "      <td>                      sgrb2_n_a_06_TE</td>\n",
        "      <td> B</td>\n",
        "      <td>  5</td>\n",
        "      <td> 3</td>\n",
        "      <td> 0</td>\n",
        "      <td> 0</td>\n",
        "      <td> 0</td>\n",
        "      <td> 1</td>\n",
        "      <td> 0</td>\n",
        "      <td> 0</td>\n",
        "      <td> 0</td>\n",
        "      <td> C34-4</td>\n",
        "      <td> uid://A001/X10e/X1fa</td>\n",
        "    </tr>\n",
        "    <tr>\n",
        "      <th>674 </th>\n",
        "      <td> 2013.1.00332.S</td>\n",
        "      <td>      uid://A001/X12b/Xd</td>\n",
        "      <td>         Ready</td>\n",
        "      <td>                      sgrb2_n_b_06_TE</td>\n",
        "      <td> B</td>\n",
        "      <td>  2</td>\n",
        "      <td> 1</td>\n",
        "      <td> 0</td>\n",
        "      <td> 0</td>\n",
        "      <td> 0</td>\n",
        "      <td> 1</td>\n",
        "      <td> 0</td>\n",
        "      <td> 0</td>\n",
        "      <td> 0</td>\n",
        "      <td> C34-4</td>\n",
        "      <td> uid://A001/X10e/X1fa</td>\n",
        "    </tr>\n",
        "    <tr>\n",
        "      <th>720 </th>\n",
        "      <td> 2013.1.00362.S</td>\n",
        "      <td>    uid://A001/X121/X3c2</td>\n",
        "      <td>         Ready</td>\n",
        "      <td>                     SSA22J22_a_07_TE</td>\n",
        "      <td> B</td>\n",
        "      <td>  4</td>\n",
        "      <td> 3</td>\n",
        "      <td> 1</td>\n",
        "      <td> 1</td>\n",
        "      <td> 1</td>\n",
        "      <td> 1</td>\n",
        "      <td> 1</td>\n",
        "      <td> 1</td>\n",
        "      <td> 0</td>\n",
        "      <td> C34-1</td>\n",
        "      <td> uid://A001/X10f/X25f</td>\n",
        "    </tr>\n",
        "    <tr>\n",
        "      <th>408 </th>\n",
        "      <td> 2013.1.00437.S</td>\n",
        "      <td>     uid://A001/X11d/X11</td>\n",
        "      <td>         Ready</td>\n",
        "      <td>                     J1055597_a_07_TE</td>\n",
        "      <td> B</td>\n",
        "      <td>  2</td>\n",
        "      <td> 1</td>\n",
        "      <td> 0</td>\n",
        "      <td> 1</td>\n",
        "      <td> 1</td>\n",
        "      <td> 1</td>\n",
        "      <td> 1</td>\n",
        "      <td> 1</td>\n",
        "      <td> 1</td>\n",
        "      <td> C34-2</td>\n",
        "      <td> uid://A001/X10e/X36d</td>\n",
        "    </tr>\n",
        "    <tr>\n",
        "      <th>817 </th>\n",
        "      <td> 2013.1.00450.S</td>\n",
        "      <td>     uid://A001/X144/X5c</td>\n",
        "      <td>         Ready</td>\n",
        "      <td>                      rmc_127_a_07_TE</td>\n",
        "      <td> B</td>\n",
        "      <td>  2</td>\n",
        "      <td> 1</td>\n",
        "      <td> 1</td>\n",
        "      <td> 1</td>\n",
        "      <td> 0</td>\n",
        "      <td> 0</td>\n",
        "      <td> 0</td>\n",
        "      <td> 0</td>\n",
        "      <td> 0</td>\n",
        "      <td> C34-1</td>\n",
        "      <td> uid://A001/X10e/X399</td>\n",
        "    </tr>\n",
        "    <tr>\n",
        "      <th>1158</th>\n",
        "      <td> 2013.1.00521.S</td>\n",
        "      <td>    uid://A001/X122/X58a</td>\n",
        "      <td>         Ready</td>\n",
        "      <td>                     MRC_0114_a_06_TE</td>\n",
        "      <td> B</td>\n",
        "      <td>  2</td>\n",
        "      <td> 1</td>\n",
        "      <td> 0</td>\n",
        "      <td> 0</td>\n",
        "      <td> 0</td>\n",
        "      <td> 0</td>\n",
        "      <td> 1</td>\n",
        "      <td> 1</td>\n",
        "      <td> 0</td>\n",
        "      <td> C34-5</td>\n",
        "      <td> uid://A001/X10e/X46b</td>\n",
        "    </tr>\n",
        "    <tr>\n",
        "      <th>1165</th>\n",
        "      <td> 2013.1.00521.S</td>\n",
        "      <td>    uid://A001/X122/X591</td>\n",
        "      <td>         Ready</td>\n",
        "      <td>                     MRC_2048_a_06_TE</td>\n",
        "      <td> B</td>\n",
        "      <td>  2</td>\n",
        "      <td> 1</td>\n",
        "      <td> 0</td>\n",
        "      <td> 0</td>\n",
        "      <td> 0</td>\n",
        "      <td> 0</td>\n",
        "      <td> 0</td>\n",
        "      <td> 1</td>\n",
        "      <td> 0</td>\n",
        "      <td> C34-6</td>\n",
        "      <td> uid://A001/X10e/X46b</td>\n",
        "    </tr>\n",
        "    <tr>\n",
        "      <th>1667</th>\n",
        "      <td> 2013.1.00524.S</td>\n",
        "      <td>    uid://A001/X121/X11c</td>\n",
        "      <td>         Ready</td>\n",
        "      <td>                       IC5179_a_09_TE</td>\n",
        "      <td> B</td>\n",
        "      <td>  2</td>\n",
        "      <td> 1</td>\n",
        "      <td> 0</td>\n",
        "      <td> 0</td>\n",
        "      <td> 0</td>\n",
        "      <td> 0</td>\n",
        "      <td> 1</td>\n",
        "      <td> 1</td>\n",
        "      <td> 0</td>\n",
        "      <td> C34-5</td>\n",
        "      <td> uid://A001/X10e/X479</td>\n",
        "    </tr>\n",
        "    <tr>\n",
        "      <th>1120</th>\n",
        "      <td> 2013.1.00647.S</td>\n",
        "      <td>    uid://A001/X122/X22a</td>\n",
        "      <td>         Ready</td>\n",
        "      <td>                       DM_Tau_a_03_TE</td>\n",
        "      <td> B</td>\n",
        "      <td>  2</td>\n",
        "      <td> 1</td>\n",
        "      <td> 0</td>\n",
        "      <td> 0</td>\n",
        "      <td> 0</td>\n",
        "      <td> 0</td>\n",
        "      <td> 1</td>\n",
        "      <td> 1</td>\n",
        "      <td> 0</td>\n",
        "      <td> C34-5</td>\n",
        "      <td> uid://A001/X10e/X62e</td>\n",
        "    </tr>\n",
        "    <tr>\n",
        "      <th>1875</th>\n",
        "      <td> 2013.1.00662.S</td>\n",
        "      <td>     uid://A001/X145/Xb8</td>\n",
        "      <td>         Ready</td>\n",
        "      <td>                        OMC-2_a_03_TE</td>\n",
        "      <td> C</td>\n",
        "      <td>  7</td>\n",
        "      <td> 6</td>\n",
        "      <td> 0</td>\n",
        "      <td> 1</td>\n",
        "      <td> 0</td>\n",
        "      <td> 0</td>\n",
        "      <td> 0</td>\n",
        "      <td> 0</td>\n",
        "      <td> 0</td>\n",
        "      <td> C34-2</td>\n",
        "      <td> uid://A001/X10e/X65f</td>\n",
        "    </tr>\n",
        "    <tr>\n",
        "      <th>655 </th>\n",
        "      <td> 2013.1.00694.S</td>\n",
        "      <td>    uid://A001/X121/X2b8</td>\n",
        "      <td>         Ready</td>\n",
        "      <td>                       IM_Lup_a_06_TE</td>\n",
        "      <td> B</td>\n",
        "      <td>  2</td>\n",
        "      <td> 1</td>\n",
        "      <td> 0</td>\n",
        "      <td> 0</td>\n",
        "      <td> 0</td>\n",
        "      <td> 1</td>\n",
        "      <td> 0</td>\n",
        "      <td> 0</td>\n",
        "      <td> 0</td>\n",
        "      <td> C34-4</td>\n",
        "      <td> uid://A001/X10e/X6da</td>\n",
        "    </tr>\n",
        "    <tr>\n",
        "      <th>1211</th>\n",
        "      <td> 2013.1.00726.S</td>\n",
        "      <td>    uid://A001/X121/X2fe</td>\n",
        "      <td>         Ready</td>\n",
        "      <td>                     Serpens__a_07_TE</td>\n",
        "      <td> B</td>\n",
        "      <td>  4</td>\n",
        "      <td> 1</td>\n",
        "      <td> 0</td>\n",
        "      <td> 0</td>\n",
        "      <td> 0</td>\n",
        "      <td> 1</td>\n",
        "      <td> 0</td>\n",
        "      <td> 0</td>\n",
        "      <td> 0</td>\n",
        "      <td> C34-4</td>\n",
        "      <td> uid://A001/X10e/X751</td>\n",
        "    </tr>\n",
        "    <tr>\n",
        "      <th>620 </th>\n",
        "      <td> 2013.1.00773.S</td>\n",
        "      <td>    uid://A001/X145/X346</td>\n",
        "      <td>         Ready</td>\n",
        "      <td>                      HD95086_a_06_TE</td>\n",
        "      <td> B</td>\n",
        "      <td>  4</td>\n",
        "      <td> 1</td>\n",
        "      <td> 0</td>\n",
        "      <td> 0</td>\n",
        "      <td> 1</td>\n",
        "      <td> 1</td>\n",
        "      <td> 0</td>\n",
        "      <td> 0</td>\n",
        "      <td> 0</td>\n",
        "      <td> C34-3</td>\n",
        "      <td> uid://A001/X10f/X76f</td>\n",
        "    </tr>\n",
        "    <tr>\n",
        "      <th>2176</th>\n",
        "      <td> 2013.1.00803.S</td>\n",
        "      <td>    uid://A001/X121/X14f</td>\n",
        "      <td>         Ready</td>\n",
        "      <td>                     Centauru_a_03_TE</td>\n",
        "      <td> B</td>\n",
        "      <td>  2</td>\n",
        "      <td> 1</td>\n",
        "      <td> 0</td>\n",
        "      <td> 0</td>\n",
        "      <td> 0</td>\n",
        "      <td> 1</td>\n",
        "      <td> 1</td>\n",
        "      <td> 0</td>\n",
        "      <td> 0</td>\n",
        "      <td> C34-4</td>\n",
        "      <td> uid://A001/X10e/X8b1</td>\n",
        "    </tr>\n",
        "    <tr>\n",
        "      <th>813 </th>\n",
        "      <td> 2013.1.00806.S</td>\n",
        "      <td>    uid://A001/X13e/X232</td>\n",
        "      <td>         Ready</td>\n",
        "      <td>                      IRDC-D1_a_06_TE</td>\n",
        "      <td> B</td>\n",
        "      <td>  2</td>\n",
        "      <td> 1</td>\n",
        "      <td> 1</td>\n",
        "      <td> 0</td>\n",
        "      <td> 0</td>\n",
        "      <td> 0</td>\n",
        "      <td> 0</td>\n",
        "      <td> 0</td>\n",
        "      <td> 0</td>\n",
        "      <td> C34-1</td>\n",
        "      <td> uid://A001/X10e/X8bd</td>\n",
        "    </tr>\n",
        "    <tr>\n",
        "      <th>1482</th>\n",
        "      <td> 2013.1.01113.S</td>\n",
        "      <td>    uid://A001/X122/X26d</td>\n",
        "      <td>         Ready</td>\n",
        "      <td>                     Cha-MMS1_a_06_TE</td>\n",
        "      <td> B</td>\n",
        "      <td>  2</td>\n",
        "      <td> 1</td>\n",
        "      <td> 0</td>\n",
        "      <td> 0</td>\n",
        "      <td> 0</td>\n",
        "      <td> 0</td>\n",
        "      <td> 1</td>\n",
        "      <td> 0</td>\n",
        "      <td> 0</td>\n",
        "      <td> C34-5</td>\n",
        "      <td>  uid://A001/X113/X86</td>\n",
        "    </tr>\n",
        "    <tr>\n",
        "      <th>744 </th>\n",
        "      <td> 2013.1.01142.S</td>\n",
        "      <td>     uid://A001/X130/X12</td>\n",
        "      <td>         Ready</td>\n",
        "      <td>                        m33-1_a_03_TE</td>\n",
        "      <td> B</td>\n",
        "      <td>  2</td>\n",
        "      <td> 1</td>\n",
        "      <td> 0</td>\n",
        "      <td> 0</td>\n",
        "      <td> 0</td>\n",
        "      <td> 0</td>\n",
        "      <td> 1</td>\n",
        "      <td> 1</td>\n",
        "      <td> 0</td>\n",
        "      <td> C34-5</td>\n",
        "      <td> uid://A001/X113/X101</td>\n",
        "    </tr>\n",
        "    <tr>\n",
        "      <th>15  </th>\n",
        "      <td> 2013.1.01172.S</td>\n",
        "      <td>    uid://A001/X12a/X1e0</td>\n",
        "      <td>         Ready</td>\n",
        "      <td>                     ngc_1614_b_03_TE</td>\n",
        "      <td> B</td>\n",
        "      <td>  2</td>\n",
        "      <td> 1</td>\n",
        "      <td> 0</td>\n",
        "      <td> 0</td>\n",
        "      <td> 0</td>\n",
        "      <td> 1</td>\n",
        "      <td> 1</td>\n",
        "      <td> 1</td>\n",
        "      <td> 0</td>\n",
        "      <td> C34-4</td>\n",
        "      <td> uid://A001/X112/X1a4</td>\n",
        "    </tr>\n",
        "    <tr>\n",
        "      <th>1407</th>\n",
        "      <td> 2013.1.01192.S</td>\n",
        "      <td>     uid://A001/X12d/Xdd</td>\n",
        "      <td>       Waiting</td>\n",
        "      <td>                     NGC_2264_a_07_TE</td>\n",
        "      <td> B</td>\n",
        "      <td>  2</td>\n",
        "      <td> 1</td>\n",
        "      <td> 0</td>\n",
        "      <td> 0</td>\n",
        "      <td> 1</td>\n",
        "      <td> 1</td>\n",
        "      <td> 0</td>\n",
        "      <td> 0</td>\n",
        "      <td> 0</td>\n",
        "      <td> C34-3</td>\n",
        "      <td> uid://A001/X113/X1f1</td>\n",
        "    </tr>\n",
        "    <tr>\n",
        "      <th>173 </th>\n",
        "      <td> 2013.1.01258.S</td>\n",
        "      <td>    uid://A001/X122/X3c7</td>\n",
        "      <td>         Ready</td>\n",
        "      <td>                     aztec3-p_a_07_TE</td>\n",
        "      <td> B</td>\n",
        "      <td>  4</td>\n",
        "      <td> 1</td>\n",
        "      <td> 1</td>\n",
        "      <td> 1</td>\n",
        "      <td> 1</td>\n",
        "      <td> 1</td>\n",
        "      <td> 1</td>\n",
        "      <td> 1</td>\n",
        "      <td> 0</td>\n",
        "      <td> C34-1</td>\n",
        "      <td> uid://A001/X113/X362</td>\n",
        "    </tr>\n",
        "    <tr>\n",
        "      <th>1341</th>\n",
        "      <td> 2013.1.01271.S</td>\n",
        "      <td>    uid://A001/X121/X468</td>\n",
        "      <td>         Ready</td>\n",
        "      <td>                      UDF6462_a_06_TE</td>\n",
        "      <td> B</td>\n",
        "      <td>  6</td>\n",
        "      <td> 2</td>\n",
        "      <td> 0</td>\n",
        "      <td> 0</td>\n",
        "      <td> 0</td>\n",
        "      <td> 0</td>\n",
        "      <td> 1</td>\n",
        "      <td> 1</td>\n",
        "      <td> 0</td>\n",
        "      <td> C34-5</td>\n",
        "      <td> uid://A001/X112/X347</td>\n",
        "    </tr>\n",
        "    <tr>\n",
        "      <th>393 </th>\n",
        "      <td> 2013.1.01312.S</td>\n",
        "      <td>     uid://A001/X122/Xec</td>\n",
        "      <td>         Ready</td>\n",
        "      <td>                          M83_a_03_TE</td>\n",
        "      <td> A</td>\n",
        "      <td>  4</td>\n",
        "      <td> 2</td>\n",
        "      <td> 0</td>\n",
        "      <td> 0</td>\n",
        "      <td> 1</td>\n",
        "      <td> 1</td>\n",
        "      <td> 0</td>\n",
        "      <td> 0</td>\n",
        "      <td> 0</td>\n",
        "      <td> C34-3</td>\n",
        "      <td> uid://A001/X113/X46f</td>\n",
        "    </tr>\n",
        "    <tr>\n",
        "      <th>1925</th>\n",
        "      <td> 2013.1.01365.S</td>\n",
        "      <td>     uid://A001/X12f/X99</td>\n",
        "      <td>         Ready</td>\n",
        "      <td>                      W43-MM1_a_06_TE</td>\n",
        "      <td> B</td>\n",
        "      <td>  3</td>\n",
        "      <td> 1</td>\n",
        "      <td> 0</td>\n",
        "      <td> 0</td>\n",
        "      <td> 0</td>\n",
        "      <td> 0</td>\n",
        "      <td> 1</td>\n",
        "      <td> 0</td>\n",
        "      <td> 0</td>\n",
        "      <td> C34-5</td>\n",
        "      <td> uid://A001/X112/X528</td>\n",
        "    </tr>\n",
        "  </tbody>\n",
        "</table>\n",
        "<p>61 rows \u00d7 16 columns</p>\n",
        "</div>"
       ],
       "metadata": {},
       "output_type": "pyout",
       "prompt_number": 17,
       "text": [
        "                CODE                   SB_UID       SB_STATE                                sbName PRJ_LETTER_GRADE  execount  observed  C34_1  C34_2  C34_3  C34_4  C34_5  C34_6  C34_7 bestconf  \\\n",
        "217   2012.1.00173.S  uid://A002/X5a9a13/X7dc          Ready                                  HUDF                B        13         9      0      0      1      1      1      1      0    C34-3   \n",
        "710   2012.1.00187.S    uid://A002/X7fb989/X3          Ready                        NGC_1097_Band7                B         3         1      0      0      0      0      0      1      1    C34-6   \n",
        "1088  2012.1.00198.S  uid://A002/X609170/X166          Ready                  AU_Mic_230_12m_C32-6                B         2         1      0      0      0      0      0      1      1    C34-6   \n",
        "565   2012.1.00245.S   uid://A002/X7fb989/X43          Ready           SXDF_MultiSource_Band7_Cont                B         2         1      0      0      0      0      0      1      1    C34-6   \n",
        "828   2012.1.00303.S  uid://A002/X7d1738/X15f          Ready           ab_aurigae_12m_B7_repeat_x2                B         2         1      0      0      0      0      0      1      0    C34-6   \n",
        "1753  2012.1.00306.S  uid://A002/X7d1738/X144          Ready                     IRASF20551_B3_12m                B         2         1      0      0      0      0      0      1      1    C34-6   \n",
        "1821  2012.1.00317.S  uid://A002/X609170/X110          Ready                       Arp220_B9_1__C4                B         2         1      0      0      0      0      1      0      0    C34-5   \n",
        "130   2012.1.00377.S  uid://A002/X5d7935/X12b          Ready                      NGC4418__c_07_12                B         3         1      0      0      0      0      0      1      1    C34-6   \n",
        "135   2012.1.00377.S  uid://A002/X5d7935/X130          Ready                      NGC4418__d_06_12                B         2         1      0      0      0      0      0      1      1    C34-6   \n",
        "136   2012.1.00377.S  uid://A002/X5d7935/X131          Ready                      NGC4418__a_09_12                B         2         1      0      0      0      0      0      1      1    C34-6   \n",
        "1816  2012.1.00400.S   uid://A002/X684eb5/X4e          Ready                        TW_Hya_372_12m                B         3         2      1      1      1      1      0      0      0    C34-1   \n",
        "2247  2012.1.00524.S  uid://A002/X684eb5/X292          Ready                        pi_Gru_a_07_12                B         2         1      1      0      0      0      0      0      0    C34-1   \n",
        "1715  2012.1.00543.S  uid://A002/X684eb5/X207          Ready                          SgrAstar_12m                B         2         1      1      0      0      0      0      0      0    C34-1   \n",
        "1489  2012.1.00604.S  uid://A002/X5ce05d/X106          Ready  Multi-sourceJ1007+0532_613_12m_C32-1                B         2         1      1      1      1      1      1      1      0    C34-1   \n",
        "1491  2012.1.00604.S  uid://A002/X5ce05d/X109  FullyObserved  Multi-sourceJ1604+1645_339_12m_C32-1                B         2         1      1      1      1      1      1      1      0    C34-1   \n",
        "954   2012.1.00775.S  uid://A002/X5d7935/X191          Ready              CII-9347+6515+8490+10049                B         3         2      1      0      0      0      0      0      0    C34-1   \n",
        "955   2012.1.00775.S  uid://A002/X5d7935/X192          Ready                         CII-9834+2910                B         2         1      1      0      0      0      0      0      0    C34-1   \n",
        "956   2012.1.00775.S  uid://A002/X5d7935/X193          Ready                         CII-2861+7118                B         2         1      1      0      0      0      0      0      0    C34-1   \n",
        "957   2012.1.00775.S  uid://A002/X5d7935/X194          Ready                        CII-10076+9681                B         2         1      1      0      0      0      0      0      0    C34-1   \n",
        "277   2012.1.00781.S    uid://A002/X628157/X9          Ready      iras16272-HCOp_345_12m_CS32-1234                B         2         1      1      0      0      0      0      0      0    C34-1   \n",
        "168   2012.1.00786.S    uid://A002/X83535e/X7          Ready                      WISE_J18_b_07_TE                B         2         1      0      0      0      0      1      1      0    C34-5   \n",
        "1132  2012.1.00837.S   uid://A002/X5d50dc/X16          Ready                  2A0335_111_12m_C32-5                B         2         1      0      0      0      1      1      0      0    C34-4   \n",
        "738   2012.1.00882.S  uid://A002/X5a9a13/X530          Ready                       ULAS_J1120+0641                B         5         3      0      0      0      0      0      1      1    C34-6   \n",
        "434   2012.1.00945.S   uid://A002/X7d1738/X8c          Ready                  L1551_IRS5_12m_C32-4                B         4         3      0      0      0      0      1      0      0    C34-5   \n",
        "403   2012.1.00978.S   uid://A002/X7fb989/X83          Ready                            J1000+0234                B         2         1      0      0      0      0      1      0      0    C34-5   \n",
        "404   2012.1.00978.S   uid://A002/X7fb989/X84          Ready                     GISMO-AK03-B7-12m                B         2         1      0      0      0      1      1      1      0    C34-4   \n",
        "406   2012.1.00979.S  uid://A002/X5d7935/X3c4          Ready                     Multi-source_cont                B         2         1      0      1      1      1      1      1      0    C34-2   \n",
        "729   2012.1.01011.S   uid://A002/X6444ba/Xb1          Ready                      Oph_B-11_a_07_12                B         2         1      0      1      0      0      0      0      0    C34-2   \n",
        "734   2012.1.01011.S   uid://A002/X6444ba/Xb6          Ready                      Oph_B-11_a_03_12                B         3         2      0      0      1      1      1      1      0    C34-3   \n",
        "360   2013.1.00020.S     uid://A001/X122/X514  FullyObserved                   PKS1830-211_c_07_TE                B         2         1      0      1      1      1      1      1      0    C34-2   \n",
        "...              ...                      ...            ...                                   ...              ...       ...       ...    ...    ...    ...    ...    ...    ...    ...      ...   \n",
        "1260  2013.1.00060.S      uid://A001/X132/X1f          Ready                       NGC1068_a_03_TE                B         4         3      0      0      0      1      0      0      0    C34-4   \n",
        "1635  2013.1.00196.S      uid://A001/X144/X26          Ready                        TW_Hya_a_07_TE                B         3         1      0      1      1      1      0      0      0    C34-2   \n",
        "348   2013.1.00226.S     uid://A001/X122/X1de          Ready                       lkca_15_a_06_TE                A         3         2      0      0      0      0      1      0      0    C34-5   \n",
        "350   2013.1.00226.S     uid://A001/X122/X1e0          Ready                      hd_16329_a_06_TE                A         3         1      0      0      0      1      1      0      0    C34-4   \n",
        "2011  2013.1.00229.S     uid://A001/X121/X1a2          Ready                      NGC_3258_a_06_TE                B         2         1      0      0      0      0      1      1      0    C34-5   \n",
        "2062  2013.1.00252.S     uid://A001/X122/X5bd          Ready                      OH_231.8_a_07_TE                B         3         1      0      0      0      0      1      1      0    C34-5   \n",
        "161   2013.1.00254.S      uid://A001/X13a/X9d      Suspended                        iras4a_a_07_TC                B         3         1      0      1      1      0      0      0      0    C34-2   \n",
        "673   2013.1.00332.S       uid://A001/X12b/Xc          Ready                       sgrb2_n_a_06_TE                B         5         3      0      0      0      1      0      0      0    C34-4   \n",
        "674   2013.1.00332.S       uid://A001/X12b/Xd          Ready                       sgrb2_n_b_06_TE                B         2         1      0      0      0      1      0      0      0    C34-4   \n",
        "720   2013.1.00362.S     uid://A001/X121/X3c2          Ready                      SSA22J22_a_07_TE                B         4         3      1      1      1      1      1      1      0    C34-1   \n",
        "408   2013.1.00437.S      uid://A001/X11d/X11          Ready                      J1055597_a_07_TE                B         2         1      0      1      1      1      1      1      1    C34-2   \n",
        "817   2013.1.00450.S      uid://A001/X144/X5c          Ready                       rmc_127_a_07_TE                B         2         1      1      1      0      0      0      0      0    C34-1   \n",
        "1158  2013.1.00521.S     uid://A001/X122/X58a          Ready                      MRC_0114_a_06_TE                B         2         1      0      0      0      0      1      1      0    C34-5   \n",
        "1165  2013.1.00521.S     uid://A001/X122/X591          Ready                      MRC_2048_a_06_TE                B         2         1      0      0      0      0      0      1      0    C34-6   \n",
        "1667  2013.1.00524.S     uid://A001/X121/X11c          Ready                        IC5179_a_09_TE                B         2         1      0      0      0      0      1      1      0    C34-5   \n",
        "1120  2013.1.00647.S     uid://A001/X122/X22a          Ready                        DM_Tau_a_03_TE                B         2         1      0      0      0      0      1      1      0    C34-5   \n",
        "1875  2013.1.00662.S      uid://A001/X145/Xb8          Ready                         OMC-2_a_03_TE                C         7         6      0      1      0      0      0      0      0    C34-2   \n",
        "655   2013.1.00694.S     uid://A001/X121/X2b8          Ready                        IM_Lup_a_06_TE                B         2         1      0      0      0      1      0      0      0    C34-4   \n",
        "1211  2013.1.00726.S     uid://A001/X121/X2fe          Ready                      Serpens__a_07_TE                B         4         1      0      0      0      1      0      0      0    C34-4   \n",
        "620   2013.1.00773.S     uid://A001/X145/X346          Ready                       HD95086_a_06_TE                B         4         1      0      0      1      1      0      0      0    C34-3   \n",
        "2176  2013.1.00803.S     uid://A001/X121/X14f          Ready                      Centauru_a_03_TE                B         2         1      0      0      0      1      1      0      0    C34-4   \n",
        "813   2013.1.00806.S     uid://A001/X13e/X232          Ready                       IRDC-D1_a_06_TE                B         2         1      1      0      0      0      0      0      0    C34-1   \n",
        "1482  2013.1.01113.S     uid://A001/X122/X26d          Ready                      Cha-MMS1_a_06_TE                B         2         1      0      0      0      0      1      0      0    C34-5   \n",
        "744   2013.1.01142.S      uid://A001/X130/X12          Ready                         m33-1_a_03_TE                B         2         1      0      0      0      0      1      1      0    C34-5   \n",
        "15    2013.1.01172.S     uid://A001/X12a/X1e0          Ready                      ngc_1614_b_03_TE                B         2         1      0      0      0      1      1      1      0    C34-4   \n",
        "1407  2013.1.01192.S      uid://A001/X12d/Xdd        Waiting                      NGC_2264_a_07_TE                B         2         1      0      0      1      1      0      0      0    C34-3   \n",
        "173   2013.1.01258.S     uid://A001/X122/X3c7          Ready                      aztec3-p_a_07_TE                B         4         1      1      1      1      1      1      1      0    C34-1   \n",
        "1341  2013.1.01271.S     uid://A001/X121/X468          Ready                       UDF6462_a_06_TE                B         6         2      0      0      0      0      1      1      0    C34-5   \n",
        "393   2013.1.01312.S      uid://A001/X122/Xec          Ready                           M83_a_03_TE                A         4         2      0      0      1      1      0      0      0    C34-3   \n",
        "1925  2013.1.01365.S      uid://A001/X12f/X99          Ready                       W43-MM1_a_06_TE                B         3         1      0      0      0      0      1      0      0    C34-5   \n",
        "\n",
        "            OBSPROJECT_UID  \n",
        "217    uid://A001/Xa0/X2b5  \n",
        "710    uid://A001/Xa0/X310  \n",
        "1088   uid://A001/Xa0/X357  \n",
        "565    uid://A001/Xa0/X494  \n",
        "828    uid://A001/Xa0/X612  \n",
        "1753   uid://A001/Xa0/X62f  \n",
        "1821   uid://A001/Xa0/X673  \n",
        "130    uid://A001/Xa0/X805  \n",
        "135    uid://A001/Xa0/X805  \n",
        "136    uid://A001/Xa0/X805  \n",
        "1816   uid://A001/Xa0/X89d  \n",
        "2247   uid://A001/Xa0/Xbd0  \n",
        "1715   uid://A001/Xa0/Xc5b  \n",
        "1489   uid://A001/Xa0/Xdf8  \n",
        "1491   uid://A001/Xa0/Xdf8  \n",
        "954   uid://A001/Xa0/X12ed  \n",
        "955   uid://A001/Xa0/X12ed  \n",
        "956   uid://A001/Xa0/X12ed  \n",
        "957   uid://A001/Xa0/X12ed  \n",
        "277   uid://A001/Xa0/X1316  \n",
        "168   uid://A001/Xa0/X1337  \n",
        "1132  uid://A001/Xa0/X14be  \n",
        "738   uid://A001/Xa0/X1619  \n",
        "434   uid://A001/Xa0/X1808  \n",
        "403   uid://A001/Xa0/X192b  \n",
        "404   uid://A001/Xa0/X192b  \n",
        "406   uid://A001/Xa0/X193d  \n",
        "729   uid://A001/Xa0/X1a77  \n",
        "734   uid://A001/Xa0/X1a77  \n",
        "360    uid://A001/X106/X2f  \n",
        "...                    ...  \n",
        "1260   uid://A001/X10b/X7f  \n",
        "1635   uid://A001/X10f/X41  \n",
        "348    uid://A001/X10f/Xb7  \n",
        "350    uid://A001/X10f/Xb7  \n",
        "2011   uid://A001/X10f/Xc4  \n",
        "2062   uid://A001/X10e/Xe2  \n",
        "161    uid://A001/X10e/Xe9  \n",
        "673   uid://A001/X10e/X1fa  \n",
        "674   uid://A001/X10e/X1fa  \n",
        "720   uid://A001/X10f/X25f  \n",
        "408   uid://A001/X10e/X36d  \n",
        "817   uid://A001/X10e/X399  \n",
        "1158  uid://A001/X10e/X46b  \n",
        "1165  uid://A001/X10e/X46b  \n",
        "1667  uid://A001/X10e/X479  \n",
        "1120  uid://A001/X10e/X62e  \n",
        "1875  uid://A001/X10e/X65f  \n",
        "655   uid://A001/X10e/X6da  \n",
        "1211  uid://A001/X10e/X751  \n",
        "620   uid://A001/X10f/X76f  \n",
        "2176  uid://A001/X10e/X8b1  \n",
        "813   uid://A001/X10e/X8bd  \n",
        "1482   uid://A001/X113/X86  \n",
        "744   uid://A001/X113/X101  \n",
        "15    uid://A001/X112/X1a4  \n",
        "1407  uid://A001/X113/X1f1  \n",
        "173   uid://A001/X113/X362  \n",
        "1341  uid://A001/X112/X347  \n",
        "393   uid://A001/X113/X46f  \n",
        "1925  uid://A001/X112/X528  \n",
        "\n",
        "[61 rows x 16 columns]"
       ]
      }
     ],
     "prompt_number": 17
    },
    {
     "cell_type": "code",
     "collapsed": false,
     "input": [
      "tp_sb = df.query('array == \"TP-Array\" and observed < execount and phase == \"II\" and SB_STATE in [\"Ready\", \"Suspended\"] and band == \"ALMA_RB_03\"').SB_UID.values"
     ],
     "language": "python",
     "metadata": {},
     "outputs": [],
     "prompt_number": 21
    },
    {
     "cell_type": "code",
     "collapsed": false,
     "input": [
      "tp_sb_science = datas.fieldsource.query('SB_UID in @tp_sb and name == \"Primary:\"').SB_UID.unique()"
     ],
     "language": "python",
     "metadata": {},
     "outputs": [],
     "prompt_number": 24
    },
    {
     "cell_type": "code",
     "collapsed": false,
     "input": [
      "df.query('SB_UID in @tp_sb_science and observed > 0').sort('LST')[['CODE', 'SB_UID', 'sbName', 'SB_STATE', 'execount', 'observed','RA','DEC','LST']].to_excel('/home/itoledo/Downloads/tp_b3_started.xls')"
     ],
     "language": "python",
     "metadata": {},
     "outputs": [],
     "prompt_number": 33
    },
    {
     "cell_type": "code",
     "collapsed": false,
     "input": [
      "df.query('SB_UID in @tp_sb_science and observed == 0').sort('LST')[['CODE', 'SB_UID', 'sbName', 'SB_STATE', 'execount', 'observed','RA','DEC','LST']].to_excel('/home/itoledo/Downloads/tp_b3_not_started.xls')"
     ],
     "language": "python",
     "metadata": {},
     "outputs": [],
     "prompt_number": 34
    },
    {
     "cell_type": "code",
     "collapsed": false,
     "input": [
      "df.plot('repfreq', 'maxPWVC', kind='scatter')"
     ],
     "language": "python",
     "metadata": {},
     "outputs": [
      {
       "metadata": {},
       "output_type": "pyout",
       "prompt_number": 13,
       "text": [
        "<matplotlib.axes._subplots.AxesSubplot at 0x7f7930b58790>"
       ]
      },
      {
       "metadata": {},
       "output_type": "display_data",
       "png": "[encoded data removed]",
       "text": [
        "<matplotlib.figure.Figure at 0x7f7930b4bd50>"
       ]
      }
     ],
     "prompt_number": 13
    }
   ],
   "metadata": {}
  }
 ]
}