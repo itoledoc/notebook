{
 "metadata": {
  "name": "",
  "signature": "sha256:f61ad6c6561ea64b2a45c1f3e1cb01d3ce74369ed7609d739eb54bafce04f221"
 },
 "nbformat": 3,
 "nbformat_minor": 0,
 "worksheets": [
  {
   "cells": [
    {
     "cell_type": "heading",
     "level": 1,
     "metadata": {},
     "source": [
      "Creating a csv file with the allowed configuration per SB"
     ]
    },
    {
     "cell_type": "markdown",
     "metadata": {},
     "source": [
      "We create a file with the allowed configuration for all SBs, regardless of Cycle and Status. The file has 13 columns:\n",
      "\n",
      "* CODE                 Project Code\n",
      "* PRJ_LETTER_GRADE     Project Grade\n",
      "* SB_UID               SB UID\n",
      "* SB_STATE             SB Status (from PT)\n",
      "* sbName               SB Name\n",
      "* execount             Requested Executions\n",
      "* observed             Number of observations done (QA0 pass/unset)\n",
      "* C34_1                Allows C34-1? (0 or False if not, 1 or True if yes)\n",
      "* C34_2                Allows C34-2?\n",
      "* C34_3                Allows C34-3?\n",
      "* C34_4                Allows C34-4?\n",
      "* C34_5                Allows C34-5?\n",
      "* C34_6                Allows C34-6?\n",
      "* C34_7                Allows C34-7?\n"
     ]
    },
    {
     "cell_type": "code",
     "collapsed": false,
     "input": [
      "import DataBase as db"
     ],
     "language": "python",
     "metadata": {},
     "outputs": [],
     "prompt_number": 1
    },
    {
     "cell_type": "code",
     "collapsed": false,
     "input": [
      "datas = db.Database()"
     ],
     "language": "python",
     "metadata": {},
     "outputs": []
    },
    {
     "cell_type": "code",
     "collapsed": false,
     "input": [
      "datas.process_sbs()"
     ],
     "language": "python",
     "metadata": {},
     "outputs": []
    },
    {
     "cell_type": "code",
     "collapsed": false,
     "input": [
      "datas.do_summarize_sb()"
     ],
     "language": "python",
     "metadata": {},
     "outputs": []
    },
    {
     "cell_type": "code",
     "collapsed": false,
     "input": [
      "sb12m = datas.summary_sb.query('array == \"TWELVE-M\"')[['CODE', 'PRJ_LETTER_GRADE', 'SB_UID', 'SB_STATE', 'sbName', 'execount', 'observed', 'C34_1', 'C34_2', 'C34_3', 'C34_4', 'C34_5', 'C34_6', 'C34_7']]"
     ],
     "language": "python",
     "metadata": {},
     "outputs": []
    },
    {
     "cell_type": "code",
     "collapsed": false,
     "input": [
      "sb12m.head()"
     ],
     "language": "python",
     "metadata": {},
     "outputs": []
    },
    {
     "cell_type": "code",
     "collapsed": false,
     "input": [
      "sb12m.to_csv('sb_allowedConf.csv', index=False)"
     ],
     "language": "python",
     "metadata": {},
     "outputs": []
    },
    {
     "cell_type": "code",
     "collapsed": false,
     "input": [
      "sb12m.dtypes"
     ],
     "language": "python",
     "metadata": {},
     "outputs": []
    }
   ],
   "metadata": {}
  }
 ]
}