{
 "metadata": {
  "name": "",
  "signature": "sha256:4d6ed440e34fc4f9cafeac9b1bb284112125027d3d7fb7a6ed46d9756b850743"
 },
 "nbformat": 3,
 "nbformat_minor": 0,
 "worksheets": [
  {
   "cells": [
    {
     "cell_type": "heading",
     "level": 1,
     "metadata": {},
     "source": [
      "Creating a csv file with the allowed configuration per SB"
     ]
    },
    {
     "cell_type": "markdown",
     "metadata": {},
     "source": [
      "We create a file with the allowed configuration for all SBs, regardless of Cycle and Status. The file has 13 columns:\n",
      "\n",
      "* CODE                 Project Code\n",
      "* PRJ_LETTER_GRADE     Project Grade\n",
      "* SB_UID               SB UID\n",
      "* SB_STATE             SB Status (from PT)\n",
      "* sbName               SB Name\n",
      "* execount             Requested Executions\n",
      "* observed             Number of observations done (QA0 pass/unset)\n",
      "* C34_1                Allows C34-1? (0 or False if not, 1 or True if yes)\n",
      "* C34_2                Allows C34-2?\n",
      "* C34_3                Allows C34-3?\n",
      "* C34_4                Allows C34-4?\n",
      "* C34_5                Allows C34-5?\n",
      "* C34_6                Allows C34-6?\n",
      "* C34_7                Allows C34-7?\n"
     ]
    },
    {
     "cell_type": "code",
     "collapsed": false,
     "input": [
      "import DataBase as db"
     ],
     "language": "python",
     "metadata": {},
     "outputs": [],
     "prompt_number": 1
    },
    {
     "cell_type": "code",
     "collapsed": false,
     "input": [
      "datas = db.Database()"
     ],
     "language": "python",
     "metadata": {},
     "outputs": [],
     "prompt_number": 2
    },
    {
     "cell_type": "code",
     "collapsed": false,
     "input": [
      "datas.process_sbs()"
     ],
     "language": "python",
     "metadata": {},
     "outputs": [],
     "prompt_number": 3
    },
    {
     "cell_type": "code",
     "collapsed": false,
     "input": [
      "datas.do_summarize_sb()"
     ],
     "language": "python",
     "metadata": {},
     "outputs": [
      {
       "output_type": "stream",
       "stream": "stdout",
       "text": [
        "42\n"
       ]
      }
     ],
     "prompt_number": 4
    },
    {
     "cell_type": "code",
     "collapsed": false,
     "input": [
      "sb12m = datas.summary_sb.query('array == \"TWELVE-M\"')[['CODE', 'PRJ_LETTER_GRADE', 'SB_UID', 'SB_STATE', 'sbName', 'execount', 'observed', 'C34_1', 'C34_2', 'C34_3', 'C34_4', 'C34_5', 'C34_6', 'C34_7']]"
     ],
     "language": "python",
     "metadata": {},
     "outputs": [],
     "prompt_number": 5
    },
    {
     "cell_type": "code",
     "collapsed": false,
     "input": [
      "sb12m.head()"
     ],
     "language": "python",
     "metadata": {},
     "outputs": [
      {
       "html": [
        "<div style=\"max-height:1000px;max-width:1500px;overflow:auto;\">\n",
        "<table border=\"1\" class=\"dataframe\">\n",
        "  <thead>\n",
        "    <tr style=\"text-align: right;\">\n",
        "      <th></th>\n",
        "      <th>CODE</th>\n",
        "      <th>PRJ_LETTER_GRADE</th>\n",
        "      <th>SB_UID</th>\n",
        "      <th>SB_STATE</th>\n",
        "      <th>sbName</th>\n",
        "      <th>execount</th>\n",
        "      <th>observed</th>\n",
        "      <th>C34_1</th>\n",
        "      <th>C34_2</th>\n",
        "      <th>C34_3</th>\n",
        "      <th>C34_4</th>\n",
        "      <th>C34_5</th>\n",
        "      <th>C34_6</th>\n",
        "      <th>C34_7</th>\n",
        "    </tr>\n",
        "  </thead>\n",
        "  <tbody>\n",
        "    <tr>\n",
        "      <th>0</th>\n",
        "      <td> 2013.1.00834.S</td>\n",
        "      <td> B</td>\n",
        "      <td> uid://A001/X121/X444</td>\n",
        "      <td>         Ready</td>\n",
        "      <td> Sgr_A_st_a_03_TE</td>\n",
        "      <td> 1</td>\n",
        "      <td> 0</td>\n",
        "      <td> 0</td>\n",
        "      <td> 0</td>\n",
        "      <td> 0</td>\n",
        "      <td> 0</td>\n",
        "      <td> 0</td>\n",
        "      <td> 1</td>\n",
        "      <td> 1</td>\n",
        "    </tr>\n",
        "    <tr>\n",
        "      <th>1</th>\n",
        "      <td> 2013.1.00033.S</td>\n",
        "      <td> A</td>\n",
        "      <td>   uid://A001/X11f/Xc</td>\n",
        "      <td> FullyObserved</td>\n",
        "      <td> IRAS_205_a_07_TE</td>\n",
        "      <td> 1</td>\n",
        "      <td> 1</td>\n",
        "      <td> 0</td>\n",
        "      <td> 1</td>\n",
        "      <td> 1</td>\n",
        "      <td> 1</td>\n",
        "      <td> 1</td>\n",
        "      <td> 1</td>\n",
        "      <td> 0</td>\n",
        "    </tr>\n",
        "    <tr>\n",
        "      <th>2</th>\n",
        "      <td> 2013.1.00033.S</td>\n",
        "      <td> A</td>\n",
        "      <td>   uid://A001/X11f/Xd</td>\n",
        "      <td> FullyObserved</td>\n",
        "      <td> IRAS_205_b_07_TE</td>\n",
        "      <td> 1</td>\n",
        "      <td> 1</td>\n",
        "      <td> 0</td>\n",
        "      <td> 1</td>\n",
        "      <td> 1</td>\n",
        "      <td> 1</td>\n",
        "      <td> 1</td>\n",
        "      <td> 1</td>\n",
        "      <td> 0</td>\n",
        "    </tr>\n",
        "    <tr>\n",
        "      <th>3</th>\n",
        "      <td> 2013.1.00033.S</td>\n",
        "      <td> A</td>\n",
        "      <td>   uid://A001/X11f/Xe</td>\n",
        "      <td> FullyObserved</td>\n",
        "      <td> IRAS_205_a_06_TE</td>\n",
        "      <td> 1</td>\n",
        "      <td> 1</td>\n",
        "      <td> 0</td>\n",
        "      <td> 0</td>\n",
        "      <td> 1</td>\n",
        "      <td> 1</td>\n",
        "      <td> 1</td>\n",
        "      <td> 1</td>\n",
        "      <td> 0</td>\n",
        "    </tr>\n",
        "    <tr>\n",
        "      <th>4</th>\n",
        "      <td> 2013.1.00033.S</td>\n",
        "      <td> A</td>\n",
        "      <td>   uid://A001/X11f/Xf</td>\n",
        "      <td> FullyObserved</td>\n",
        "      <td> IRAS_205_b_06_TE</td>\n",
        "      <td> 1</td>\n",
        "      <td> 1</td>\n",
        "      <td> 0</td>\n",
        "      <td> 0</td>\n",
        "      <td> 1</td>\n",
        "      <td> 1</td>\n",
        "      <td> 1</td>\n",
        "      <td> 1</td>\n",
        "      <td> 0</td>\n",
        "    </tr>\n",
        "  </tbody>\n",
        "</table>\n",
        "</div>"
       ],
       "metadata": {},
       "output_type": "pyout",
       "prompt_number": 6,
       "text": [
        "             CODE PRJ_LETTER_GRADE                SB_UID       SB_STATE            sbName execount  observed  C34_1  C34_2  C34_3  C34_4  C34_5  C34_6  C34_7\n",
        "0  2013.1.00834.S                B  uid://A001/X121/X444          Ready  Sgr_A_st_a_03_TE        1         0      0      0      0      0      0      1      1\n",
        "1  2013.1.00033.S                A    uid://A001/X11f/Xc  FullyObserved  IRAS_205_a_07_TE        1         1      0      1      1      1      1      1      0\n",
        "2  2013.1.00033.S                A    uid://A001/X11f/Xd  FullyObserved  IRAS_205_b_07_TE        1         1      0      1      1      1      1      1      0\n",
        "3  2013.1.00033.S                A    uid://A001/X11f/Xe  FullyObserved  IRAS_205_a_06_TE        1         1      0      0      1      1      1      1      0\n",
        "4  2013.1.00033.S                A    uid://A001/X11f/Xf  FullyObserved  IRAS_205_b_06_TE        1         1      0      0      1      1      1      1      0"
       ]
      }
     ],
     "prompt_number": 6
    },
    {
     "cell_type": "code",
     "collapsed": false,
     "input": [
      "sb12m.to_csv('sb_allowedConf.csv', index=False)"
     ],
     "language": "python",
     "metadata": {},
     "outputs": [],
     "prompt_number": 7
    },
    {
     "cell_type": "code",
     "collapsed": false,
     "input": [
      "sb12m.dtypes"
     ],
     "language": "python",
     "metadata": {},
     "outputs": [
      {
       "metadata": {},
       "output_type": "pyout",
       "prompt_number": 8,
       "text": [
        "CODE                 object\n",
        "PRJ_LETTER_GRADE     object\n",
        "SB_UID               object\n",
        "SB_STATE             object\n",
        "sbName               object\n",
        "execount             object\n",
        "observed            float64\n",
        "C34_1                 int64\n",
        "C34_2                 int64\n",
        "C34_3                 int64\n",
        "C34_4                 int64\n",
        "C34_5                 int64\n",
        "C34_6                 int64\n",
        "C34_7                 int64\n",
        "dtype: object"
       ]
      }
     ],
     "prompt_number": 8
    }
   ],
   "metadata": {}
  }
 ]
}