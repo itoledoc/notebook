{
 "cells": [
  {
   "cell_type": "markdown",
   "metadata": {},
   "source": [
    "# Reamining Report"
   ]
  },
  {
   "cell_type": "markdown",
   "metadata": {},
   "source": [
    "If you don't have the APA libraries installed on your machine, do this work on the `osf-red.aiv.alma.cl` machine, logging as `aod`. Once there you should load first the appropriate environmen variable:\n",
    "\n",
    "```\n",
    "[user@localhost ~] $ ssh -Y aod@osf-red.aiv.alma.cl\n",
    "************************************************\n",
    "Hi, you are logging onto OSF-RED which is a resource limited machine.\n",
    "Please note:\n",
    "  - keep your home directory usage  light ( less than 10Gb)\n",
    "  - If possible, do your analysis on the local disks (/work_area) but move back the results of your work on the network mounted drives ( /data2/data) once done\n",
    "  - **Most important**, if you are going to be a heavy user ( defined a doing Science verification data analysis, or running a large data analysis for more than 1 day), please email local scientists email list (science-only@alma.cl) as a courtesy warning.\n",
    "************************************************\n",
    "aod@osf-red.aiv.alma.cl's password: \n",
    "\n",
    "\n",
    "[aod@osf-red ~]$ . activateC2Test\n",
    "(anaconda)[aod@osf-red ~]$ ipython\n",
    "\n",
    "\n",
    "```\n",
    "\n",
    "The first step is to load the required libraries, and then the cycle_tools"
   ]
  },
  {
   "cell_type": "code",
   "execution_count": 1,
   "metadata": {
    "collapsed": false
   },
   "outputs": [],
   "source": [
    "# The first line is only for the IPython Notebook interface\n",
    "# If you are working in the ipython console replace by `%matplotlib`\n",
    "%matplotlib inline\n",
    "\n",
    "import DataBase as db\n",
    "import pandas as pd\n",
    "import numpy as np\n",
    "import datetime as dt\n",
    "import ephem\n",
    "\n",
    "import matplotlib.pyplot as plt\n",
    "import seaborn as sns\n",
    "\n",
    "import cx_Oracle\n",
    "import os\n",
    "\n",
    "import cycle_tools as ct\n",
    "import plotly.plotly as py"
   ]
  },
  {
   "cell_type": "markdown",
   "metadata": {},
   "source": [
    "## Load APA database, process SBs and create summary Dataframe"
   ]
  },
  {
   "cell_type": "code",
   "execution_count": 2,
   "metadata": {
    "collapsed": false
   },
   "outputs": [],
   "source": [
    "datas = db.Database()"
   ]
  },
  {
   "cell_type": "code",
   "execution_count": 3,
   "metadata": {
    "collapsed": false
   },
   "outputs": [
    {
     "name": "stdout",
     "output_type": "stream",
     "text": [
      "42\n"
     ]
    }
   ],
   "source": [
    "datas.process_sbs()\n",
    "datas.do_summarize_sb()"
   ]
  },
  {
   "cell_type": "markdown",
   "metadata": {},
   "source": [
    "## Create dates table for Cycle 2\n",
    "\n",
    "1. Create the `ephem.Observer` instance with the ALMA AOS location.\n",
    "2. Create a `date_df` dataframe that will contain information for each day of observations planned for the\n",
    "   remaining of Cycle 2."
   ]
  },
  {
   "cell_type": "code",
   "execution_count": 4,
   "metadata": {
    "collapsed": false
   },
   "outputs": [],
   "source": [
    "alma1 = ephem.Observer()\n",
    "alma1.lat = '-23.0262015'\n",
    "alma1.long = '-67.7551257'\n",
    "alma1.elev = 5060\n",
    "\n",
    "data_ar = ct.create_dates(ct.es_cycle2)\n",
    "\n",
    "date_df = pd.DataFrame(\n",
    "   np.array(data_ar),\n",
    "   columns=['start', 'end', 'block', 'C34_1', 'C34_2', 'C34_3', 'C34_4', 'C34_5', 'C34_6', 'C34_7'])\n",
    "\n",
    "lst_times = date_df.apply(lambda r: ct.day_night(r['start'], r['end'], alma1), axis=1)\n",
    "date_df = pd.concat([date_df, lst_times], axis=1)\n",
    "date_df['available_time'] = date_df.apply(lambda r: (r['end'] - r['start']).total_seconds() / 3600., axis=1)"
   ]
  },
  {
   "cell_type": "markdown",
   "metadata": {},
   "source": [
    "The `date_df` dataframe can be exported to an excel file, if you need to review the time table created. The `ct.es_cycle2` is python list of lists. Each element list has the format:\n",
    "\n",
    "```\n",
    "['YYYY-MM-DD', 'YYYY-MM-DD', <block_name>, [n1, n2, ..]]\n",
    "```\n",
    "\n",
    "Where the first string is the starting date of a block, the second is the end date, the third is a string with the name of block, and the list can have between 1 and 7 values, that report the Configuration expected for that block. The default list (`ct.es_cycle2`) is:\n",
    "\n",
    "```\n",
    "es_cycle2 = [\n",
    "    ['2015-03-31', '2015-04-06', 'block17', [1, 2]],\n",
    "    ['2015-04-07', '2015-04-13', 'block18', [1, 2]],\n",
    "    ['2015-04-21', '2015-04-27', 'block19', [1, 2]],\n",
    "    ['2015-04-28', '2015-05-04', 'block20', [1, 2]],\n",
    "    ['2015-05-12', '2015-05-18', 'block21', [3, 4]],\n",
    "    ['2015-05-19', '2015-05-25', 'block22', [3, 4]],\n",
    "    ['2015-06-02', '2015-06-08', 'block23', [5]],\n",
    "    ['2015-06-09', '2015-06-15', 'block24', [5]],\n",
    "    ['2015-06-23', '2015-06-29', 'block25', [7]],\n",
    "    ['2015-06-30', '2015-07-06', 'block26', [7]],\n",
    "    ['2015-07-14', '2015-07-20', 'block27', [7]],\n",
    "    ['2015-07-21', '2015-07-27', 'block28', [7]],\n",
    "    ['2015-08-04', '2015-08-10', 'block29', [6]],\n",
    "    ['2015-08-11', '2015-08-17', 'block30', [6]],\n",
    "    ['2015-08-25', '2015-08-31', 'block31', [7, 6]],\n",
    "    ['2015-09-01', '2015-09-07', 'block32', [7, 6]],\n",
    "    ['2015-09-15', '2015-09-21', 'block33', [7, 6]],\n",
    "    ['2015-09-22', '2015-09-28', 'block34', [7, 6]]\n",
    "]\n",
    "```"
   ]
  },
  {
   "cell_type": "markdown",
   "metadata": {},
   "source": [
    "## Retrieve PI contact data"
   ]
  },
  {
   "cell_type": "code",
   "execution_count": 5,
   "metadata": {
    "collapsed": false
   },
   "outputs": [],
   "source": [
    "conx_string = os.environ['CON_STR']\n",
    "connection = cx_Oracle.connect(conx_string)\n",
    "cursor = connection.cursor()\n",
    "cursor.execute('SELECT ACCOUNT_ID, LASTNAME, FIRSTNAME, EMAIL FROM ALMA.ACCOUNT')\n",
    "users = pd.DataFrame(\n",
    "                cursor.fetchall(),\n",
    "                columns=[rec[0] for rec in cursor.description])"
   ]
  },
  {
   "cell_type": "markdown",
   "metadata": {},
   "source": [
    "## Correct time estimates for the 12m SBs, and add PI/Executive information\n",
    "\n",
    "* Calculate better time estimate per SB (SB_ETC2_exec) using the number of targets and integration time\n",
    "* Merge table with PI information and EXECUTIVE"
   ]
  },
  {
   "cell_type": "code",
   "execution_count": 6,
   "metadata": {
    "collapsed": false
   },
   "outputs": [],
   "source": [
    "d1 = pd.merge(datas.target, datas.scienceparam, on=['SB_UID', 'paramRef'])\n",
    "d1 = pd.merge(d1, datas.fieldsource, on=['SB_UID', 'fieldRef'])\n",
    "d1 = d1[d1.name.str.contains('Primary')]\n",
    "inttimes = d1.groupby('SB_UID').intTime.sum().reset_index()\n",
    "inttimes['intTime'] = inttimes.intTime / 3600.\n",
    "summary = pd.merge(datas.summary_sb, inttimes, on='SB_UID')\n",
    "summary['SB_ETC2_exec'] = summary.intTime * 1.0972 + 0.4712"
   ]
  },
  {
   "cell_type": "markdown",
   "metadata": {},
   "source": [
    "## Add a column with the project completion ratio"
   ]
  },
  {
   "cell_type": "code",
   "execution_count": 7,
   "metadata": {
    "collapsed": true
   },
   "outputs": [],
   "source": [
    "# Add columns relevant to projects started\n",
    "aqua = datas.aqua_execblock.query('QA0STATUS == \"Pass\"').copy()\n",
    "aqua.dropna(inplace=True)\n",
    "aqua['totExecTime'] = aqua.apply(lambda r: (r['ENDTIME'] - r['STARTTIME']).total_seconds() / 3600., axis=1)\n",
    "aqua_times = aqua.groupby('SB_UID').sum().reset_index(drop=False)\n",
    "\n",
    "pro_df = summary.query('array == \"TWELVE-M\"').groupby('CODE')[['execount', 'observed']].sum().sort()\n",
    "pro_df = pd.merge(pro_df, pd.merge(summary.query('array == \"TWELVE-M\"')[['CODE', 'SB_UID']], aqua_times, on='SB_UID').groupby('CODE').sum(), left_index=True, right_index=True, how='outer').fillna(0)\n",
    "pro_df['proj_comp_per'] = pro_df.observed / pro_df.execount\n",
    "\n",
    "summary = pd.merge(summary, pro_df[['proj_comp_per']], left_on='CODE', right_index=True)"
   ]
  },
  {
   "cell_type": "markdown",
   "metadata": {},
   "source": [
    "## `remaining_all` dataframe: first iteration\n",
    "\n",
    "We create a `remaining_all` dataframe that includes only:\n",
    "\n",
    "* SBs for 12m arrays\n",
    "* SB State must not be FullyObserved nor Cancelled\n",
    "* SB's parent project is grade A or B"
   ]
  },
  {
   "cell_type": "code",
   "execution_count": 8,
   "metadata": {
    "collapsed": true
   },
   "outputs": [],
   "source": [
    "remaining_all = summary.query(\n",
    "    'array == \"TWELVE-M\" and phase == \"II\" and '\n",
    "    'SB_STATE not in [\"FullyObserved\", \"Canceled\"] and '\n",
    "    'PRJ_LETTER_GRADE in [\"A\", \"B\"]')\n",
    "remaining_all = pd.merge(remaining_all, datas.projects[['OBSPROJECT_UID', 'PI', 'EXEC']], on='OBSPROJECT_UID')\n",
    "remaining_all = pd.merge(remaining_all, users, left_on='PI', right_on='ACCOUNT_ID')\n",
    "remaining_all = pd.merge(remaining_all, datas.sciencegoals[['SG_ID', 'two_12m']], on='SG_ID', how='left')"
   ]
  },
  {
   "cell_type": "markdown",
   "metadata": {},
   "source": [
    "## Detect Projects with SBs having  ephemeris or/and number of executions equal or higher than the number of requested executions"
   ]
  },
  {
   "cell_type": "code",
   "execution_count": 9,
   "metadata": {
    "collapsed": false
   },
   "outputs": [
    {
     "name": "stdout",
     "output_type": "stream",
     "text": [
      "['2012.1.00064.S', '2013.1.01366.T', '2012.1.00624.S', '2012.1.01123.S', '2012.1.00853.S']\n",
      "['2012.1.00064.S', '2012.1.00743.S']\n"
     ]
    }
   ],
   "source": [
    "p1 = pd.merge(datas.scienceparam, datas.target, on=['paramRef', 'SB_UID'])\n",
    "p2 = pd.merge(p1, datas.fieldsource, on=['fieldRef', 'SB_UID'])\n",
    "p3 = p2[\n",
    "    ['fieldRef', 'SB_UID', 'solarSystem', 'name', 'intendedUse', 'arraySB']\n",
    "].query(\n",
    "    'arraySB == \"TWELVE-M\" and solarSystem != \"Unspecified\"').SB_UID.values\n",
    "remaining_ephem_codes = remaining_all.query('SB_UID in @p3').CODE.unique().tolist()\n",
    "remaining_problem_codes = remaining_all.query('observed >= execount').CODE.unique().tolist()\n",
    "print remaining_ephem_codes\n",
    "print remaining_problem_codes\n",
    "outcod = []\n",
    "outcod.extend(remaining_ephem_codes)\n",
    "outcod.extend(remaining_problem_codes)\n",
    "remaining = remaining_all.query('CODE not in @outcod')"
   ]
  },
  {
   "cell_type": "markdown",
   "metadata": {},
   "source": [
    "## Calculate Observational parameter for each SB: LST at rise, LST at set, and ammount of time over 20 degrees."
   ]
  },
  {
   "cell_type": "code",
   "execution_count": 10,
   "metadata": {
    "collapsed": false
   },
   "outputs": [],
   "source": [
    "alma1.horizon = ephem.degrees('20')\n",
    "obs_param = remaining.apply(lambda r: ct.observable(r['RA'], r['DEC'], alma1, r['SB_UID']), axis=1)\n",
    "remaining = pd.merge(remaining, obs_param, on='SB_UID').sort('CODE')"
   ]
  },
  {
   "cell_type": "code",
   "execution_count": 11,
   "metadata": {
    "collapsed": false
   },
   "outputs": [],
   "source": [
    "availability = remaining.apply(lambda r: ct.avail_calc(r['rise'], r['set'], r['C34_1'], r['C34_2'], r['C34_3'], r['C34_4'], r['C34_5'], r['C34_6'],  r['C34_7'], r['up'], r['band'], date_df), axis=1)"
   ]
  },
  {
   "cell_type": "code",
   "execution_count": 12,
   "metadata": {
    "collapsed": false
   },
   "outputs": [],
   "source": [
    "remaining = pd.concat([remaining, availability], axis=1)\n",
    "remaining.RA /= 15.\n",
    "remaining['SBremExec'] = remaining.execount - remaining.observed \n",
    "remaining['SBtimeNeedComp'] = remaining.SB_ETC2_exec * remaining.SBremExec"
   ]
  },
  {
   "cell_type": "code",
   "execution_count": 13,
   "metadata": {
    "collapsed": false
   },
   "outputs": [],
   "source": [
    "remaining['stale'] = remaining.apply(lambda r: 'SB Stale' if r['observed'] > 0 and (r['C34_1'] == 0 and r['C34_2'] == 0) else 'SB Ready', axis=1)\n",
    "remaining['proj_started'] = remaining.apply(lambda r: 'Prj. Stale' if r['proj_comp_per'] > 0 else 'Prj. Ready', axis=1)\n",
    "unlikely = remaining.query('available_hours == 0').copy()\n",
    "critical = remaining.query('24 > available_hours > 0').copy()\n",
    "ok = remaining.query('available_hours >= 24').copy()\n",
    "\n",
    "unlikely['Problem'] = 'Null SBEL'\n",
    "critical['Problem'] = 'Low SBEL'\n",
    "ok['Problem'] = 'High SBEL'\n",
    "\n",
    "codep2 = unlikely.SB_UID.values\n",
    "codep1 = critical.SB_UID.values\n",
    "codep0 = ok.SB_UID.values\n",
    "\n",
    "remaining['Problem'] = 'High SBEL'\n",
    "remaining['Problem'] = remaining.apply(lambda r: 'Null SBEL' if r['SB_UID'] in codep2 else r['Problem'], axis=1)\n",
    "remaining['Problem'] = remaining.apply(lambda r: 'Low SBEL' if r['SB_UID'] in codep1 else r['Problem'], axis=1)\n",
    "\n",
    "proj_unlikely = remaining.query('Problem == \"Null SBEL\"').CODE.unique()\n",
    "proj_critical = remaining.query('Problem == \"Low SBEL\" and CODE not in @proj_unlikely').CODE.unique()\n",
    "proj_ok = remaining.query('Problem == \"High SBEL\" and CODE not in @proj_unlikely and CODE not in @proj_critical').CODE.unique()\n",
    "\n",
    "remaining['Prj. Problem'] = 'High PCL'\n",
    "remaining['Prj. Problem'] = remaining.apply(lambda r: 'Null PCL' if r['CODE'] in proj_unlikely else r['Prj. Problem'], axis=1)\n",
    "remaining['Prj. Problem'] = remaining.apply(lambda r: 'Low PCL' if r['CODE'] in proj_critical else r['Prj. Problem'], axis=1)"
   ]
  },
  {
   "cell_type": "code",
   "execution_count": 14,
   "metadata": {
    "collapsed": true
   },
   "outputs": [],
   "source": [
    "remaining['Cycle'] = remaining.apply(lambda r: 'Cycle 2' if r['isCycle2'] == True else 'Cycle 1', axis=1)"
   ]
  },
  {
   "cell_type": "code",
   "execution_count": 15,
   "metadata": {
    "collapsed": false
   },
   "outputs": [],
   "source": [
    "compact_high = remaining.query(\n",
    "    'C34_3 == 0 and C34_4 == 0 and C34_5 == 0 and C34_6 == 0 and '\n",
    "    'C34_7 == 0 and Problem == \"Null SBEL\" and band in [\"ALMA_RB_08\", \"ALMA_RB_09\"]'\n",
    ").SB_UID.values\n",
    "\n",
    "high_day = remaining.query(\n",
    "    'Problem == \"Null SBEL\" and '\n",
    "    'band in [\"ALMA_RB_07\", \"ALMA_RB_08\", \"ALMA_RB_09\"] and SB_UID not in @compact_high'\n",
    ").SB_UID.values\n",
    "\n",
    "remaining['Null SBEL Description'] = ''\n",
    "remaining['Null SBEL Description'] = remaining.apply(\n",
    "    lambda r: 'C34-1/2 High Frequency' if r['SB_UID'] in compact_high else r['Null SBEL Description'],\n",
    "    axis=1)\n",
    "\n",
    "remaining['Null SBEL Description'] = remaining.apply(\n",
    "    lambda r: 'Daytime High Frequency' if r['SB_UID'] in high_day else r['Null SBEL Description'],\n",
    "    axis=1)"
   ]
  },
  {
   "cell_type": "code",
   "execution_count": 16,
   "metadata": {
    "collapsed": false
   },
   "outputs": [],
   "source": [
    "remaining['Representative LST'] = remaining.apply(lambda r: round(r['RA']) if round(r['RA']) != 24 else 0,\n",
    "                                                  axis=1)\n",
    "remaining['SB_ETC2_total'] = remaining.SB_ETC2_exec * remaining.execount\n",
    "remaining['SB_ETC2_remain'] = remaining.SB_ETC2_exec * (remaining.execount - remaining.observed)"
   ]
  },
  {
   "cell_type": "code",
   "execution_count": 20,
   "metadata": {
    "collapsed": false
   },
   "outputs": [],
   "source": [
    "remaining.to_csv('/home/itoledo/Work/reportsR/remaining.csv')"
   ]
  },
  {
   "cell_type": "code",
   "execution_count": 21,
   "metadata": {
    "collapsed": true
   },
   "outputs": [],
   "source": [
    "remaining.to_excel('data/remain.xls')"
   ]
  },
  {
   "cell_type": "code",
   "execution_count": 22,
   "metadata": {
    "collapsed": true
   },
   "outputs": [],
   "source": [
    "remaining_summ = remaining[[\n",
    "    'CODE', 'PI', 'LASTNAME', 'FIRSTNAME', 'EMAIL', 'PRJ_LETTER_GRADE', 'EXEC', 'sbName', 'band', 'repfreq',\n",
    "    'Representative LST', 'SB_ETC2_exec', 'SB_ETC2_total', 'SB_ETC2_remain', 'Problem', 'Null SBEL Description',\n",
    "    'stale', 'two_12m', 'bestconf', 'C34_1', 'C34_2', 'C34_3', 'C34_4', 'C34_5', 'C34_6', 'C34_7']]"
   ]
  },
  {
   "cell_type": "code",
   "execution_count": 23,
   "metadata": {
    "collapsed": false
   },
   "outputs": [],
   "source": [
    "remaining_summ.columns = pd.Index(\n",
    "    [u'Project Code', u'PI', u'PI Last Name', u'PI First Name', u'PI email', u'Grade', u'Executive', u'SB Name',\n",
    "     u'Band', 'Rep. Frequency', u'Representative LST', u'Obs. Time per SB Execution',\n",
    "     u'Obs. Time for SB Completion', u'Obs. Time remaining for SB Completion', \n",
    "     u'SB Execution Likelihood', u'Null SBEL Reason', u'SB Stale Status', u'SB Needs Two 12m Conf.',\n",
    "     'Best Configuration', 'C34-1', 'C34-2', 'C34-3', 'C34-4', 'C34-5', 'C34-6', 'C34-7'], dtype='object')"
   ]
  },
  {
   "cell_type": "code",
   "execution_count": 24,
   "metadata": {
    "collapsed": false
   },
   "outputs": [],
   "source": [
    "remaining_summ.to_excel('data/remaining_summary.xls', index=False, float_format='%.2f')"
   ]
  },
  {
   "cell_type": "code",
   "execution_count": 25,
   "metadata": {
    "collapsed": false,
    "scrolled": false
   },
   "outputs": [
    {
     "data": {
      "text/plain": [
       "<matplotlib.text.Text at 0x7fb66aac76d0>"
      ]
     },
     "execution_count": 25,
     "metadata": {},
     "output_type": "execute_result"
    },
    {
     "data": {
      "image/png": "[encoded data removed]",
      "text/plain": [
       "<matplotlib.figure.Figure at 0x7fb66a979950>"
      ]
     },
     "metadata": {},
     "output_type": "display_data"
    }
   ],
   "source": [
    "# sns.set_style('darkgrid')\n",
    "# color = sns.color_palette()[1]\n",
    "\n",
    "fig = plt.figure(figsize=[6,6])\n",
    "ax = plt.subplot()\n",
    "ax.scatter(remaining_all.SB_ETC_exec, remaining_all.SB_ETC2_exec, alpha=0.6, s=30)\n",
    "ax.set_xlim(0,5)\n",
    "ax.set_ylim(0,5)\n",
    "ax.set_title('SB Time Estimate Correction', fontsize=16)\n",
    "ax.set_xlabel('OT Time Estimate [h]', fontsize=16)\n",
    "ax.set_ylabel('Corrected Time Estimate[h]', fontsize=16)\n"
   ]
  },
  {
   "cell_type": "code",
   "execution_count": null,
   "metadata": {
    "collapsed": false,
    "scrolled": false
   },
   "outputs": [],
   "source": [
    "remaining.groupby(['CODE', 'Problem'])[['sbName']].count().unstack().head()"
   ]
  }
 ],
 "metadata": {
  "kernelspec": {
   "display_name": "Python 2",
   "language": "python",
   "name": "python2"
  },
  "language_info": {
   "codemirror_mode": {
    "name": "ipython",
    "version": 2
   },
   "file_extension": ".py",
   "mimetype": "text/x-python",
   "name": "python",
   "nbconvert_exporter": "python",
   "pygments_lexer": "ipython2",
   "version": "2.7.9"
  }
 },
 "nbformat": 4,
 "nbformat_minor": 0
}
